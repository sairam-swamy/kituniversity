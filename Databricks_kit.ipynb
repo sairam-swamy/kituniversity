{
 "cells": [
  {
   "cell_type": "code",
   "execution_count": 0,
   "metadata": {
    "application/vnd.databricks.v1+cell": {
     "cellMetadata": {
      "byteLimit": 2048000,
      "rowLimit": 10000
     },
     "inputWidgets": {},
     "nuid": "9b84fa0d-27b4-48b9-9202-0aef2c229acb",
     "showTitle": false,
     "tableResultSettingsMap": {},
     "title": ""
    },
    "id": "v_om3e4PJqKA"
   },
   "outputs": [
    {
     "output_type": "execute_result",
     "data": {
      "text/plain": [
       "[FileInfo(path='dbfs:/mnt/input/Customers.csv', name='Customers.csv', size=1413948, modificationTime=1753453941000),\n",
       " FileInfo(path='dbfs:/mnt/input/Products.csv', name='Products.csv', size=302187, modificationTime=1753453940000),\n",
       " FileInfo(path='dbfs:/mnt/input/orders.csv', name='orders.csv', size=2736163, modificationTime=1753453940000),\n",
       " FileInfo(path='dbfs:/mnt/input/student.csv', name='student.csv', size=1602, modificationTime=1753453940000),\n",
       " FileInfo(path='dbfs:/mnt/input/testing.csv', name='testing.csv', size=72137, modificationTime=1753453940000)]"
      ]
     },
     "execution_count": 1,
     "metadata": {},
     "output_type": "execute_result"
    }
   ],
   "source": [
    "dbutils.fs.ls('/mnt/input')"
   ]
  },
  {
   "cell_type": "code",
   "execution_count": 0,
   "metadata": {
    "application/vnd.databricks.v1+cell": {
     "cellMetadata": {
      "byteLimit": 2048000,
      "rowLimit": 10000
     },
     "inputWidgets": {},
     "nuid": "3c3e0e68-026c-40b1-be52-53320189ede8",
     "showTitle": false,
     "tableResultSettingsMap": {},
     "title": ""
    },
    "id": "Vl7cPDqJKFZy"
   },
   "outputs": [],
   "source": [
    "df=spark.read.csv('dbfs:/mnt/input/student.csv',inferSchema=True,header=True)"
   ]
  },
  {
   "cell_type": "code",
   "execution_count": 0,
   "metadata": {
    "application/vnd.databricks.v1+cell": {
     "cellMetadata": {
      "byteLimit": 2048000,
      "rowLimit": 10000
     },
     "inputWidgets": {},
     "nuid": "8a25da15-ac60-4774-9fd3-d7812b5e5192",
     "showTitle": false,
     "tableResultSettingsMap": {},
     "title": ""
    },
    "colab": {
     "base_uri": "https://localhost:8080/"
    },
    "id": "bSA7WS4XKiuM",
    "outputId": "f7a9203d-d900-462f-d859-543ffdc6f302"
   },
   "outputs": [
    {
     "output_type": "execute_result",
     "data": {
      "text/plain": [
       "56"
      ]
     },
     "execution_count": 3,
     "metadata": {},
     "output_type": "execute_result"
    }
   ],
   "source": [
    "df.count()"
   ]
  },
  {
   "cell_type": "code",
   "execution_count": 0,
   "metadata": {
    "application/vnd.databricks.v1+cell": {
     "cellMetadata": {
      "byteLimit": 2048000,
      "rowLimit": 10000
     },
     "inputWidgets": {},
     "nuid": "dc472966-8a49-44e5-b763-b7521898b665",
     "showTitle": false,
     "tableResultSettingsMap": {},
     "title": ""
    },
    "colab": {
     "base_uri": "https://localhost:8080/"
    },
    "id": "LLoANaCaKusc",
    "outputId": "b801c0a2-62da-4439-bc5b-c3e605180d8c"
   },
   "outputs": [
    {
     "output_type": "stream",
     "name": "stdout",
     "output_type": "stream",
     "text": [
      "+----+----------------+-------+------------+---------------+----+------+\n|  id|            name|section|annual_marks|half_year_marks| age|gender|\n+----+----------------+-------+------------+---------------+----+------+\n|   1|     Arjun Kumar|      A|          85|             42|  16|  Male|\n|   2|     Simran Kaur|      B|          90|             45|  17|Female|\n|   3|      Ravi Singh|      A|          93|             39|  15|  Male|\n|   4|      Neha Patel|      C|          88|             44|  16|Female|\n|   5|    Manoj Sharma|      A|          82|             41|  16|  Male|\n|   6|    Anjali Reddy|      B|          91|             46|  17|Female|\n|   7|     Karan Verma|      C|          79|             39|  16|  Male|\n|   8|     Sanya Gupta|      A|          92|             46|  17|Female|\n|   9|     Rohit Mehra|      B|          80|             40|  15|  Male|\n|  10|    Preeti Joshi|      C|          75|             37|  16|Female|\n|  11|    Harish Yadav|      A|          93|             42|  17|  Male|\n|  12|     Sneha Desai|      B|          89|             44|  16|Female|\n|  13|Arvind Choudhary|      C|          95|             47|  17|  Male|\n|  14|       Rupa Iyer|      A|          70|             35|  15|Female|\n|  14|       Rupa Iyer|      A|          70|             35|  15|Female|\n|  15|   Vishal Bansal|      B|          93|             47|  16|  Male|\n|  16|     Kavita Nair|      C|          81|             40|  16|Female|\n|  17|     Suraj Patel|      A|          77|             38|  16|  Male|\n|  17|     Suraj Patel|      A|          77|             38|  16|  Male|\n|  18|    Divya Ramesh|      B|          85|             43|  17|Female|\n|  19|     Jayesh Shah|      C|          90|             45|  16|  Male|\n|  19|     Jayesh Shah|      C|          90|             45|  16|  Male|\n|  20|    Priya Kapoor|      A|          78|             39|  16|Female|\n|  20|    Priya Kapoor|      A|          78|             39|  16|Female|\n|  21|      Ajay Yadav|      B|          94|             47|  16|  Male|\n|  22|   Neelam Saxena|      C|          82|             41|  17|Female|\n|  22|   Neelam Saxena|      C|          82|             41|  17|Female|\n|  23|     Vikas Verma|      A|          88|             44|  15|  Male|\n|  23|     Vikas Verma|      A|          88|             44|  15|  Male|\n|  24|     Kriti Mehta|      B|          86|             43|  16|Female|\n|NULL|            NULL|   NULL|        NULL|           NULL|NULL|  NULL|\n|  25|   Rajeev Bhatia|      C|          80|             40|  16|  Male|\n|  26|   Shilpa Chawla|      A|          87|             43|  16|Female|\n|  27|   Devansh Kumar|      B|          74|             37|  15|  Male|\n|  28|      Sunita Rao|      C|          92|             46|  17|Female|\n|NULL|            NULL|   NULL|        NULL|           NULL|NULL|  NULL|\n|  28|      Sunita Rao|      C|          92|             46|  17|Female|\n|  29|  Harpreet Singh|      A|          93|             46|  17|  Male|\n|  30|   Geetika Arora|      B|          95|             47|  16|Female|\n|NULL|            NULL|   NULL|        NULL|           NULL|NULL|  NULL|\n|  31|   Geetika Arora|      B|        NULL|             47|  16|  NULL|\n|  17|     Suraj Patel|      A|          77|             38|  16|  Male|\n|  17|     Suraj Patel|      A|          78|             38|  16|  Male|\n|  28|      Sunita Rao|      C|          92|             46|  15|Female|\n|NULL|            NULL|   NULL|        NULL|           NULL|NULL|  NULL|\n|NULL|            NULL|   NULL|        NULL|           NULL|NULL|  NULL|\n|NULL|            NULL|   NULL|        NULL|           NULL|NULL|  NULL|\n|NULL|            NULL|   NULL|        NULL|           NULL|NULL|  NULL|\n|NULL|            NULL|   NULL|        NULL|           NULL|NULL|  NULL|\n|  33|            NULL|      A|          90|             40|NULL|  Male|\n|  34|            NULL|      B|          80|             35|NULL|Female|\n|NULL|            NULL|      A|          30|           NULL|NULL|  NULL|\n|NULL|            NULL|      c|          40|             45|  17|  NULL|\n|  35|            NULL|      A|          60|             46|NULL|Female|\n|NULL|            NULL|      A|          10|             32|  14|  NULL|\n|  36|            NULL|      A|          60|             29|  15|Female|\n+----+----------------+-------+------------+---------------+----+------+\n\n"
     ]
    }
   ],
   "source": [
    "df.show(56)"
   ]
  },
  {
   "cell_type": "code",
   "execution_count": 0,
   "metadata": {
    "application/vnd.databricks.v1+cell": {
     "cellMetadata": {
      "byteLimit": 2048000,
      "rowLimit": 10000
     },
     "inputWidgets": {},
     "nuid": "ecc9ac93-d64a-4ff4-9b70-555fe02cb816",
     "showTitle": false,
     "tableResultSettingsMap": {},
     "title": ""
    },
    "colab": {
     "base_uri": "https://localhost:8080/"
    },
    "id": "ydzCoDfmKqNl",
    "outputId": "ea07abd1-9526-4142-bb02-2da3cc378c3f"
   },
   "outputs": [
    {
     "output_type": "stream",
     "name": "stdout",
     "output_type": "stream",
     "text": [
      "root\n |-- id: integer (nullable = true)\n |-- name: string (nullable = true)\n |-- section: string (nullable = true)\n |-- annual_marks: integer (nullable = true)\n |-- half_year_marks: integer (nullable = true)\n |-- age: integer (nullable = true)\n |-- gender: string (nullable = true)\n\n"
     ]
    }
   ],
   "source": [
    "df.printSchema()"
   ]
  },
  {
   "cell_type": "code",
   "execution_count": 0,
   "metadata": {
    "application/vnd.databricks.v1+cell": {
     "cellMetadata": {
      "byteLimit": 2048000,
      "rowLimit": 10000
     },
     "inputWidgets": {},
     "nuid": "6481dbf5-9368-44d9-bb60-cfd1ad9cf1b9",
     "showTitle": false,
     "tableResultSettingsMap": {},
     "title": ""
    }
   },
   "outputs": [],
   "source": [
    "df_1=df.distinct()"
   ]
  },
  {
   "cell_type": "code",
   "execution_count": 0,
   "metadata": {
    "application/vnd.databricks.v1+cell": {
     "cellMetadata": {
      "byteLimit": 2048000,
      "rowLimit": 10000
     },
     "inputWidgets": {},
     "nuid": "63c39a05-9d23-409f-8b73-7ec5906e2639",
     "showTitle": false,
     "tableResultSettingsMap": {},
     "title": ""
    }
   },
   "outputs": [
    {
     "output_type": "execute_result",
     "data": {
      "text/plain": [
       "41"
      ]
     },
     "execution_count": 7,
     "metadata": {},
     "output_type": "execute_result"
    }
   ],
   "source": [
    "df_1.count()"
   ]
  },
  {
   "cell_type": "code",
   "execution_count": 0,
   "metadata": {
    "application/vnd.databricks.v1+cell": {
     "cellMetadata": {
      "byteLimit": 2048000,
      "rowLimit": 10000
     },
     "inputWidgets": {},
     "nuid": "74ba9284-01c6-488e-89cc-2d1617e71cfd",
     "showTitle": false,
     "tableResultSettingsMap": {},
     "title": ""
    }
   },
   "outputs": [],
   "source": [
    "df_2=df_1.dropDuplicates(subset=['id','name'])"
   ]
  },
  {
   "cell_type": "code",
   "execution_count": 0,
   "metadata": {
    "application/vnd.databricks.v1+cell": {
     "cellMetadata": {
      "byteLimit": 2048000,
      "rowLimit": 10000
     },
     "inputWidgets": {},
     "nuid": "71849ac2-c2ec-4513-b7c2-9042e424111c",
     "showTitle": false,
     "tableResultSettingsMap": {},
     "title": ""
    }
   },
   "outputs": [
    {
     "output_type": "execute_result",
     "data": {
      "text/plain": [
       "36"
      ]
     },
     "execution_count": 9,
     "metadata": {},
     "output_type": "execute_result"
    }
   ],
   "source": [
    "df_2.count()"
   ]
  },
  {
   "cell_type": "code",
   "execution_count": 0,
   "metadata": {
    "application/vnd.databricks.v1+cell": {
     "cellMetadata": {
      "byteLimit": 2048000,
      "rowLimit": 10000
     },
     "inputWidgets": {},
     "nuid": "224c842b-2688-46d2-b8fb-ee8edb300c58",
     "showTitle": false,
     "tableResultSettingsMap": {},
     "title": ""
    }
   },
   "outputs": [
    {
     "output_type": "stream",
     "name": "stdout",
     "output_type": "stream",
     "text": [
      "+----+----------------+-------+------------+---------------+----+------+\n|  id|            name|section|annual_marks|half_year_marks| age|gender|\n+----+----------------+-------+------------+---------------+----+------+\n|NULL|            NULL|   NULL|        NULL|           NULL|NULL|  NULL|\n|   1|     Arjun Kumar|      A|          85|             42|  16|  Male|\n|   2|     Simran Kaur|      B|          90|             45|  17|Female|\n|   3|      Ravi Singh|      A|          93|             39|  15|  Male|\n|   4|      Neha Patel|      C|          88|             44|  16|Female|\n|   5|    Manoj Sharma|      A|          82|             41|  16|  Male|\n|   6|    Anjali Reddy|      B|          91|             46|  17|Female|\n|   7|     Karan Verma|      C|          79|             39|  16|  Male|\n|   8|     Sanya Gupta|      A|          92|             46|  17|Female|\n|   9|     Rohit Mehra|      B|          80|             40|  15|  Male|\n|  10|    Preeti Joshi|      C|          75|             37|  16|Female|\n|  11|    Harish Yadav|      A|          93|             42|  17|  Male|\n|  12|     Sneha Desai|      B|          89|             44|  16|Female|\n|  13|Arvind Choudhary|      C|          95|             47|  17|  Male|\n|  14|       Rupa Iyer|      A|          70|             35|  15|Female|\n|  15|   Vishal Bansal|      B|          93|             47|  16|  Male|\n|  16|     Kavita Nair|      C|          81|             40|  16|Female|\n|  17|     Suraj Patel|      A|          77|             38|  16|  Male|\n|  18|    Divya Ramesh|      B|          85|             43|  17|Female|\n|  19|     Jayesh Shah|      C|          90|             45|  16|  Male|\n|  20|    Priya Kapoor|      A|          78|             39|  16|Female|\n|  21|      Ajay Yadav|      B|          94|             47|  16|  Male|\n|  22|   Neelam Saxena|      C|          82|             41|  17|Female|\n|  23|     Vikas Verma|      A|          88|             44|  15|  Male|\n|  24|     Kriti Mehta|      B|          86|             43|  16|Female|\n|  25|   Rajeev Bhatia|      C|          80|             40|  16|  Male|\n|  26|   Shilpa Chawla|      A|          87|             43|  16|Female|\n|  27|   Devansh Kumar|      B|          74|             37|  15|  Male|\n|  28|      Sunita Rao|      C|          92|             46|  17|Female|\n|  29|  Harpreet Singh|      A|          93|             46|  17|  Male|\n|  30|   Geetika Arora|      B|          95|             47|  16|Female|\n|  31|   Geetika Arora|      B|        NULL|             47|  16|  NULL|\n|  33|            NULL|      A|          90|             40|NULL|  Male|\n|  34|            NULL|      B|          80|             35|NULL|Female|\n|  35|            NULL|      A|          60|             46|NULL|Female|\n|  36|            NULL|      A|          60|             29|  15|Female|\n+----+----------------+-------+------------+---------------+----+------+\n\n"
     ]
    }
   ],
   "source": [
    "df_2.show(36)"
   ]
  },
  {
   "cell_type": "code",
   "execution_count": 0,
   "metadata": {
    "application/vnd.databricks.v1+cell": {
     "cellMetadata": {
      "byteLimit": 2048000,
      "rowLimit": 10000
     },
     "inputWidgets": {},
     "nuid": "d9bf7871-d481-4615-aa43-80ee9cee4506",
     "showTitle": false,
     "tableResultSettingsMap": {},
     "title": ""
    }
   },
   "outputs": [],
   "source": [
    "df_3=df_2.fillna(0,subset=['annual_marks','half_year_marks'])"
   ]
  },
  {
   "cell_type": "code",
   "execution_count": 0,
   "metadata": {
    "application/vnd.databricks.v1+cell": {
     "cellMetadata": {
      "byteLimit": 2048000,
      "rowLimit": 10000
     },
     "inputWidgets": {},
     "nuid": "b50c3a54-9571-40ba-b374-365d3fac348e",
     "showTitle": false,
     "tableResultSettingsMap": {},
     "title": ""
    }
   },
   "outputs": [
    {
     "output_type": "stream",
     "name": "stdout",
     "output_type": "stream",
     "text": [
      "+----+----------------+-------+------------+---------------+----+------+\n|  id|            name|section|annual_marks|half_year_marks| age|gender|\n+----+----------------+-------+------------+---------------+----+------+\n|NULL|            NULL|   NULL|           0|              0|NULL|  NULL|\n|   1|     Arjun Kumar|      A|          85|             42|  16|  Male|\n|   2|     Simran Kaur|      B|          90|             45|  17|Female|\n|   3|      Ravi Singh|      A|          93|             39|  15|  Male|\n|   4|      Neha Patel|      C|          88|             44|  16|Female|\n|   5|    Manoj Sharma|      A|          82|             41|  16|  Male|\n|   6|    Anjali Reddy|      B|          91|             46|  17|Female|\n|   7|     Karan Verma|      C|          79|             39|  16|  Male|\n|   8|     Sanya Gupta|      A|          92|             46|  17|Female|\n|   9|     Rohit Mehra|      B|          80|             40|  15|  Male|\n|  10|    Preeti Joshi|      C|          75|             37|  16|Female|\n|  11|    Harish Yadav|      A|          93|             42|  17|  Male|\n|  12|     Sneha Desai|      B|          89|             44|  16|Female|\n|  13|Arvind Choudhary|      C|          95|             47|  17|  Male|\n|  14|       Rupa Iyer|      A|          70|             35|  15|Female|\n|  15|   Vishal Bansal|      B|          93|             47|  16|  Male|\n|  16|     Kavita Nair|      C|          81|             40|  16|Female|\n|  17|     Suraj Patel|      A|          77|             38|  16|  Male|\n|  18|    Divya Ramesh|      B|          85|             43|  17|Female|\n|  19|     Jayesh Shah|      C|          90|             45|  16|  Male|\n|  20|    Priya Kapoor|      A|          78|             39|  16|Female|\n|  21|      Ajay Yadav|      B|          94|             47|  16|  Male|\n|  22|   Neelam Saxena|      C|          82|             41|  17|Female|\n|  23|     Vikas Verma|      A|          88|             44|  15|  Male|\n|  24|     Kriti Mehta|      B|          86|             43|  16|Female|\n|  25|   Rajeev Bhatia|      C|          80|             40|  16|  Male|\n|  26|   Shilpa Chawla|      A|          87|             43|  16|Female|\n|  27|   Devansh Kumar|      B|          74|             37|  15|  Male|\n|  28|      Sunita Rao|      C|          92|             46|  17|Female|\n|  29|  Harpreet Singh|      A|          93|             46|  17|  Male|\n|  30|   Geetika Arora|      B|          95|             47|  16|Female|\n|  31|   Geetika Arora|      B|           0|             47|  16|  NULL|\n|  33|            NULL|      A|          90|             40|NULL|  Male|\n|  34|            NULL|      B|          80|             35|NULL|Female|\n|  35|            NULL|      A|          60|             46|NULL|Female|\n|  36|            NULL|      A|          60|             29|  15|Female|\n+----+----------------+-------+------------+---------------+----+------+\n\n"
     ]
    }
   ],
   "source": [
    "df_3.show(36)"
   ]
  },
  {
   "cell_type": "code",
   "execution_count": 0,
   "metadata": {
    "application/vnd.databricks.v1+cell": {
     "cellMetadata": {
      "byteLimit": 2048000,
      "rowLimit": 10000
     },
     "inputWidgets": {},
     "nuid": "3940ff49-d98d-42cc-a435-17c46732e286",
     "showTitle": false,
     "tableResultSettingsMap": {},
     "title": ""
    }
   },
   "outputs": [],
   "source": [
    "df_4=df_3.dropna(thresh=4)"
   ]
  },
  {
   "cell_type": "code",
   "execution_count": 0,
   "metadata": {
    "application/vnd.databricks.v1+cell": {
     "cellMetadata": {
      "byteLimit": 2048000,
      "rowLimit": 10000
     },
     "inputWidgets": {},
     "nuid": "74068e1b-fba2-4dc1-9b55-87ae163437c3",
     "showTitle": false,
     "tableResultSettingsMap": {},
     "title": ""
    }
   },
   "outputs": [
    {
     "output_type": "execute_result",
     "data": {
      "text/plain": [
       "35"
      ]
     },
     "execution_count": 14,
     "metadata": {},
     "output_type": "execute_result"
    }
   ],
   "source": [
    "df_4.count()"
   ]
  },
  {
   "cell_type": "code",
   "execution_count": 0,
   "metadata": {
    "application/vnd.databricks.v1+cell": {
     "cellMetadata": {
      "byteLimit": 2048000,
      "rowLimit": 10000
     },
     "inputWidgets": {},
     "nuid": "4d609cda-8743-47de-9144-b387d833a07f",
     "showTitle": false,
     "tableResultSettingsMap": {},
     "title": ""
    }
   },
   "outputs": [
    {
     "output_type": "stream",
     "name": "stdout",
     "output_type": "stream",
     "text": [
      "+---+----------------+-------+------------+---------------+----+------+\n| id|            name|section|annual_marks|half_year_marks| age|gender|\n+---+----------------+-------+------------+---------------+----+------+\n|  1|     Arjun Kumar|      A|          85|             42|  16|  Male|\n|  2|     Simran Kaur|      B|          90|             45|  17|Female|\n|  3|      Ravi Singh|      A|          93|             39|  15|  Male|\n|  4|      Neha Patel|      C|          88|             44|  16|Female|\n|  5|    Manoj Sharma|      A|          82|             41|  16|  Male|\n|  6|    Anjali Reddy|      B|          91|             46|  17|Female|\n|  7|     Karan Verma|      C|          79|             39|  16|  Male|\n|  8|     Sanya Gupta|      A|          92|             46|  17|Female|\n|  9|     Rohit Mehra|      B|          80|             40|  15|  Male|\n| 10|    Preeti Joshi|      C|          75|             37|  16|Female|\n| 11|    Harish Yadav|      A|          93|             42|  17|  Male|\n| 12|     Sneha Desai|      B|          89|             44|  16|Female|\n| 13|Arvind Choudhary|      C|          95|             47|  17|  Male|\n| 14|       Rupa Iyer|      A|          70|             35|  15|Female|\n| 15|   Vishal Bansal|      B|          93|             47|  16|  Male|\n| 16|     Kavita Nair|      C|          81|             40|  16|Female|\n| 17|     Suraj Patel|      A|          77|             38|  16|  Male|\n| 18|    Divya Ramesh|      B|          85|             43|  17|Female|\n| 19|     Jayesh Shah|      C|          90|             45|  16|  Male|\n| 20|    Priya Kapoor|      A|          78|             39|  16|Female|\n| 21|      Ajay Yadav|      B|          94|             47|  16|  Male|\n| 22|   Neelam Saxena|      C|          82|             41|  17|Female|\n| 23|     Vikas Verma|      A|          88|             44|  15|  Male|\n| 24|     Kriti Mehta|      B|          86|             43|  16|Female|\n| 25|   Rajeev Bhatia|      C|          80|             40|  16|  Male|\n| 26|   Shilpa Chawla|      A|          87|             43|  16|Female|\n| 27|   Devansh Kumar|      B|          74|             37|  15|  Male|\n| 28|      Sunita Rao|      C|          92|             46|  17|Female|\n| 29|  Harpreet Singh|      A|          93|             46|  17|  Male|\n| 30|   Geetika Arora|      B|          95|             47|  16|Female|\n| 31|   Geetika Arora|      B|           0|             47|  16|  NULL|\n| 33|            NULL|      A|          90|             40|NULL|  Male|\n| 34|            NULL|      B|          80|             35|NULL|Female|\n| 35|            NULL|      A|          60|             46|NULL|Female|\n| 36|            NULL|      A|          60|             29|  15|Female|\n+---+----------------+-------+------------+---------------+----+------+\n\n"
     ]
    }
   ],
   "source": [
    "df_4.show(35)"
   ]
  },
  {
   "cell_type": "code",
   "execution_count": 0,
   "metadata": {
    "application/vnd.databricks.v1+cell": {
     "cellMetadata": {
      "byteLimit": 2048000,
      "rowLimit": 10000
     },
     "inputWidgets": {},
     "nuid": "14e0a938-3571-42c1-a451-3f2f269d695c",
     "showTitle": false,
     "tableResultSettingsMap": {},
     "title": ""
    }
   },
   "outputs": [],
   "source": [
    "df_4=df_4.dropna(subset=['name'])"
   ]
  },
  {
   "cell_type": "code",
   "execution_count": 0,
   "metadata": {
    "application/vnd.databricks.v1+cell": {
     "cellMetadata": {
      "byteLimit": 2048000,
      "rowLimit": 10000
     },
     "inputWidgets": {},
     "nuid": "7a2a9de0-c3d0-4868-a159-95d33afb6037",
     "showTitle": false,
     "tableResultSettingsMap": {},
     "title": ""
    }
   },
   "outputs": [
    {
     "output_type": "execute_result",
     "data": {
      "text/plain": [
       "31"
      ]
     },
     "execution_count": 17,
     "metadata": {},
     "output_type": "execute_result"
    }
   ],
   "source": [
    "df_4.count()"
   ]
  },
  {
   "cell_type": "code",
   "execution_count": 0,
   "metadata": {
    "application/vnd.databricks.v1+cell": {
     "cellMetadata": {
      "byteLimit": 2048000,
      "rowLimit": 10000
     },
     "inputWidgets": {},
     "nuid": "da7a6700-e0b3-4064-bf92-4eeaf84187dc",
     "showTitle": false,
     "tableResultSettingsMap": {},
     "title": ""
    }
   },
   "outputs": [
    {
     "output_type": "stream",
     "name": "stdout",
     "output_type": "stream",
     "text": [
      "+---+----------------+-------+------------+---------------+---+------+\n| id|            name|section|annual_marks|half_year_marks|age|gender|\n+---+----------------+-------+------------+---------------+---+------+\n|  1|     Arjun Kumar|      A|          85|             42| 16|  Male|\n|  2|     Simran Kaur|      B|          90|             45| 17|Female|\n|  3|      Ravi Singh|      A|          93|             39| 15|  Male|\n|  4|      Neha Patel|      C|          88|             44| 16|Female|\n|  5|    Manoj Sharma|      A|          82|             41| 16|  Male|\n|  6|    Anjali Reddy|      B|          91|             46| 17|Female|\n|  7|     Karan Verma|      C|          79|             39| 16|  Male|\n|  8|     Sanya Gupta|      A|          92|             46| 17|Female|\n|  9|     Rohit Mehra|      B|          80|             40| 15|  Male|\n| 10|    Preeti Joshi|      C|          75|             37| 16|Female|\n| 11|    Harish Yadav|      A|          93|             42| 17|  Male|\n| 12|     Sneha Desai|      B|          89|             44| 16|Female|\n| 13|Arvind Choudhary|      C|          95|             47| 17|  Male|\n| 14|       Rupa Iyer|      A|          70|             35| 15|Female|\n| 15|   Vishal Bansal|      B|          93|             47| 16|  Male|\n| 16|     Kavita Nair|      C|          81|             40| 16|Female|\n| 17|     Suraj Patel|      A|          77|             38| 16|  Male|\n| 18|    Divya Ramesh|      B|          85|             43| 17|Female|\n| 19|     Jayesh Shah|      C|          90|             45| 16|  Male|\n| 20|    Priya Kapoor|      A|          78|             39| 16|Female|\n| 21|      Ajay Yadav|      B|          94|             47| 16|  Male|\n| 22|   Neelam Saxena|      C|          82|             41| 17|Female|\n| 23|     Vikas Verma|      A|          88|             44| 15|  Male|\n| 24|     Kriti Mehta|      B|          86|             43| 16|Female|\n| 25|   Rajeev Bhatia|      C|          80|             40| 16|  Male|\n| 26|   Shilpa Chawla|      A|          87|             43| 16|Female|\n| 27|   Devansh Kumar|      B|          74|             37| 15|  Male|\n| 28|      Sunita Rao|      C|          92|             46| 17|Female|\n| 29|  Harpreet Singh|      A|          93|             46| 17|  Male|\n| 30|   Geetika Arora|      B|          95|             47| 16|Female|\n| 31|   Geetika Arora|      B|           0|             47| 16|  NULL|\n+---+----------------+-------+------------+---------------+---+------+\n\n"
     ]
    }
   ],
   "source": [
    "df_4.show(31)"
   ]
  },
  {
   "cell_type": "code",
   "execution_count": 0,
   "metadata": {
    "application/vnd.databricks.v1+cell": {
     "cellMetadata": {
      "byteLimit": 2048000,
      "rowLimit": 10000
     },
     "inputWidgets": {},
     "nuid": "c96d545e-0884-4861-a353-fdbc32aa36d5",
     "showTitle": false,
     "tableResultSettingsMap": {},
     "title": ""
    }
   },
   "outputs": [],
   "source": [
    "from pyspark.sql.functions import when"
   ]
  },
  {
   "cell_type": "code",
   "execution_count": 0,
   "metadata": {
    "application/vnd.databricks.v1+cell": {
     "cellMetadata": {
      "byteLimit": 2048000,
      "rowLimit": 10000
     },
     "inputWidgets": {},
     "nuid": "ff2070fc-6c14-4a79-8d84-89733ad2e94f",
     "showTitle": false,
     "tableResultSettingsMap": {},
     "title": ""
    }
   },
   "outputs": [],
   "source": [
    "df_4=df_4.withColumn(\n",
    "    'grade', \n",
    "    when(df_4['annual_marks'] > 90, 'A')\n",
    "    .when(df_4['annual_marks'] > 80, 'B')\n",
    "    .when(df_4['annual_marks'] > 70, 'C')\n",
    "    .otherwise('D')\n",
    ")"
   ]
  },
  {
   "cell_type": "code",
   "execution_count": 0,
   "metadata": {
    "application/vnd.databricks.v1+cell": {
     "cellMetadata": {
      "byteLimit": 2048000,
      "rowLimit": 10000
     },
     "inputWidgets": {},
     "nuid": "f2ff9845-57eb-41cb-ae64-e602678d8df3",
     "showTitle": false,
     "tableResultSettingsMap": {},
     "title": ""
    }
   },
   "outputs": [
    {
     "output_type": "display_data",
     "data": {
      "text/html": [
       "<style scoped>\n",
       "  .table-result-container {\n",
       "    max-height: 300px;\n",
       "    overflow: auto;\n",
       "  }\n",
       "  table, th, td {\n",
       "    border: 1px solid black;\n",
       "    border-collapse: collapse;\n",
       "  }\n",
       "  th, td {\n",
       "    padding: 5px;\n",
       "  }\n",
       "  th {\n",
       "    text-align: left;\n",
       "  }\n",
       "</style><div class='table-result-container'><table class='table-result'><thead style='background-color: white'><tr><th>id</th><th>name</th><th>section</th><th>annual_marks</th><th>half_year_marks</th><th>age</th><th>gender</th><th>grade</th></tr></thead><tbody><tr><td>1</td><td>Arjun Kumar</td><td>A</td><td>85</td><td>42</td><td>16</td><td>Male</td><td>B</td></tr><tr><td>2</td><td>Simran Kaur</td><td>B</td><td>90</td><td>45</td><td>17</td><td>Female</td><td>B</td></tr><tr><td>3</td><td>Ravi Singh</td><td>A</td><td>93</td><td>39</td><td>15</td><td>Male</td><td>A</td></tr><tr><td>4</td><td>Neha Patel</td><td>C</td><td>88</td><td>44</td><td>16</td><td>Female</td><td>B</td></tr><tr><td>5</td><td>Manoj Sharma</td><td>A</td><td>82</td><td>41</td><td>16</td><td>Male</td><td>B</td></tr><tr><td>6</td><td>Anjali Reddy</td><td>B</td><td>91</td><td>46</td><td>17</td><td>Female</td><td>A</td></tr><tr><td>7</td><td>Karan Verma</td><td>C</td><td>79</td><td>39</td><td>16</td><td>Male</td><td>C</td></tr><tr><td>8</td><td>Sanya Gupta</td><td>A</td><td>92</td><td>46</td><td>17</td><td>Female</td><td>A</td></tr><tr><td>9</td><td>Rohit Mehra</td><td>B</td><td>80</td><td>40</td><td>15</td><td>Male</td><td>C</td></tr><tr><td>10</td><td>Preeti Joshi</td><td>C</td><td>75</td><td>37</td><td>16</td><td>Female</td><td>C</td></tr><tr><td>11</td><td>Harish Yadav</td><td>A</td><td>93</td><td>42</td><td>17</td><td>Male</td><td>A</td></tr><tr><td>12</td><td>Sneha Desai</td><td>B</td><td>89</td><td>44</td><td>16</td><td>Female</td><td>B</td></tr><tr><td>13</td><td>Arvind Choudhary</td><td>C</td><td>95</td><td>47</td><td>17</td><td>Male</td><td>A</td></tr><tr><td>14</td><td>Rupa Iyer</td><td>A</td><td>70</td><td>35</td><td>15</td><td>Female</td><td>D</td></tr><tr><td>15</td><td>Vishal Bansal</td><td>B</td><td>93</td><td>47</td><td>16</td><td>Male</td><td>A</td></tr><tr><td>16</td><td>Kavita Nair</td><td>C</td><td>81</td><td>40</td><td>16</td><td>Female</td><td>B</td></tr><tr><td>17</td><td>Suraj Patel</td><td>A</td><td>77</td><td>38</td><td>16</td><td>Male</td><td>C</td></tr><tr><td>18</td><td>Divya Ramesh</td><td>B</td><td>85</td><td>43</td><td>17</td><td>Female</td><td>B</td></tr><tr><td>19</td><td>Jayesh Shah</td><td>C</td><td>90</td><td>45</td><td>16</td><td>Male</td><td>B</td></tr><tr><td>20</td><td>Priya Kapoor</td><td>A</td><td>78</td><td>39</td><td>16</td><td>Female</td><td>C</td></tr><tr><td>21</td><td>Ajay Yadav</td><td>B</td><td>94</td><td>47</td><td>16</td><td>Male</td><td>A</td></tr><tr><td>22</td><td>Neelam Saxena</td><td>C</td><td>82</td><td>41</td><td>17</td><td>Female</td><td>B</td></tr><tr><td>23</td><td>Vikas Verma</td><td>A</td><td>88</td><td>44</td><td>15</td><td>Male</td><td>B</td></tr><tr><td>24</td><td>Kriti Mehta</td><td>B</td><td>86</td><td>43</td><td>16</td><td>Female</td><td>B</td></tr><tr><td>25</td><td>Rajeev Bhatia</td><td>C</td><td>80</td><td>40</td><td>16</td><td>Male</td><td>C</td></tr><tr><td>26</td><td>Shilpa Chawla</td><td>A</td><td>87</td><td>43</td><td>16</td><td>Female</td><td>B</td></tr><tr><td>27</td><td>Devansh Kumar</td><td>B</td><td>74</td><td>37</td><td>15</td><td>Male</td><td>C</td></tr><tr><td>28</td><td>Sunita Rao</td><td>C</td><td>92</td><td>46</td><td>17</td><td>Female</td><td>A</td></tr><tr><td>29</td><td>Harpreet Singh</td><td>A</td><td>93</td><td>46</td><td>17</td><td>Male</td><td>A</td></tr><tr><td>30</td><td>Geetika Arora</td><td>B</td><td>95</td><td>47</td><td>16</td><td>Female</td><td>A</td></tr><tr><td>31</td><td>Geetika Arora</td><td>B</td><td>0</td><td>47</td><td>16</td><td>null</td><td>D</td></tr></tbody></table></div>"
      ]
     },
     "metadata": {
      "application/vnd.databricks.v1+output": {
       "addedWidgets": {},
       "aggData": [],
       "aggError": "",
       "aggOverflow": false,
       "aggSchema": [],
       "aggSeriesLimitReached": false,
       "aggType": "",
       "arguments": {},
       "columnCustomDisplayInfos": {},
       "data": [
        [
         1,
         "Arjun Kumar",
         "A",
         85,
         42,
         16,
         "Male",
         "B"
        ],
        [
         2,
         "Simran Kaur",
         "B",
         90,
         45,
         17,
         "Female",
         "B"
        ],
        [
         3,
         "Ravi Singh",
         "A",
         93,
         39,
         15,
         "Male",
         "A"
        ],
        [
         4,
         "Neha Patel",
         "C",
         88,
         44,
         16,
         "Female",
         "B"
        ],
        [
         5,
         "Manoj Sharma",
         "A",
         82,
         41,
         16,
         "Male",
         "B"
        ],
        [
         6,
         "Anjali Reddy",
         "B",
         91,
         46,
         17,
         "Female",
         "A"
        ],
        [
         7,
         "Karan Verma",
         "C",
         79,
         39,
         16,
         "Male",
         "C"
        ],
        [
         8,
         "Sanya Gupta",
         "A",
         92,
         46,
         17,
         "Female",
         "A"
        ],
        [
         9,
         "Rohit Mehra",
         "B",
         80,
         40,
         15,
         "Male",
         "C"
        ],
        [
         10,
         "Preeti Joshi",
         "C",
         75,
         37,
         16,
         "Female",
         "C"
        ],
        [
         11,
         "Harish Yadav",
         "A",
         93,
         42,
         17,
         "Male",
         "A"
        ],
        [
         12,
         "Sneha Desai",
         "B",
         89,
         44,
         16,
         "Female",
         "B"
        ],
        [
         13,
         "Arvind Choudhary",
         "C",
         95,
         47,
         17,
         "Male",
         "A"
        ],
        [
         14,
         "Rupa Iyer",
         "A",
         70,
         35,
         15,
         "Female",
         "D"
        ],
        [
         15,
         "Vishal Bansal",
         "B",
         93,
         47,
         16,
         "Male",
         "A"
        ],
        [
         16,
         "Kavita Nair",
         "C",
         81,
         40,
         16,
         "Female",
         "B"
        ],
        [
         17,
         "Suraj Patel",
         "A",
         77,
         38,
         16,
         "Male",
         "C"
        ],
        [
         18,
         "Divya Ramesh",
         "B",
         85,
         43,
         17,
         "Female",
         "B"
        ],
        [
         19,
         "Jayesh Shah",
         "C",
         90,
         45,
         16,
         "Male",
         "B"
        ],
        [
         20,
         "Priya Kapoor",
         "A",
         78,
         39,
         16,
         "Female",
         "C"
        ],
        [
         21,
         "Ajay Yadav",
         "B",
         94,
         47,
         16,
         "Male",
         "A"
        ],
        [
         22,
         "Neelam Saxena",
         "C",
         82,
         41,
         17,
         "Female",
         "B"
        ],
        [
         23,
         "Vikas Verma",
         "A",
         88,
         44,
         15,
         "Male",
         "B"
        ],
        [
         24,
         "Kriti Mehta",
         "B",
         86,
         43,
         16,
         "Female",
         "B"
        ],
        [
         25,
         "Rajeev Bhatia",
         "C",
         80,
         40,
         16,
         "Male",
         "C"
        ],
        [
         26,
         "Shilpa Chawla",
         "A",
         87,
         43,
         16,
         "Female",
         "B"
        ],
        [
         27,
         "Devansh Kumar",
         "B",
         74,
         37,
         15,
         "Male",
         "C"
        ],
        [
         28,
         "Sunita Rao",
         "C",
         92,
         46,
         17,
         "Female",
         "A"
        ],
        [
         29,
         "Harpreet Singh",
         "A",
         93,
         46,
         17,
         "Male",
         "A"
        ],
        [
         30,
         "Geetika Arora",
         "B",
         95,
         47,
         16,
         "Female",
         "A"
        ],
        [
         31,
         "Geetika Arora",
         "B",
         0,
         47,
         16,
         null,
         "D"
        ]
       ],
       "datasetInfos": [],
       "dbfsResultPath": null,
       "isJsonSchema": true,
       "metadata": {},
       "overflow": false,
       "plotOptions": {
        "customPlotOptions": {},
        "displayType": "table",
        "pivotAggregation": null,
        "pivotColumns": null,
        "xColumns": null,
        "yColumns": null
       },
       "removedWidgets": [],
       "schema": [
        {
         "metadata": "{}",
         "name": "id",
         "type": "\"integer\""
        },
        {
         "metadata": "{}",
         "name": "name",
         "type": "\"string\""
        },
        {
         "metadata": "{}",
         "name": "section",
         "type": "\"string\""
        },
        {
         "metadata": "{}",
         "name": "annual_marks",
         "type": "\"integer\""
        },
        {
         "metadata": "{}",
         "name": "half_year_marks",
         "type": "\"integer\""
        },
        {
         "metadata": "{}",
         "name": "age",
         "type": "\"integer\""
        },
        {
         "metadata": "{}",
         "name": "gender",
         "type": "\"string\""
        },
        {
         "metadata": "{}",
         "name": "grade",
         "type": "\"string\""
        }
       ],
       "type": "table"
      }
     },
     "output_type": "display_data"
    }
   ],
   "source": [
    "display(df_4)"
   ]
  },
  {
   "cell_type": "code",
   "execution_count": 0,
   "metadata": {
    "application/vnd.databricks.v1+cell": {
     "cellMetadata": {
      "byteLimit": 2048000,
      "rowLimit": 10000
     },
     "inputWidgets": {},
     "nuid": "1cc277b7-7972-4231-8d5a-628a9b58b22c",
     "showTitle": false,
     "tableResultSettingsMap": {},
     "title": ""
    },
    "colab": {
     "base_uri": "https://localhost:8080/"
    },
    "id": "WHgx5YOwLi67",
    "outputId": "465ad911-2919-42cb-a3a4-9112eaaab69e"
   },
   "outputs": [
    {
     "output_type": "stream",
     "name": "stdout",
     "output_type": "stream",
     "text": [
      "+---+----------------+-------+------------+---------------+---+------+-----+\n| id|            name|section|annual_marks|half_year_marks|age|gender|grade|\n+---+----------------+-------+------------+---------------+---+------+-----+\n| 13|Arvind Choudhary|      C|          95|             47| 17|  Male|    A|\n| 30|   Geetika Arora|      B|          95|             47| 16|Female|    A|\n| 21|      Ajay Yadav|      B|          94|             47| 16|  Male|    A|\n|  3|      Ravi Singh|      A|          93|             39| 15|  Male|    A|\n| 11|    Harish Yadav|      A|          93|             42| 17|  Male|    A|\n| 15|   Vishal Bansal|      B|          93|             47| 16|  Male|    A|\n| 29|  Harpreet Singh|      A|          93|             46| 17|  Male|    A|\n|  8|     Sanya Gupta|      A|          92|             46| 17|Female|    A|\n| 28|      Sunita Rao|      C|          92|             46| 17|Female|    A|\n|  6|    Anjali Reddy|      B|          91|             46| 17|Female|    A|\n|  2|     Simran Kaur|      B|          90|             45| 17|Female|    B|\n| 19|     Jayesh Shah|      C|          90|             45| 16|  Male|    B|\n| 12|     Sneha Desai|      B|          89|             44| 16|Female|    B|\n|  4|      Neha Patel|      C|          88|             44| 16|Female|    B|\n| 23|     Vikas Verma|      A|          88|             44| 15|  Male|    B|\n| 26|   Shilpa Chawla|      A|          87|             43| 16|Female|    B|\n| 24|     Kriti Mehta|      B|          86|             43| 16|Female|    B|\n|  1|     Arjun Kumar|      A|          85|             42| 16|  Male|    B|\n| 18|    Divya Ramesh|      B|          85|             43| 17|Female|    B|\n|  5|    Manoj Sharma|      A|          82|             41| 16|  Male|    B|\n+---+----------------+-------+------------+---------------+---+------+-----+\nonly showing top 20 rows\n"
     ]
    }
   ],
   "source": [
    "df_4.orderBy(df['annual_marks'].desc()).show()"
   ]
  },
  {
   "cell_type": "code",
   "execution_count": 0,
   "metadata": {
    "application/vnd.databricks.v1+cell": {
     "cellMetadata": {
      "byteLimit": 2048000,
      "rowLimit": 10000
     },
     "inputWidgets": {},
     "nuid": "2c372721-e39c-4824-b0ea-f0152929e32f",
     "showTitle": false,
     "tableResultSettingsMap": {},
     "title": ""
    },
    "colab": {
     "base_uri": "https://localhost:8080/"
    },
    "id": "u2mXAFAhK2DU",
    "outputId": "e24a9b01-c31b-4c02-f70e-2f3cc1e6db33"
   },
   "outputs": [
    {
     "output_type": "stream",
     "name": "stdout",
     "output_type": "stream",
     "text": [
      "+---+-------------+-------+------------+---------------+---+------+-----+\n| id|         name|section|annual_marks|half_year_marks|age|gender|grade|\n+---+-------------+-------+------------+---------------+---+------+-----+\n| 30|Geetika Arora|      B|          95|             47| 16|Female|    A|\n+---+-------------+-------+------------+---------------+---+------+-----+\n\n"
     ]
    }
   ],
   "source": [
    "df_4.orderBy(df['annual_marks'].desc()).limit(2).offset(1).show()"
   ]
  },
  {
   "cell_type": "code",
   "execution_count": 0,
   "metadata": {
    "application/vnd.databricks.v1+cell": {
     "cellMetadata": {
      "byteLimit": 2048000,
      "rowLimit": 10000
     },
     "inputWidgets": {},
     "nuid": "c1a18908-727a-4d9b-bbcf-86a9841a56fd",
     "showTitle": false,
     "tableResultSettingsMap": {},
     "title": ""
    },
    "id": "fyNsoyV9LSEj"
   },
   "outputs": [],
   "source": [
    "from pyspark.sql import Window\n",
    "from pyspark.sql.functions import col"
   ]
  },
  {
   "cell_type": "code",
   "execution_count": 0,
   "metadata": {
    "application/vnd.databricks.v1+cell": {
     "cellMetadata": {
      "byteLimit": 2048000,
      "rowLimit": 10000
     },
     "inputWidgets": {},
     "nuid": "c9911fa9-ea3d-4431-a675-0d0ad69696f8",
     "showTitle": false,
     "tableResultSettingsMap": {},
     "title": ""
    },
    "id": "mLd4gw44Lt5S"
   },
   "outputs": [],
   "source": [
    "window=Window.partitionBy('section').orderBy(col('annual_marks').desc())"
   ]
  },
  {
   "cell_type": "code",
   "execution_count": 0,
   "metadata": {
    "application/vnd.databricks.v1+cell": {
     "cellMetadata": {
      "byteLimit": 2048000,
      "rowLimit": 10000
     },
     "inputWidgets": {},
     "nuid": "334b8a55-b36a-43be-9500-2e4596046efc",
     "showTitle": false,
     "tableResultSettingsMap": {},
     "title": ""
    },
    "id": "qfBKVCsfL9sV"
   },
   "outputs": [],
   "source": [
    "from pyspark.sql.functions import row_number,rank,dense_rank"
   ]
  },
  {
   "cell_type": "code",
   "execution_count": 0,
   "metadata": {
    "application/vnd.databricks.v1+cell": {
     "cellMetadata": {
      "byteLimit": 2048000,
      "rowLimit": 10000
     },
     "inputWidgets": {},
     "nuid": "c4b5840d-0ef0-4b3b-9402-1bf3781b7870",
     "showTitle": false,
     "tableResultSettingsMap": {},
     "title": ""
    },
    "colab": {
     "base_uri": "https://localhost:8080/"
    },
    "id": "I07OndvIMnDm",
    "outputId": "247bf2de-5186-4c40-8e53-9419e5202de2"
   },
   "outputs": [
    {
     "output_type": "stream",
     "name": "stdout",
     "output_type": "stream",
     "text": [
      "+---+----------------+-------+------------+---------------+---+------+-----+----------+\n| id|            name|section|annual_marks|half_year_marks|age|gender|grade|row_number|\n+---+----------------+-------+------------+---------------+---+------+-----+----------+\n|  3|      Ravi Singh|      A|          93|             39| 15|  Male|    A|         1|\n| 11|    Harish Yadav|      A|          93|             42| 17|  Male|    A|         2|\n| 29|  Harpreet Singh|      A|          93|             46| 17|  Male|    A|         3|\n|  8|     Sanya Gupta|      A|          92|             46| 17|Female|    A|         4|\n| 23|     Vikas Verma|      A|          88|             44| 15|  Male|    B|         5|\n| 26|   Shilpa Chawla|      A|          87|             43| 16|Female|    B|         6|\n|  1|     Arjun Kumar|      A|          85|             42| 16|  Male|    B|         7|\n|  5|    Manoj Sharma|      A|          82|             41| 16|  Male|    B|         8|\n| 20|    Priya Kapoor|      A|          78|             39| 16|Female|    C|         9|\n| 17|     Suraj Patel|      A|          77|             38| 16|  Male|    C|        10|\n| 14|       Rupa Iyer|      A|          70|             35| 15|Female|    D|        11|\n| 30|   Geetika Arora|      B|          95|             47| 16|Female|    A|         1|\n| 21|      Ajay Yadav|      B|          94|             47| 16|  Male|    A|         2|\n| 15|   Vishal Bansal|      B|          93|             47| 16|  Male|    A|         3|\n|  6|    Anjali Reddy|      B|          91|             46| 17|Female|    A|         4|\n|  2|     Simran Kaur|      B|          90|             45| 17|Female|    B|         5|\n| 12|     Sneha Desai|      B|          89|             44| 16|Female|    B|         6|\n| 24|     Kriti Mehta|      B|          86|             43| 16|Female|    B|         7|\n| 18|    Divya Ramesh|      B|          85|             43| 17|Female|    B|         8|\n|  9|     Rohit Mehra|      B|          80|             40| 15|  Male|    C|         9|\n| 27|   Devansh Kumar|      B|          74|             37| 15|  Male|    C|        10|\n| 31|   Geetika Arora|      B|           0|             47| 16|  NULL|    D|        11|\n| 13|Arvind Choudhary|      C|          95|             47| 17|  Male|    A|         1|\n| 28|      Sunita Rao|      C|          92|             46| 17|Female|    A|         2|\n| 19|     Jayesh Shah|      C|          90|             45| 16|  Male|    B|         3|\n|  4|      Neha Patel|      C|          88|             44| 16|Female|    B|         4|\n| 22|   Neelam Saxena|      C|          82|             41| 17|Female|    B|         5|\n| 16|     Kavita Nair|      C|          81|             40| 16|Female|    B|         6|\n| 25|   Rajeev Bhatia|      C|          80|             40| 16|  Male|    C|         7|\n|  7|     Karan Verma|      C|          79|             39| 16|  Male|    C|         8|\n| 10|    Preeti Joshi|      C|          75|             37| 16|Female|    C|         9|\n+---+----------------+-------+------------+---------------+---+------+-----+----------+\n\n"
     ]
    }
   ],
   "source": [
    "df_4.withColumn('row_number',row_number().over(window)).show(35)"
   ]
  },
  {
   "cell_type": "code",
   "execution_count": 0,
   "metadata": {
    "application/vnd.databricks.v1+cell": {
     "cellMetadata": {
      "byteLimit": 2048000,
      "rowLimit": 10000
     },
     "inputWidgets": {},
     "nuid": "2f3383b7-5f86-478b-a46d-21fa88b0b362",
     "showTitle": false,
     "tableResultSettingsMap": {},
     "title": ""
    },
    "colab": {
     "base_uri": "https://localhost:8080/"
    },
    "id": "ZQ8zSDHuMrbT",
    "outputId": "379b9624-dc55-4ebb-f9e7-b9fd0db5d7af"
   },
   "outputs": [
    {
     "output_type": "stream",
     "name": "stdout",
     "output_type": "stream",
     "text": [
      "+---+--------------+-------+------------+---------------+---+------+-----+----------+----+\n| id|          name|section|annual_marks|half_year_marks|age|gender|grade|row_number|rank|\n+---+--------------+-------+------------+---------------+---+------+-----+----------+----+\n|  3|    Ravi Singh|      A|          93|             39| 15|  Male|    A|         1|   1|\n| 11|  Harish Yadav|      A|          93|             42| 17|  Male|    A|         2|   1|\n| 29|Harpreet Singh|      A|          93|             46| 17|  Male|    A|         3|   1|\n|  8|   Sanya Gupta|      A|          92|             46| 17|Female|    A|         4|   4|\n| 23|   Vikas Verma|      A|          88|             44| 15|  Male|    B|         5|   5|\n| 26| Shilpa Chawla|      A|          87|             43| 16|Female|    B|         6|   6|\n|  1|   Arjun Kumar|      A|          85|             42| 16|  Male|    B|         7|   7|\n|  5|  Manoj Sharma|      A|          82|             41| 16|  Male|    B|         8|   8|\n| 20|  Priya Kapoor|      A|          78|             39| 16|Female|    C|         9|   9|\n| 17|   Suraj Patel|      A|          77|             38| 16|  Male|    C|        10|  10|\n| 14|     Rupa Iyer|      A|          70|             35| 15|Female|    D|        11|  11|\n| 30| Geetika Arora|      B|          95|             47| 16|Female|    A|         1|   1|\n| 21|    Ajay Yadav|      B|          94|             47| 16|  Male|    A|         2|   2|\n| 15| Vishal Bansal|      B|          93|             47| 16|  Male|    A|         3|   3|\n|  6|  Anjali Reddy|      B|          91|             46| 17|Female|    A|         4|   4|\n|  2|   Simran Kaur|      B|          90|             45| 17|Female|    B|         5|   5|\n| 12|   Sneha Desai|      B|          89|             44| 16|Female|    B|         6|   6|\n| 24|   Kriti Mehta|      B|          86|             43| 16|Female|    B|         7|   7|\n| 18|  Divya Ramesh|      B|          85|             43| 17|Female|    B|         8|   8|\n|  9|   Rohit Mehra|      B|          80|             40| 15|  Male|    C|         9|   9|\n+---+--------------+-------+------------+---------------+---+------+-----+----------+----+\nonly showing top 20 rows\n"
     ]
    }
   ],
   "source": [
    "df_4.withColumns({'row_number': row_number().over(window), 'rank': rank().over(window)}).show()"
   ]
  },
  {
   "cell_type": "code",
   "execution_count": 0,
   "metadata": {
    "application/vnd.databricks.v1+cell": {
     "cellMetadata": {
      "byteLimit": 2048000,
      "rowLimit": 10000
     },
     "inputWidgets": {},
     "nuid": "805cc2c6-e851-4c23-8978-0919805feab0",
     "showTitle": false,
     "tableResultSettingsMap": {},
     "title": ""
    },
    "colab": {
     "base_uri": "https://localhost:8080/"
    },
    "id": "lOq5G3f3NRVC",
    "outputId": "9c8f3d54-ff23-492f-e236-3feaa5d5bef0"
   },
   "outputs": [
    {
     "output_type": "stream",
     "name": "stdout",
     "output_type": "stream",
     "text": [
      "+---+--------------+-------+------------+---------------+---+------+-----+----------+----+----------+\n| id|          name|section|annual_marks|half_year_marks|age|gender|grade|row_number|rank|dense_rank|\n+---+--------------+-------+------------+---------------+---+------+-----+----------+----+----------+\n|  3|    Ravi Singh|      A|          93|             39| 15|  Male|    A|         1|   1|         1|\n| 11|  Harish Yadav|      A|          93|             42| 17|  Male|    A|         2|   1|         1|\n| 29|Harpreet Singh|      A|          93|             46| 17|  Male|    A|         3|   1|         1|\n|  8|   Sanya Gupta|      A|          92|             46| 17|Female|    A|         4|   4|         2|\n| 23|   Vikas Verma|      A|          88|             44| 15|  Male|    B|         5|   5|         3|\n| 26| Shilpa Chawla|      A|          87|             43| 16|Female|    B|         6|   6|         4|\n|  1|   Arjun Kumar|      A|          85|             42| 16|  Male|    B|         7|   7|         5|\n|  5|  Manoj Sharma|      A|          82|             41| 16|  Male|    B|         8|   8|         6|\n| 20|  Priya Kapoor|      A|          78|             39| 16|Female|    C|         9|   9|         7|\n| 17|   Suraj Patel|      A|          77|             38| 16|  Male|    C|        10|  10|         8|\n| 14|     Rupa Iyer|      A|          70|             35| 15|Female|    D|        11|  11|         9|\n| 30| Geetika Arora|      B|          95|             47| 16|Female|    A|         1|   1|         1|\n| 21|    Ajay Yadav|      B|          94|             47| 16|  Male|    A|         2|   2|         2|\n| 15| Vishal Bansal|      B|          93|             47| 16|  Male|    A|         3|   3|         3|\n|  6|  Anjali Reddy|      B|          91|             46| 17|Female|    A|         4|   4|         4|\n|  2|   Simran Kaur|      B|          90|             45| 17|Female|    B|         5|   5|         5|\n| 12|   Sneha Desai|      B|          89|             44| 16|Female|    B|         6|   6|         6|\n| 24|   Kriti Mehta|      B|          86|             43| 16|Female|    B|         7|   7|         7|\n| 18|  Divya Ramesh|      B|          85|             43| 17|Female|    B|         8|   8|         8|\n|  9|   Rohit Mehra|      B|          80|             40| 15|  Male|    C|         9|   9|         9|\n+---+--------------+-------+------------+---------------+---+------+-----+----------+----+----------+\nonly showing top 20 rows\n"
     ]
    }
   ],
   "source": [
    "df_4.withColumns({\n",
    "    'row_number': row_number().over(window),\n",
    "    'rank': rank().over(window),\n",
    "    'dense_rank':dense_rank().over(window)\n",
    "    }).show()"
   ]
  },
  {
   "cell_type": "code",
   "execution_count": 0,
   "metadata": {
    "application/vnd.databricks.v1+cell": {
     "cellMetadata": {
      "byteLimit": 2048000,
      "rowLimit": 10000
     },
     "inputWidgets": {},
     "nuid": "12ddddd2-2280-499e-8082-b69194705b99",
     "showTitle": false,
     "tableResultSettingsMap": {},
     "title": ""
    },
    "id": "OeYobgxyOpc4"
   },
   "outputs": [],
   "source": [
    "df_4.write.format('csv').partitionBy('section').mode('overwrite').save('/mnt/input/student_partition',header=True)"
   ]
  },
  {
   "cell_type": "code",
   "execution_count": 0,
   "metadata": {
    "application/vnd.databricks.v1+cell": {
     "cellMetadata": {
      "byteLimit": 2048000,
      "rowLimit": 10000
     },
     "inputWidgets": {},
     "nuid": "3cf9bee9-7307-4769-bc2a-c0fb60bede9f",
     "showTitle": false,
     "tableResultSettingsMap": {},
     "title": ""
    },
    "id": "O7BErws5O2tM"
   },
   "outputs": [],
   "source": [
    "df1_1=spark.read.csv('/mnt/input/student_partition',header=True)"
   ]
  },
  {
   "cell_type": "code",
   "execution_count": 0,
   "metadata": {
    "application/vnd.databricks.v1+cell": {
     "cellMetadata": {
      "byteLimit": 2048000,
      "rowLimit": 10000
     },
     "inputWidgets": {},
     "nuid": "94028ea8-0472-4d92-a9ca-a7ed6bf4fcb1",
     "showTitle": false,
     "tableResultSettingsMap": {},
     "title": ""
    },
    "colab": {
     "base_uri": "https://localhost:8080/"
    },
    "id": "XpM4KEVKPCdZ",
    "outputId": "87e9b4c8-dae9-4dc2-c928-750dad86d142"
   },
   "outputs": [
    {
     "output_type": "stream",
     "name": "stdout",
     "output_type": "stream",
     "text": [
      "+---+-------------+------------+---------------+---+------+-----+-------+\n| id|         name|annual_marks|half_year_marks|age|gender|grade|section|\n+---+-------------+------------+---------------+---+------+-----+-------+\n|  2|  Simran Kaur|          90|             45| 17|Female|    B|      B|\n|  6| Anjali Reddy|          91|             46| 17|Female|    A|      B|\n|  9|  Rohit Mehra|          80|             40| 15|  Male|    C|      B|\n| 12|  Sneha Desai|          89|             44| 16|Female|    B|      B|\n| 15|Vishal Bansal|          93|             47| 16|  Male|    A|      B|\n| 18| Divya Ramesh|          85|             43| 17|Female|    B|      B|\n| 21|   Ajay Yadav|          94|             47| 16|  Male|    A|      B|\n| 24|  Kriti Mehta|          86|             43| 16|Female|    B|      B|\n| 27|Devansh Kumar|          74|             37| 15|  Male|    C|      B|\n| 30|Geetika Arora|          95|             47| 16|Female|    A|      B|\n| 31|Geetika Arora|           0|             47| 16|  NULL|    D|      B|\n+---+-------------+------------+---------------+---+------+-----+-------+\n\n"
     ]
    }
   ],
   "source": [
    "df1_1.filter('section=\"B\"').show()"
   ]
  },
  {
   "cell_type": "code",
   "execution_count": 0,
   "metadata": {
    "application/vnd.databricks.v1+cell": {
     "cellMetadata": {
      "byteLimit": 2048000,
      "implicitDf": true,
      "rowLimit": 10000
     },
     "inputWidgets": {},
     "nuid": "eeefb94c-eec2-4cf7-b1b9-36f89033c949",
     "showTitle": false,
     "tableResultSettingsMap": {},
     "title": ""
    }
   },
   "outputs": [],
   "source": [
    "%sql create database if not exists school;"
   ]
  },
  {
   "cell_type": "code",
   "execution_count": 0,
   "metadata": {
    "application/vnd.databricks.v1+cell": {
     "cellMetadata": {
      "byteLimit": 2048000,
      "implicitDf": true,
      "rowLimit": 10000
     },
     "inputWidgets": {},
     "nuid": "e03cf220-b51d-4d4d-8d43-fd04964e2341",
     "showTitle": false,
     "tableResultSettingsMap": {},
     "title": ""
    }
   },
   "outputs": [
    {
     "output_type": "display_data",
     "data": {
      "text/html": [
       "<style scoped>\n",
       "  .table-result-container {\n",
       "    max-height: 300px;\n",
       "    overflow: auto;\n",
       "  }\n",
       "  table, th, td {\n",
       "    border: 1px solid black;\n",
       "    border-collapse: collapse;\n",
       "  }\n",
       "  th, td {\n",
       "    padding: 5px;\n",
       "  }\n",
       "  th {\n",
       "    text-align: left;\n",
       "  }\n",
       "</style><div class='table-result-container'><table class='table-result'><thead style='background-color: white'><tr></tr></thead><tbody></tbody></table></div>"
      ]
     },
     "metadata": {
      "application/vnd.databricks.v1+output": {
       "addedWidgets": {},
       "aggData": [],
       "aggError": "",
       "aggOverflow": false,
       "aggSchema": [],
       "aggSeriesLimitReached": false,
       "aggType": "",
       "arguments": {},
       "columnCustomDisplayInfos": {},
       "data": [],
       "datasetInfos": [],
       "dbfsResultPath": null,
       "isJsonSchema": true,
       "metadata": {
        "dataframeName": null
       },
       "overflow": false,
       "plotOptions": {
        "customPlotOptions": {},
        "displayType": "table",
        "pivotAggregation": null,
        "pivotColumns": null,
        "xColumns": null,
        "yColumns": null
       },
       "removedWidgets": [],
       "schema": [],
       "type": "table"
      }
     },
     "output_type": "display_data"
    }
   ],
   "source": [
    "%sql create schema if not exists school1;"
   ]
  },
  {
   "cell_type": "code",
   "execution_count": 0,
   "metadata": {
    "application/vnd.databricks.v1+cell": {
     "cellMetadata": {
      "byteLimit": 2048000,
      "rowLimit": 10000
     },
     "inputWidgets": {},
     "nuid": "4e738c9d-c4c0-433d-acfe-81580611cf6d",
     "showTitle": false,
     "tableResultSettingsMap": {},
     "title": ""
    },
    "id": "e08QGBkxPzPk"
   },
   "outputs": [],
   "source": [
    "df_4.write.bucketBy(3,'name').format('csv').option('path','/mnt/input/student_partition').saveAsTable('school.student_table',bucket='name',mode='append')"
   ]
  },
  {
   "cell_type": "code",
   "execution_count": 0,
   "metadata": {
    "application/vnd.databricks.v1+cell": {
     "cellMetadata": {
      "byteLimit": 2048000,
      "rowLimit": 10000
     },
     "inputWidgets": {},
     "nuid": "f1f2c1f3-ac7a-4e87-b939-ec58cca43f32",
     "showTitle": false,
     "tableResultSettingsMap": {},
     "title": ""
    },
    "id": "JoJoXYcqQcuP"
   },
   "outputs": [],
   "source": [
    "df1_2=spark.read.table('school.student_table')"
   ]
  },
  {
   "cell_type": "code",
   "execution_count": 0,
   "metadata": {
    "application/vnd.databricks.v1+cell": {
     "cellMetadata": {
      "byteLimit": 2048000,
      "rowLimit": 10000
     },
     "inputWidgets": {},
     "nuid": "db281e20-99ab-46c6-b3dc-a1f6b9deb2c1",
     "showTitle": false,
     "tableResultSettingsMap": {},
     "title": ""
    },
    "colab": {
     "base_uri": "https://localhost:8080/"
    },
    "id": "ldHANR1LSjVE",
    "outputId": "b9337b7a-b6ed-489f-964e-7b4a9ade1174"
   },
   "outputs": [
    {
     "output_type": "stream",
     "name": "stdout",
     "output_type": "stream",
     "text": [
      "+---+-----------+-------+------------+---------------+---+------+-----+\n| id|       name|section|annual_marks|half_year_marks|age|gender|grade|\n+---+-----------+-------+------------+---------------+---+------+-----+\n|  2|Simran Kaur|      B|          90|             45| 17|Female|    B|\n+---+-----------+-------+------------+---------------+---+------+-----+\n\n"
     ]
    }
   ],
   "source": [
    "df1_2.filter('name=\"Simran Kaur\"').show()"
   ]
  },
  {
   "cell_type": "code",
   "execution_count": 0,
   "metadata": {
    "application/vnd.databricks.v1+cell": {
     "cellMetadata": {
      "byteLimit": 2048000,
      "implicitDf": true,
      "rowLimit": 10000
     },
     "inputWidgets": {},
     "nuid": "52afcd1d-9e8f-4b6c-8c88-13b066a9d46d",
     "showTitle": false,
     "tableResultSettingsMap": {},
     "title": ""
    }
   },
   "outputs": [
    {
     "output_type": "display_data",
     "data": {
      "text/html": [
       "<style scoped>\n",
       "  .table-result-container {\n",
       "    max-height: 300px;\n",
       "    overflow: auto;\n",
       "  }\n",
       "  table, th, td {\n",
       "    border: 1px solid black;\n",
       "    border-collapse: collapse;\n",
       "  }\n",
       "  th, td {\n",
       "    padding: 5px;\n",
       "  }\n",
       "  th {\n",
       "    text-align: left;\n",
       "  }\n",
       "</style><div class='table-result-container'><table class='table-result'><thead style='background-color: white'><tr><th>id</th><th>name</th><th>section</th><th>annual_marks</th><th>half_year_marks</th><th>age</th><th>gender</th><th>grade</th></tr></thead><tbody><tr><td>2</td><td>Simran Kaur</td><td>B</td><td>90</td><td>45</td><td>17</td><td>Female</td><td>B</td></tr><tr><td>7</td><td>Karan Verma</td><td>C</td><td>79</td><td>39</td><td>16</td><td>Male</td><td>C</td></tr><tr><td>10</td><td>Preeti Joshi</td><td>C</td><td>75</td><td>37</td><td>16</td><td>Female</td><td>C</td></tr><tr><td>12</td><td>Sneha Desai</td><td>B</td><td>89</td><td>44</td><td>16</td><td>Female</td><td>B</td></tr><tr><td>13</td><td>Arvind Choudhary</td><td>C</td><td>95</td><td>47</td><td>17</td><td>Male</td><td>A</td></tr><tr><td>17</td><td>Suraj Patel</td><td>A</td><td>77</td><td>38</td><td>16</td><td>Male</td><td>C</td></tr><tr><td>18</td><td>Divya Ramesh</td><td>B</td><td>85</td><td>43</td><td>17</td><td>Female</td><td>B</td></tr><tr><td>19</td><td>Jayesh Shah</td><td>C</td><td>90</td><td>45</td><td>16</td><td>Male</td><td>B</td></tr><tr><td>21</td><td>Ajay Yadav</td><td>B</td><td>94</td><td>47</td><td>16</td><td>Male</td><td>A</td></tr><tr><td>28</td><td>Sunita Rao</td><td>C</td><td>92</td><td>46</td><td>17</td><td>Female</td><td>A</td></tr><tr><td>29</td><td>Harpreet Singh</td><td>A</td><td>93</td><td>46</td><td>17</td><td>Male</td><td>A</td></tr><tr><td>30</td><td>Geetika Arora</td><td>B</td><td>95</td><td>47</td><td>16</td><td>Female</td><td>A</td></tr><tr><td>31</td><td>Geetika Arora</td><td>B</td><td>0</td><td>47</td><td>16</td><td>null</td><td>D</td></tr><tr><td>4</td><td>Neha Patel</td><td>C</td><td>88</td><td>44</td><td>16</td><td>Female</td><td>B</td></tr><tr><td>5</td><td>Manoj Sharma</td><td>A</td><td>82</td><td>41</td><td>16</td><td>Male</td><td>B</td></tr><tr><td>9</td><td>Rohit Mehra</td><td>B</td><td>80</td><td>40</td><td>15</td><td>Male</td><td>C</td></tr><tr><td>11</td><td>Harish Yadav</td><td>A</td><td>93</td><td>42</td><td>17</td><td>Male</td><td>A</td></tr><tr><td>14</td><td>Rupa Iyer</td><td>A</td><td>70</td><td>35</td><td>15</td><td>Female</td><td>D</td></tr><tr><td>20</td><td>Priya Kapoor</td><td>A</td><td>78</td><td>39</td><td>16</td><td>Female</td><td>C</td></tr><tr><td>22</td><td>Neelam Saxena</td><td>C</td><td>82</td><td>41</td><td>17</td><td>Female</td><td>B</td></tr><tr><td>23</td><td>Vikas Verma</td><td>A</td><td>88</td><td>44</td><td>15</td><td>Male</td><td>B</td></tr><tr><td>24</td><td>Kriti Mehta</td><td>B</td><td>86</td><td>43</td><td>16</td><td>Female</td><td>B</td></tr><tr><td>27</td><td>Devansh Kumar</td><td>B</td><td>74</td><td>37</td><td>15</td><td>Male</td><td>C</td></tr><tr><td>1</td><td>Arjun Kumar</td><td>A</td><td>85</td><td>42</td><td>16</td><td>Male</td><td>B</td></tr><tr><td>3</td><td>Ravi Singh</td><td>A</td><td>93</td><td>39</td><td>15</td><td>Male</td><td>A</td></tr><tr><td>6</td><td>Anjali Reddy</td><td>B</td><td>91</td><td>46</td><td>17</td><td>Female</td><td>A</td></tr><tr><td>8</td><td>Sanya Gupta</td><td>A</td><td>92</td><td>46</td><td>17</td><td>Female</td><td>A</td></tr><tr><td>15</td><td>Vishal Bansal</td><td>B</td><td>93</td><td>47</td><td>16</td><td>Male</td><td>A</td></tr><tr><td>16</td><td>Kavita Nair</td><td>C</td><td>81</td><td>40</td><td>16</td><td>Female</td><td>B</td></tr><tr><td>25</td><td>Rajeev Bhatia</td><td>C</td><td>80</td><td>40</td><td>16</td><td>Male</td><td>C</td></tr><tr><td>26</td><td>Shilpa Chawla</td><td>A</td><td>87</td><td>43</td><td>16</td><td>Female</td><td>B</td></tr></tbody></table></div>"
      ]
     },
     "metadata": {
      "application/vnd.databricks.v1+output": {
       "addedWidgets": {},
       "aggData": [],
       "aggError": "",
       "aggOverflow": false,
       "aggSchema": [],
       "aggSeriesLimitReached": false,
       "aggType": "",
       "arguments": {},
       "columnCustomDisplayInfos": {},
       "data": [
        [
         2,
         "Simran Kaur",
         "B",
         90,
         45,
         17,
         "Female",
         "B"
        ],
        [
         7,
         "Karan Verma",
         "C",
         79,
         39,
         16,
         "Male",
         "C"
        ],
        [
         10,
         "Preeti Joshi",
         "C",
         75,
         37,
         16,
         "Female",
         "C"
        ],
        [
         12,
         "Sneha Desai",
         "B",
         89,
         44,
         16,
         "Female",
         "B"
        ],
        [
         13,
         "Arvind Choudhary",
         "C",
         95,
         47,
         17,
         "Male",
         "A"
        ],
        [
         17,
         "Suraj Patel",
         "A",
         77,
         38,
         16,
         "Male",
         "C"
        ],
        [
         18,
         "Divya Ramesh",
         "B",
         85,
         43,
         17,
         "Female",
         "B"
        ],
        [
         19,
         "Jayesh Shah",
         "C",
         90,
         45,
         16,
         "Male",
         "B"
        ],
        [
         21,
         "Ajay Yadav",
         "B",
         94,
         47,
         16,
         "Male",
         "A"
        ],
        [
         28,
         "Sunita Rao",
         "C",
         92,
         46,
         17,
         "Female",
         "A"
        ],
        [
         29,
         "Harpreet Singh",
         "A",
         93,
         46,
         17,
         "Male",
         "A"
        ],
        [
         30,
         "Geetika Arora",
         "B",
         95,
         47,
         16,
         "Female",
         "A"
        ],
        [
         31,
         "Geetika Arora",
         "B",
         0,
         47,
         16,
         null,
         "D"
        ],
        [
         4,
         "Neha Patel",
         "C",
         88,
         44,
         16,
         "Female",
         "B"
        ],
        [
         5,
         "Manoj Sharma",
         "A",
         82,
         41,
         16,
         "Male",
         "B"
        ],
        [
         9,
         "Rohit Mehra",
         "B",
         80,
         40,
         15,
         "Male",
         "C"
        ],
        [
         11,
         "Harish Yadav",
         "A",
         93,
         42,
         17,
         "Male",
         "A"
        ],
        [
         14,
         "Rupa Iyer",
         "A",
         70,
         35,
         15,
         "Female",
         "D"
        ],
        [
         20,
         "Priya Kapoor",
         "A",
         78,
         39,
         16,
         "Female",
         "C"
        ],
        [
         22,
         "Neelam Saxena",
         "C",
         82,
         41,
         17,
         "Female",
         "B"
        ],
        [
         23,
         "Vikas Verma",
         "A",
         88,
         44,
         15,
         "Male",
         "B"
        ],
        [
         24,
         "Kriti Mehta",
         "B",
         86,
         43,
         16,
         "Female",
         "B"
        ],
        [
         27,
         "Devansh Kumar",
         "B",
         74,
         37,
         15,
         "Male",
         "C"
        ],
        [
         1,
         "Arjun Kumar",
         "A",
         85,
         42,
         16,
         "Male",
         "B"
        ],
        [
         3,
         "Ravi Singh",
         "A",
         93,
         39,
         15,
         "Male",
         "A"
        ],
        [
         6,
         "Anjali Reddy",
         "B",
         91,
         46,
         17,
         "Female",
         "A"
        ],
        [
         8,
         "Sanya Gupta",
         "A",
         92,
         46,
         17,
         "Female",
         "A"
        ],
        [
         15,
         "Vishal Bansal",
         "B",
         93,
         47,
         16,
         "Male",
         "A"
        ],
        [
         16,
         "Kavita Nair",
         "C",
         81,
         40,
         16,
         "Female",
         "B"
        ],
        [
         25,
         "Rajeev Bhatia",
         "C",
         80,
         40,
         16,
         "Male",
         "C"
        ],
        [
         26,
         "Shilpa Chawla",
         "A",
         87,
         43,
         16,
         "Female",
         "B"
        ]
       ],
       "datasetInfos": [
        {
         "name": "_sqldf",
         "schema": {
          "fields": [
           {
            "metadata": {},
            "name": "id",
            "nullable": true,
            "type": "integer"
           },
           {
            "metadata": {},
            "name": "name",
            "nullable": true,
            "type": "string"
           },
           {
            "metadata": {},
            "name": "section",
            "nullable": true,
            "type": "string"
           },
           {
            "metadata": {},
            "name": "annual_marks",
            "nullable": true,
            "type": "integer"
           },
           {
            "metadata": {},
            "name": "half_year_marks",
            "nullable": true,
            "type": "integer"
           },
           {
            "metadata": {},
            "name": "age",
            "nullable": true,
            "type": "integer"
           },
           {
            "metadata": {},
            "name": "gender",
            "nullable": true,
            "type": "string"
           },
           {
            "metadata": {},
            "name": "grade",
            "nullable": true,
            "type": "string"
           }
          ],
          "type": "struct"
         },
         "tableIdentifier": null,
         "typeStr": "pyspark.sql.dataframe.DataFrame"
        }
       ],
       "dbfsResultPath": null,
       "isJsonSchema": true,
       "metadata": {
        "createTempViewForImplicitDf": true,
        "dataframeName": "_sqldf",
        "executionCount": 40
       },
       "overflow": false,
       "plotOptions": {
        "customPlotOptions": {},
        "displayType": "table",
        "pivotAggregation": null,
        "pivotColumns": null,
        "xColumns": null,
        "yColumns": null
       },
       "removedWidgets": [],
       "schema": [
        {
         "metadata": "{}",
         "name": "id",
         "type": "\"integer\""
        },
        {
         "metadata": "{}",
         "name": "name",
         "type": "\"string\""
        },
        {
         "metadata": "{}",
         "name": "section",
         "type": "\"string\""
        },
        {
         "metadata": "{}",
         "name": "annual_marks",
         "type": "\"integer\""
        },
        {
         "metadata": "{}",
         "name": "half_year_marks",
         "type": "\"integer\""
        },
        {
         "metadata": "{}",
         "name": "age",
         "type": "\"integer\""
        },
        {
         "metadata": "{}",
         "name": "gender",
         "type": "\"string\""
        },
        {
         "metadata": "{}",
         "name": "grade",
         "type": "\"string\""
        }
       ],
       "type": "table"
      }
     },
     "output_type": "display_data"
    }
   ],
   "source": [
    "%sql\n",
    "select * from school.student_table"
   ]
  },
  {
   "cell_type": "code",
   "execution_count": 0,
   "metadata": {
    "application/vnd.databricks.v1+cell": {
     "cellMetadata": {},
     "inputWidgets": {},
     "nuid": "7dde645d-9195-46f4-8143-be61f80a676b",
     "showTitle": false,
     "tableResultSettingsMap": {},
     "title": ""
    }
   },
   "outputs": [],
   "source": []
  }
 ],
 "metadata": {
  "application/vnd.databricks.v1+notebook": {
   "computePreferences": null,
   "dashboards": [],
   "environmentMetadata": null,
   "inputWidgetPreferences": null,
   "language": "python",
   "notebookMetadata": {
    "mostRecentlyExecutedCommandWithImplicitDF": {
     "commandId": 6650003334705552,
     "dataframes": [
      "_sqldf"
     ]
    },
    "pythonIndentUnit": 4
   },
   "notebookName": "Databricks_kit",
   "widgets": {}
  },
  "colab": {
   "provenance": []
  },
  "kernelspec": {
   "display_name": "Python 3",
   "name": "python3"
  },
  "language_info": {
   "name": "python"
  }
 },
 "nbformat": 4,
 "nbformat_minor": 0
}