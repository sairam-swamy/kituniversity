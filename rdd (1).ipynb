{
 "cells": [
  {
   "cell_type": "code",
   "execution_count": 0,
   "metadata": {
    "application/vnd.databricks.v1+cell": {
     "cellMetadata": {},
     "inputWidgets": {},
     "nuid": "704a8262-dd4e-41ab-bbd8-842371a5f893",
     "showTitle": false,
     "tableResultSettingsMap": {},
     "title": ""
    },
    "id": "mDYhIxnuI0BN"
   },
   "outputs": [],
   "source": [
    "from pyspark.sql import SparkSession\n",
    "spark=SparkSession.builder.appName('demo').getOrCreate()"
   ]
  },
  {
   "cell_type": "code",
   "execution_count": 0,
   "metadata": {
    "application/vnd.databricks.v1+cell": {
     "cellMetadata": {
      "byteLimit": 2048000,
      "rowLimit": 10000
     },
     "inputWidgets": {},
     "nuid": "42ff2ac0-2d43-487d-8efa-669c0fe1095a",
     "showTitle": false,
     "tableResultSettingsMap": {},
     "title": ""
    },
    "colab": {
     "base_uri": "https://localhost:8080/"
    },
    "id": "-yVOEyvKzu5e",
    "outputId": "98931f7e-ef0d-4ae3-b35a-92d74a1025ab"
   },
   "outputs": [
    {
     "output_type": "stream",
     "name": "stdout",
     "output_type": "stream",
     "text": [
      "8\n[[], [10], [], [20], [], [30], [], [40]]\n"
     ]
    }
   ],
   "source": [
    "intlist=[10,20,30,40]\n",
    "rdd1=sc.parallelize(intlist)\n",
    "print(rdd1.getNumPartitions())\n",
    "print(rdd1.glom().collect())\n"
   ]
  },
  {
   "cell_type": "code",
   "execution_count": 0,
   "metadata": {
    "application/vnd.databricks.v1+cell": {
     "cellMetadata": {
      "byteLimit": 2048000,
      "rowLimit": 10000
     },
     "inputWidgets": {},
     "nuid": "e367ac3b-7ee1-4025-bce7-455b75909a83",
     "showTitle": false,
     "tableResultSettingsMap": {},
     "title": ""
    },
    "colab": {
     "base_uri": "https://localhost:8080/"
    },
    "id": "XzguNNR61kkP",
    "outputId": "6e746faa-edb4-4070-ca3c-1cfd44d37305"
   },
   "outputs": [
    {
     "output_type": "stream",
     "name": "stdout",
     "output_type": "stream",
     "text": [
      "[(1, 'sairam'), (2, 'capgemini'), (3, 'lti Mindtree'), (4, 'Deloitte')]\n<class 'pyspark.core.rdd.RDD'>\n"
     ]
    }
   ],
   "source": [
    "stringlist=[(1,'sairam'),(2,'capgemini'),(3,'lti Mindtree'),(4,'Deloitte')]\n",
    "rdd1=sc.parallelize(stringlist)\n",
    "print(rdd1.collect())\n",
    "print(type(rdd1))"
   ]
  },
  {
   "cell_type": "code",
   "execution_count": 0,
   "metadata": {
    "application/vnd.databricks.v1+cell": {
     "cellMetadata": {
      "byteLimit": 2048000,
      "rowLimit": 10000
     },
     "inputWidgets": {},
     "nuid": "f401419a-2fb7-4a8e-9fdd-03e7177c59f0",
     "showTitle": false,
     "tableResultSettingsMap": {},
     "title": ""
    },
    "colab": {
     "base_uri": "https://localhost:8080/"
    },
    "id": "hrZakVlq4nkX",
    "outputId": "f3385d35-4079-4678-d4dd-1d702408930a"
   },
   "outputs": [
    {
     "output_type": "stream",
     "name": "stdout",
     "output_type": "stream",
     "text": [
      "[(1, 'sai'), (2, 'ram'), (3, 'capgemini'), (4, 'Discussion')]\n<class 'pyspark.core.rdd.RDD'>\n"
     ]
    }
   ],
   "source": [
    "dictlist={1:'sai',2:'ram',3:'capgemini',4:'Discussion'}\n",
    "rdd1=sc.parallelize(dictlist.items())\n",
    "print(rdd1.collect())\n",
    "print(type(rdd1))"
   ]
  },
  {
   "cell_type": "code",
   "execution_count": 0,
   "metadata": {
    "application/vnd.databricks.v1+cell": {
     "cellMetadata": {
      "byteLimit": 2048000,
      "rowLimit": 10000
     },
     "inputWidgets": {},
     "nuid": "1351153d-7c0d-47b0-9667-5b9a783dd3dc",
     "showTitle": false,
     "tableResultSettingsMap": {},
     "title": ""
    },
    "colab": {
     "base_uri": "https://localhost:8080/"
    },
    "id": "ODTScpVl9OQh",
    "outputId": "1f58b4da-2bdb-4281-abc0-557b88cffe44"
   },
   "outputs": [
    {
     "output_type": "stream",
     "name": "stdout",
     "output_type": "stream",
     "text": [
      "<class 'pyspark.core.rdd.RDD'>\n[10, 11, 12, 13, 14, 15, 16, 17, 18, 19, 20]\n<class 'pyspark.core.rdd.PipelinedRDD'>\n[11, 13, 15, 17, 19]\n"
     ]
    }
   ],
   "source": [
    "intlist=[10,11,12,13,14,15,16,17,18,19,20]\n",
    "rdd=sc.parallelize(intlist)\n",
    "print(type(rdd))\n",
    "print(rdd.collect())\n",
    "filterrdd=rdd.filter(lambda x:x%2!=0)\n",
    "print(type(filterrdd))\n",
    "print(filterrdd.collect())"
   ]
  },
  {
   "cell_type": "code",
   "execution_count": 0,
   "metadata": {
    "application/vnd.databricks.v1+cell": {
     "cellMetadata": {
      "byteLimit": 2048000,
      "rowLimit": 10000
     },
     "inputWidgets": {},
     "nuid": "2e045efc-ca1c-4739-953b-65bff9e3ce92",
     "showTitle": false,
     "tableResultSettingsMap": {},
     "title": ""
    },
    "colab": {
     "base_uri": "https://localhost:8080/"
    },
    "id": "kQmwbwFj-Jfz",
    "outputId": "67c2fbdb-1a25-41d4-a45c-1ba782c599ad"
   },
   "outputs": [
    {
     "output_type": "stream",
     "name": "stdout",
     "output_type": "stream",
     "text": [
      "[11, 13, 15, 17, 19]\n"
     ]
    }
   ],
   "source": [
    "print(filterrdd.collect())"
   ]
  },
  {
   "cell_type": "code",
   "execution_count": 0,
   "metadata": {
    "application/vnd.databricks.v1+cell": {
     "cellMetadata": {
      "byteLimit": 2048000,
      "rowLimit": 10000
     },
     "inputWidgets": {},
     "nuid": "c8a0dcaf-1475-4b2f-bd2a-3fe2c434a1c2",
     "showTitle": false,
     "tableResultSettingsMap": {},
     "title": ""
    },
    "colab": {
     "base_uri": "https://localhost:8080/"
    },
    "id": "p7_AN95h_LPz",
    "outputId": "9b06b2ec-102f-4213-a3db-7cf2e6db36de"
   },
   "outputs": [
    {
     "output_type": "stream",
     "name": "stdout",
     "output_type": "stream",
     "text": [
      "['sairam', 'capgemini', 'mndtree', 'deloitte']\n<class 'pyspark.core.rdd.PipelinedRDD'>\n['sairam', 'capgemini', 'deloitte']\n"
     ]
    }
   ],
   "source": [
    "stringlist=['sairam','capgemini','mndtree','deloitte']\n",
    "rdd=sc.parallelize(stringlist)\n",
    "print(rdd.collect())\n",
    "filterrdd=rdd.filter(lambda x:'i' in x)\n",
    "print(type(filterrdd))\n",
    "print(filterrdd.collect())"
   ]
  },
  {
   "cell_type": "code",
   "execution_count": 0,
   "metadata": {
    "application/vnd.databricks.v1+cell": {
     "cellMetadata": {
      "byteLimit": 2048000,
      "rowLimit": 10000
     },
     "inputWidgets": {},
     "nuid": "bc4c2094-74b6-47a8-bea4-2494c93d8268",
     "showTitle": false,
     "tableResultSettingsMap": {},
     "title": ""
    },
    "colab": {
     "base_uri": "https://localhost:8080/"
    },
    "id": "HiMtVJrW_5l6",
    "outputId": "bc1b184f-cdf5-48a9-dfc5-b34643d452ee"
   },
   "outputs": [
    {
     "output_type": "stream",
     "name": "stdout",
     "output_type": "stream",
     "text": [
      "[3, 4, 5, 6, 7]\n<class 'pyspark.core.rdd.PipelinedRDD'>\n[6, 8, 10, 12, 14]\n"
     ]
    }
   ],
   "source": [
    "intlist=[3,4,5,6,7]\n",
    "rdd=sc.parallelize(intlist)\n",
    "print(rdd.collect())\n",
    "maprdd=rdd.map(lambda x:x+x)\n",
    "print(type(maprdd))\n",
    "print(maprdd.collect())"
   ]
  },
  {
   "cell_type": "code",
   "execution_count": 0,
   "metadata": {
    "application/vnd.databricks.v1+cell": {
     "cellMetadata": {
      "byteLimit": 2048000,
      "rowLimit": 10000
     },
     "inputWidgets": {},
     "nuid": "8f4eec9f-d51d-4cec-a7f4-bed04d2747a7",
     "showTitle": false,
     "tableResultSettingsMap": {},
     "title": ""
    },
    "colab": {
     "base_uri": "https://localhost:8080/"
    },
    "id": "kyTTLVqaA90C",
    "outputId": "d0cfc3ef-227f-491c-d177-b998606724d4"
   },
   "outputs": [
    {
     "output_type": "stream",
     "name": "stdout",
     "output_type": "stream",
     "text": [
      "['Sai', 'Ram', 'Capgemini', 'Discussion']\n"
     ]
    }
   ],
   "source": [
    "stringlist=['sai','ram','capgemini','discussion']\n",
    "rdd=sc.parallelize(stringlist)\n",
    "maprdd=rdd.map(lambda x:x.title())\n",
    "print(maprdd.collect())"
   ]
  },
  {
   "cell_type": "code",
   "execution_count": 0,
   "metadata": {
    "application/vnd.databricks.v1+cell": {
     "cellMetadata": {
      "byteLimit": 2048000,
      "rowLimit": 10000
     },
     "inputWidgets": {},
     "nuid": "9b129914-95ce-4d7a-af85-15913ab28c11",
     "showTitle": false,
     "tableResultSettingsMap": {},
     "title": ""
    },
    "id": "gXfiDlCBBjUE"
   },
   "outputs": [],
   "source": [
    "para=['The company has been spending crores for its employees for their well being',\n",
    " 'the employees are misunderstanding the company as the company is asking to do the work for 10 hours a day',\n",
    " 'several employees has been laid off by company due to recession impact']"
   ]
  },
  {
   "cell_type": "code",
   "execution_count": 0,
   "metadata": {
    "application/vnd.databricks.v1+cell": {
     "cellMetadata": {
      "byteLimit": 2048000,
      "rowLimit": 10000
     },
     "inputWidgets": {},
     "nuid": "6806df56-08b3-4999-8eb6-f0430d506733",
     "showTitle": false,
     "tableResultSettingsMap": {},
     "title": ""
    },
    "colab": {
     "base_uri": "https://localhost:8080/"
    },
    "id": "tBL1NJE6CW_E",
    "outputId": "67ef7f28-b38e-4d5d-9673-82b320e00fae"
   },
   "outputs": [
    {
     "output_type": "execute_result",
     "data": {
      "text/plain": [
       "['The company has been spending crores for its employees for their well being',\n",
       " 'the employees are misunderstanding the company as the company is asking to do the work for 10 hours a day',\n",
       " 'several employees has been laid off by company due to recession impact']"
      ]
     },
     "execution_count": 13,
     "metadata": {},
     "output_type": "execute_result"
    }
   ],
   "source": [
    "rdd=sc.parallelize(para)\n",
    "rdd.collect()"
   ]
  },
  {
   "cell_type": "code",
   "execution_count": 0,
   "metadata": {
    "application/vnd.databricks.v1+cell": {
     "cellMetadata": {
      "byteLimit": 2048000,
      "rowLimit": 10000
     },
     "inputWidgets": {},
     "nuid": "2dc93e86-e763-44bf-8a6d-7ea115079861",
     "showTitle": false,
     "tableResultSettingsMap": {},
     "title": ""
    },
    "id": "oNC53uoNChLO"
   },
   "outputs": [],
   "source": [
    "rdd1=rdd.filter(lambda x:'company' in x)\n",
    "\n",
    "rdd2=rdd1.map(lambda x:x.upper())\n"
   ]
  },
  {
   "cell_type": "code",
   "execution_count": 0,
   "metadata": {
    "application/vnd.databricks.v1+cell": {
     "cellMetadata": {
      "byteLimit": 2048000,
      "rowLimit": 10000
     },
     "inputWidgets": {},
     "nuid": "33feca8c-a4e5-4300-949d-d2fa36482719",
     "showTitle": false,
     "tableResultSettingsMap": {},
     "title": ""
    },
    "colab": {
     "base_uri": "https://localhost:8080/"
    },
    "id": "jgxtIXT5DTWX",
    "outputId": "52f61152-e245-41d7-ae7c-6341410ea196"
   },
   "outputs": [
    {
     "output_type": "execute_result",
     "data": {
      "text/plain": [
       "['The company has been spending crores for its employees for their well being',\n",
       " 'the employees are misunderstanding the company as the company is asking to do the work for 10 hours a day',\n",
       " 'several employees has been laid off by company due to recession impact']"
      ]
     },
     "execution_count": 15,
     "metadata": {},
     "output_type": "execute_result"
    }
   ],
   "source": [
    "rdd1.collect()"
   ]
  },
  {
   "cell_type": "code",
   "execution_count": 0,
   "metadata": {
    "application/vnd.databricks.v1+cell": {
     "cellMetadata": {
      "byteLimit": 2048000,
      "rowLimit": 10000
     },
     "inputWidgets": {},
     "nuid": "465ff75e-c345-44b2-83c0-0b4d1442562f",
     "showTitle": false,
     "tableResultSettingsMap": {},
     "title": ""
    },
    "colab": {
     "base_uri": "https://localhost:8080/"
    },
    "id": "PEDPviz-OkEx",
    "outputId": "a3be18eb-ae37-48d4-c2ad-b01e8419e166"
   },
   "outputs": [
    {
     "output_type": "execute_result",
     "data": {
      "text/plain": [
       "['THE COMPANY HAS BEEN SPENDING CRORES FOR ITS EMPLOYEES FOR THEIR WELL BEING',\n",
       " 'THE EMPLOYEES ARE MISUNDERSTANDING THE COMPANY AS THE COMPANY IS ASKING TO DO THE WORK FOR 10 HOURS A DAY',\n",
       " 'SEVERAL EMPLOYEES HAS BEEN LAID OFF BY COMPANY DUE TO RECESSION IMPACT']"
      ]
     },
     "execution_count": 16,
     "metadata": {},
     "output_type": "execute_result"
    }
   ],
   "source": [
    "rdd2.collect()"
   ]
  },
  {
   "cell_type": "code",
   "execution_count": 0,
   "metadata": {
    "application/vnd.databricks.v1+cell": {
     "cellMetadata": {
      "byteLimit": 2048000,
      "rowLimit": 10000
     },
     "inputWidgets": {},
     "nuid": "b3e9127f-70e3-473f-81a4-787d08c89e07",
     "showTitle": false,
     "tableResultSettingsMap": {},
     "title": ""
    },
    "colab": {
     "base_uri": "https://localhost:8080/"
    },
    "id": "Vq15XUVYL9L7",
    "outputId": "37224042-170f-4251-82f6-c988768d5769"
   },
   "outputs": [
    {
     "output_type": "stream",
     "name": "stdout",
     "output_type": "stream",
     "text": [
      "['1,2,3', '4,5,6', '7,8,9']\n"
     ]
    }
   ],
   "source": [
    "intlist=['1,2,3','4,5,6','7,8,9']\n",
    "rdd=sc.parallelize(intlist)\n",
    "print(rdd.collect())"
   ]
  },
  {
   "cell_type": "code",
   "execution_count": 0,
   "metadata": {
    "application/vnd.databricks.v1+cell": {
     "cellMetadata": {
      "byteLimit": 2048000,
      "rowLimit": 10000
     },
     "inputWidgets": {},
     "nuid": "927b6b7c-aebb-4456-aabf-862b04d1818e",
     "showTitle": false,
     "tableResultSettingsMap": {},
     "title": ""
    },
    "colab": {
     "base_uri": "https://localhost:8080/"
    },
    "id": "nF0GqNJ7MQMo",
    "outputId": "068e6f3f-d8b4-4389-bc59-d058476361bc"
   },
   "outputs": [
    {
     "output_type": "stream",
     "name": "stdout",
     "output_type": "stream",
     "text": [
      "[['1', '2', '3'], ['4', '5', '6'], ['7', '8', '9']]\n"
     ]
    }
   ],
   "source": [
    "maprdd=rdd.map(lambda x:x.split(','))\n",
    "print(maprdd.collect())"
   ]
  },
  {
   "cell_type": "code",
   "execution_count": 0,
   "metadata": {
    "application/vnd.databricks.v1+cell": {
     "cellMetadata": {
      "byteLimit": 2048000,
      "rowLimit": 10000
     },
     "inputWidgets": {},
     "nuid": "728d4d55-0404-46e0-ad1f-45402f00f769",
     "showTitle": false,
     "tableResultSettingsMap": {},
     "title": ""
    },
    "colab": {
     "base_uri": "https://localhost:8080/"
    },
    "id": "MM8do1pPMoti",
    "outputId": "3cd546ce-6fad-4193-884e-dc0dfd13402b"
   },
   "outputs": [
    {
     "output_type": "stream",
     "name": "stdout",
     "output_type": "stream",
     "text": [
      "['1', '2', '3', '4', '5', '6', '7', '8', '9']\n"
     ]
    }
   ],
   "source": [
    "reducemap=maprdd.reduce(lambda x,y:x+y)\n",
    "print(reducemap)"
   ]
  },
  {
   "cell_type": "code",
   "execution_count": 0,
   "metadata": {
    "application/vnd.databricks.v1+cell": {
     "cellMetadata": {
      "byteLimit": 2048000,
      "rowLimit": 10000
     },
     "inputWidgets": {},
     "nuid": "08ed78d5-fd55-4dd6-ac3d-69adabd415b5",
     "showTitle": false,
     "tableResultSettingsMap": {},
     "title": ""
    },
    "colab": {
     "base_uri": "https://localhost:8080/"
    },
    "id": "tf3scoHwQOhz",
    "outputId": "dc43beb9-6738-4ace-ad26-4b470e1eb67e"
   },
   "outputs": [
    {
     "output_type": "stream",
     "name": "stdout",
     "output_type": "stream",
     "text": [
      "['1,2,3', '4,5,6', '7,8,9']\n['1', '2', '3', '4', '5', '6', '7', '8', '9']\n"
     ]
    }
   ],
   "source": [
    "intlist=['1,2,3','4,5,6','7,8,9']\n",
    "rdd=sc.parallelize(intlist)\n",
    "print(rdd.collect())\n",
    "reducemap=rdd.flatMap(lambda x:x.split(','))\n",
    "print(reducemap.collect())"
   ]
  },
  {
   "cell_type": "code",
   "execution_count": 0,
   "metadata": {
    "application/vnd.databricks.v1+cell": {
     "cellMetadata": {
      "byteLimit": 2048000,
      "rowLimit": 10000
     },
     "inputWidgets": {},
     "nuid": "7ee3416b-6cb7-4224-aa19-4e4d7ee373c8",
     "showTitle": false,
     "tableResultSettingsMap": {},
     "title": ""
    },
    "colab": {
     "base_uri": "https://localhost:8080/"
    },
    "id": "OZN8NXoRXkXn",
    "outputId": "a204b1a3-97db-4e81-ad07-662ce7663916"
   },
   "outputs": [
    {
     "output_type": "stream",
     "name": "stdout",
     "output_type": "stream",
     "text": [
      "8\n[[], [10], [], [20], [], [30], [], [40]]\n"
     ]
    }
   ],
   "source": [
    "intlist=[10,20,30,40]\n",
    "rdd1=sc.parallelize(intlist)\n",
    "print(rdd1.getNumPartitions())\n",
    "print(rdd1.glom().collect())"
   ]
  },
  {
   "cell_type": "code",
   "execution_count": 0,
   "metadata": {
    "application/vnd.databricks.v1+cell": {
     "cellMetadata": {
      "byteLimit": 2048000,
      "rowLimit": 10000
     },
     "inputWidgets": {},
     "nuid": "0a7e17d4-60f6-4862-b6c5-6bdb78269668",
     "showTitle": false,
     "tableResultSettingsMap": {},
     "title": ""
    },
    "colab": {
     "base_uri": "https://localhost:8080/"
    },
    "id": "hluzvSHfah7j",
    "outputId": "c0f0ae08-e437-4b5b-b8d3-8650d7b8fdb7"
   },
   "outputs": [
    {
     "output_type": "stream",
     "name": "stdout",
     "output_type": "stream",
     "text": [
      "8\n[[], [1], [], [2], [], [3], [], [4]]\n"
     ]
    }
   ],
   "source": [
    "rdd1=sc.parallelize([1,2,3,4])\n",
    "print(rdd1.getNumPartitions())\n",
    "print(rdd1.glom().collect())"
   ]
  },
  {
   "cell_type": "code",
   "execution_count": 0,
   "metadata": {
    "application/vnd.databricks.v1+cell": {
     "cellMetadata": {
      "byteLimit": 2048000,
      "rowLimit": 10000
     },
     "inputWidgets": {},
     "nuid": "abe54294-6326-4260-a129-4f31fdf9a052",
     "showTitle": false,
     "tableResultSettingsMap": {},
     "title": ""
    },
    "colab": {
     "base_uri": "https://localhost:8080/"
    },
    "id": "pnLbZdUeax2P",
    "outputId": "4d8a50fb-7253-4951-8276-5dc792a619c9"
   },
   "outputs": [
    {
     "output_type": "execute_result",
     "data": {
      "text/plain": [
       "[[], [1], [2], [3], [4]]"
      ]
     },
     "execution_count": 23,
     "metadata": {},
     "output_type": "execute_result"
    }
   ],
   "source": [
    "rdd=sc.parallelize([1,2,3,4],5)\n",
    "rdd2=rdd.glom()\n",
    "rdd2.collect()"
   ]
  },
  {
   "cell_type": "code",
   "execution_count": 0,
   "metadata": {
    "application/vnd.databricks.v1+cell": {
     "cellMetadata": {
      "byteLimit": 2048000,
      "rowLimit": 10000
     },
     "inputWidgets": {},
     "nuid": "e48c1449-5dce-492c-a8a0-588b4ad8b970",
     "showTitle": false,
     "tableResultSettingsMap": {},
     "title": ""
    },
    "colab": {
     "base_uri": "https://localhost:8080/"
    },
    "id": "gXhX-JW0bPQH",
    "outputId": "82457fea-3e28-42d2-af8e-a0bfee0cdf61"
   },
   "outputs": [
    {
     "output_type": "execute_result",
     "data": {
      "text/plain": [
       "[1, 4, 9, 16]"
      ]
     },
     "execution_count": 24,
     "metadata": {},
     "output_type": "execute_result"
    }
   ],
   "source": [
    "def square(value):\n",
    "  return value*value\n",
    "rdd.map(square).collect()"
   ]
  },
  {
   "cell_type": "code",
   "execution_count": 0,
   "metadata": {
    "application/vnd.databricks.v1+cell": {
     "cellMetadata": {
      "byteLimit": 2048000,
      "rowLimit": 10000
     },
     "inputWidgets": {},
     "nuid": "253cb85e-2b91-4b3f-a034-da4f2e9ee7c1",
     "showTitle": false,
     "tableResultSettingsMap": {},
     "title": ""
    },
    "colab": {
     "base_uri": "https://localhost:8080/"
    },
    "id": "kIIiqhLDbkNY",
    "outputId": "f554a6dc-f4f7-44ac-e41a-e16bc25b70b2"
   },
   "outputs": [
    {
     "output_type": "execute_result",
     "data": {
      "text/plain": [
       "[3, 7]"
      ]
     },
     "execution_count": 25,
     "metadata": {},
     "output_type": "execute_result"
    }
   ],
   "source": [
    "rdd=sc.parallelize([1,2,3,4],2)\n",
    "def f(partition):\n",
    "  yield sum(partition)\n",
    "rdd.mapPartitions(f).collect()"
   ]
  },
  {
   "cell_type": "code",
   "execution_count": 0,
   "metadata": {
    "application/vnd.databricks.v1+cell": {
     "cellMetadata": {
      "byteLimit": 2048000,
      "rowLimit": 10000
     },
     "inputWidgets": {},
     "nuid": "1e582b73-7c89-49d9-ac38-d15a1ec65a15",
     "showTitle": false,
     "tableResultSettingsMap": {},
     "title": ""
    },
    "colab": {
     "base_uri": "https://localhost:8080/"
    },
    "id": "h6V5OnVkceLo",
    "outputId": "30f7f87a-6fac-41fb-87ff-1ed02854cafa"
   },
   "outputs": [
    {
     "output_type": "execute_result",
     "data": {
      "text/plain": [
       "[6, 15, 24]"
      ]
     },
     "execution_count": 26,
     "metadata": {},
     "output_type": "execute_result"
    }
   ],
   "source": [
    "rdd=sc.parallelize([1,2,3,4,5,6,7,8,9],3)\n",
    "rdd.glom().collect()\n",
    "def f(partition):\n",
    "  yield sum(partition)\n",
    "rdd.mapPartitions(f).collect()"
   ]
  },
  {
   "cell_type": "code",
   "execution_count": 0,
   "metadata": {
    "application/vnd.databricks.v1+cell": {
     "cellMetadata": {
      "byteLimit": 2048000,
      "rowLimit": 10000
     },
     "inputWidgets": {},
     "nuid": "8dd7600c-1a00-4295-89d5-24626b0025ac",
     "showTitle": false,
     "tableResultSettingsMap": {},
     "title": ""
    },
    "colab": {
     "base_uri": "https://localhost:8080/"
    },
    "id": "CM5GmZ-gc4QQ",
    "outputId": "d1193f3b-5283-48f8-a039-4e4ff8f24402"
   },
   "outputs": [
    {
     "output_type": "stream",
     "name": "stdout",
     "output_type": "stream",
     "text": [
      "[[1, 2, 3], [4, 5, 6], [7, 8, 9]]\n"
     ]
    },
    {
     "output_type": "execute_result",
     "data": {
      "text/plain": [
       "[3, 3, 3]"
      ]
     },
     "execution_count": 28,
     "metadata": {},
     "output_type": "execute_result"
    }
   ],
   "source": [
    "rdd=sc.parallelize([1,2,3,4,5,6,7,8,9],3)\n",
    "rdd2=rdd.glom()\n",
    "print(rdd2.collect())\n",
    "def f(partition):\n",
    "  total=0\n",
    "  for element in partition:\n",
    "    total=total+1\n",
    "  yield total\n",
    "rdd.mapPartitions(f).collect()\n"
   ]
  },
  {
   "cell_type": "code",
   "execution_count": 0,
   "metadata": {
    "application/vnd.databricks.v1+cell": {
     "cellMetadata": {
      "byteLimit": 2048000,
      "rowLimit": 10000
     },
     "inputWidgets": {},
     "nuid": "10be967b-9e5b-466b-83fd-ebc27dec17e5",
     "showTitle": false,
     "tableResultSettingsMap": {},
     "title": ""
    },
    "colab": {
     "base_uri": "https://localhost:8080/"
    },
    "id": "YGrBEmJLejMw",
    "outputId": "0b79fa00-bb98-4996-9931-09c0376218a2"
   },
   "outputs": [
    {
     "output_type": "stream",
     "name": "stdout",
     "output_type": "stream",
     "text": [
      "[[1, 2], [3, 4], [5, 6], [7, 8, 9]]\n"
     ]
    },
    {
     "output_type": "execute_result",
     "data": {
      "text/plain": [
       "['0:3', '1:7', '2:11', '3:24']"
      ]
     },
     "execution_count": 29,
     "metadata": {},
     "output_type": "execute_result"
    }
   ],
   "source": [
    "rdd=sc.parallelize([1,2,3,4,5,6,7,8,9],4)\n",
    "rdd2=rdd.glom()\n",
    "print(rdd2.collect())\n",
    "def f(index,partition):\n",
    "  yield str(index)+\":\"+str(sum(partition))\n",
    "rdd.mapPartitionsWithIndex(f).collect()"
   ]
  },
  {
   "cell_type": "code",
   "execution_count": 0,
   "metadata": {
    "application/vnd.databricks.v1+cell": {
     "cellMetadata": {
      "byteLimit": 2048000,
      "rowLimit": 10000
     },
     "inputWidgets": {},
     "nuid": "f740f4f9-be7b-4e0e-a199-eeb687691382",
     "showTitle": false,
     "tableResultSettingsMap": {},
     "title": ""
    },
    "colab": {
     "base_uri": "https://localhost:8080/"
    },
    "id": "T_GMO04gfYgi",
    "outputId": "5e46b42c-c706-42e3-9e51-77e91329e129"
   },
   "outputs": [
    {
     "output_type": "stream",
     "name": "stdout",
     "output_type": "stream",
     "text": [
      "[[1, 2], [3, 4], [5, 6], [7, 8, 9]]\n"
     ]
    },
    {
     "output_type": "execute_result",
     "data": {
      "text/plain": [
       "['0:3', '1:7', '2:11', '3:24']"
      ]
     },
     "execution_count": 30,
     "metadata": {},
     "output_type": "execute_result"
    }
   ],
   "source": [
    "rdd=sc.parallelize([1,2,3,4,5,6,7,8,9],4)\n",
    "rdd2=rdd.glom()\n",
    "print(rdd2.collect())\n",
    "def f(index,partition):\n",
    "  total=0\n",
    "  for element in partition:\n",
    "    total=total+element\n",
    "  yield str(index)+\":\"+str(total)\n",
    "rdd.mapPartitionsWithIndex(f).collect()"
   ]
  },
  {
   "cell_type": "code",
   "execution_count": 0,
   "metadata": {
    "application/vnd.databricks.v1+cell": {
     "cellMetadata": {
      "byteLimit": 2048000,
      "rowLimit": 10000
     },
     "inputWidgets": {},
     "nuid": "1d402577-2ce7-4cde-bbbd-4f7422a03e0e",
     "showTitle": false,
     "tableResultSettingsMap": {},
     "title": ""
    },
    "colab": {
     "base_uri": "https://localhost:8080/"
    },
    "id": "2q4DMueQfzny",
    "outputId": "86ceda20-04e4-4001-d412-57ec3369224d"
   },
   "outputs": [
    {
     "output_type": "execute_result",
     "data": {
      "text/plain": [
       "[1, 2, 3, 4, 5, 6, 70, 80, 60, 50, 10, 20, 30, 40, 50, 60, 70, 80]"
      ]
     },
     "execution_count": 31,
     "metadata": {},
     "output_type": "execute_result"
    }
   ],
   "source": [
    "rdd=sc.parallelize([10,20,30,40,50,60,70,80])\n",
    "rdd2=sc.parallelize([1,2,3,4,5,6,70,80,60,50])\n",
    "rdd3=rdd2.union(rdd)\n",
    "rdd3.collect()"
   ]
  },
  {
   "cell_type": "code",
   "execution_count": 0,
   "metadata": {
    "application/vnd.databricks.v1+cell": {
     "cellMetadata": {
      "byteLimit": 2048000,
      "rowLimit": 10000
     },
     "inputWidgets": {},
     "nuid": "abba64dc-459c-4741-ba23-841934b7136e",
     "showTitle": false,
     "tableResultSettingsMap": {},
     "title": ""
    },
    "colab": {
     "base_uri": "https://localhost:8080/"
    },
    "id": "FLvoyzrigLqw",
    "outputId": "6e268eb2-f5dd-4fd8-bd4e-2065a6031a1f"
   },
   "outputs": [
    {
     "output_type": "execute_result",
     "data": {
      "text/plain": [
       "[80, 50, 70, 60]"
      ]
     },
     "execution_count": 32,
     "metadata": {},
     "output_type": "execute_result"
    }
   ],
   "source": [
    "rdd=sc.parallelize([10,20,30,40,50,60,70,80])\n",
    "rdd2=sc.parallelize([1,2,3,4,5,6,70,80,60,50])\n",
    "rdd3=rdd2.intersection(rdd)\n",
    "rdd3.collect()"
   ]
  },
  {
   "cell_type": "code",
   "execution_count": 0,
   "metadata": {
    "application/vnd.databricks.v1+cell": {
     "cellMetadata": {
      "byteLimit": 2048000,
      "rowLimit": 10000
     },
     "inputWidgets": {},
     "nuid": "d26ac9ca-47b5-40fc-8350-33f03d3e621a",
     "showTitle": false,
     "tableResultSettingsMap": {},
     "title": ""
    },
    "colab": {
     "base_uri": "https://localhost:8080/"
    },
    "id": "xibF8oNWdbe4",
    "outputId": "7d8c0a5a-b647-4508-b6a5-837b82c007bc"
   },
   "outputs": [
    {
     "output_type": "stream",
     "name": "stdout",
     "output_type": "stream",
     "text": [
      "2\n[['sai', 'ram', 'capgemini', 'Deloitte', 'Mindtree', 'LNT', 'JPMORGAN', 'Goldmansachs', 'DXC', 'TCS', 'Cognizant', 'Wipro'], ['Dell', 'Microsoft', 1, 2, 3, 4, 5, 6, 7, 8, 9, 0]]\n4\n[[], ['sai', 'ram', 'capgemini', 'Deloitte', 'Mindtree', 'LNT', 'JPMORGAN', 'Goldmansachs', 'DXC', 'TCS', 'Dell', 'Microsoft', 1, 2, 3, 4, 5, 6, 7, 8], [9, 0, 'Cognizant', 'Wipro'], []]\n"
     ]
    }
   ],
   "source": [
    "rdd=sc.parallelize(['sai','ram','capgemini','Deloitte','Mindtree','LNT','JPMORGAN','Goldmansachs','DXC','TCS','Cognizant','Wipro','Dell','Microsoft',1,2,3,4,5,6,7,8,9,0],2)\n",
    "print(rdd.getNumPartitions())\n",
    "print(rdd.glom().collect())\n",
    "rdd1=rdd.repartition(4)\n",
    "print(rdd1.getNumPartitions())\n",
    "print(rdd1.glom().collect())"
   ]
  },
  {
   "cell_type": "code",
   "execution_count": 0,
   "metadata": {
    "application/vnd.databricks.v1+cell": {
     "cellMetadata": {
      "byteLimit": 2048000,
      "rowLimit": 10000
     },
     "inputWidgets": {},
     "nuid": "e6e43a8c-2e2c-4266-8cdf-f465be644167",
     "showTitle": false,
     "tableResultSettingsMap": {},
     "title": ""
    },
    "colab": {
     "base_uri": "https://localhost:8080/"
    },
    "id": "D8wmoifNh4c7",
    "outputId": "e9d35538-0d04-440a-dc50-48a219085179"
   },
   "outputs": [
    {
     "output_type": "stream",
     "name": "stdout",
     "output_type": "stream",
     "text": [
      "2\n2\n"
     ]
    }
   ],
   "source": [
    "rdd=sc.parallelize(['sai','ram','capgemini','Deloitte','Mindtree','LNT','JPMORGAN','Goldmansachs','DXC','TCS','Cognizant','Wipro','Dell','Microsoft',1,2,3,4,5,6,7,8,9,0],2)\n",
    "print(rdd.getNumPartitions())\n",
    "rdd1=rdd.coalesce(4)\n",
    "print(rdd1.getNumPartitions())"
   ]
  }
 ],
 "metadata": {
  "application/vnd.databricks.v1+notebook": {
   "computePreferences": null,
   "dashboards": [],
   "environmentMetadata": null,
   "inputWidgetPreferences": null,
   "language": "python",
   "notebookMetadata": {
    "pythonIndentUnit": 4
   },
   "notebookName": "rdd",
   "widgets": {}
  },
  "colab": {
   "provenance": []
  },
  "kernelspec": {
   "display_name": "Python 3",
   "name": "python3"
  },
  "language_info": {
   "name": "python"
  }
 },
 "nbformat": 4,
 "nbformat_minor": 0
}