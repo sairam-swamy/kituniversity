{
 "cells": [
  {
   "cell_type": "code",
   "execution_count": 0,
   "metadata": {
    "application/vnd.databricks.v1+cell": {
     "cellMetadata": {},
     "inputWidgets": {},
     "nuid": "a2b25f99-c0f8-41aa-8717-c383d815ed2a",
     "showTitle": false,
     "tableResultSettingsMap": {},
     "title": ""
    },
    "id": "1GcNMxQyvQ3m"
   },
   "outputs": [],
   "source": [
    "from pyspark.sql import Row"
   ]
  },
  {
   "cell_type": "code",
   "execution_count": 0,
   "metadata": {
    "application/vnd.databricks.v1+cell": {
     "cellMetadata": {},
     "inputWidgets": {},
     "nuid": "fa33c4d5-d04b-42af-a386-f4181cfaf690",
     "showTitle": false,
     "tableResultSettingsMap": {},
     "title": ""
    },
    "id": "wIp6vkj7vhBF"
   },
   "outputs": [],
   "source": [
    "import datetime\n",
    "users = [\n",
    "    {\n",
    "        \"id\" : 1,\n",
    "        \"first_name\" : \"Corrie\",\n",
    "        \"last_name\" : \"van den oord\",\n",
    "        \"email\" : \"cvandenoord@esty.com\",\n",
    "        \"phone_numbers\" : Row(mobile=\"+1 234 567 8901\", home=\"+1 234 567 8911\"),\n",
    "        \"courses\" : [1,2],\n",
    "        \"is_customer\" : True,\n",
    "        \"amount_paid\" : 1000.55,\n",
    "        \"customer_from\" : datetime.date(2021,1,15),\n",
    "        \"last_updated_ts\" : datetime.datetime(2021,2,10,1,15,0)\n",
    "    },\n",
    "    {\n",
    "        \"id\" : 2,\n",
    "        \"first_name\" : \"Nikolas\",\n",
    "        \"last_name\" : \"Brewwit\",\n",
    "        \"email\" : \"nbrewwit@dailymail.co.uk\",\n",
    "        \"phone_numbers\" : Row(mobile=\"+1 234 567 8923\", home=\"+1 234 567 8934\"),\n",
    "        \"courses\" : [3],\n",
    "        \"is_customer\" : True,\n",
    "        \"amount_paid\" : 900.00,\n",
    "        \"customer_from\" : datetime.date(2021,2,14),\n",
    "        \"last_updated_ts\" : datetime.datetime(2021,2,18,3,33,0)\n",
    "    },\n",
    "    {\n",
    "        \"id\" : 3,\n",
    "        \"first_name\" : \"Orelie\",\n",
    "        \"last_name\" : \"Penney\",\n",
    "        \"email\" : \"openny@vistaprint.com\",\n",
    "        \"phone_numbers\" : Row(mobile=\"+1 714 512 9752\", home=\"+1 714512 6601\"),\n",
    "        \"courses\" : [2,4],\n",
    "        \"is_customer\" : True,\n",
    "        \"amount_paid\" : 850.55,\n",
    "        \"customer_from\" : datetime.date(2021,1,21),\n",
    "        \"last_updated_ts\" : datetime.datetime(2021,3,15,15,16,0)\n",
    "    },\n",
    "    {\n",
    "        \"id\" : 4,\n",
    "        \"first_name\" : \"Ashiby\",\n",
    "        \"last_name\" : \"Maddocks\",\n",
    "        \"email\" : \"ammaddocks3@home.com\",\n",
    "        \"phone_numbers\" : Row(mobile=None, home=None),\n",
    "        \"courses\" : [],\n",
    "        \"is_customer\" : False,\n",
    "        \"amount_paid\" : None,\n",
    "        \"customer_from\" : None,\n",
    "        \"last_updated_ts\" : datetime.datetime(2021,4,10,17,45,30)\n",
    "    },\n",
    "    {\n",
    "        \"id\" : 5,\n",
    "        \"first_name\" : \"kurt\",\n",
    "        \"last_name\" : \"Rome\",\n",
    "        \"email\" : \"krome@shutterfly.com\",\n",
    "        \"phone_numbers\" : Row(mobile=\"+1 817 934 7142\", home=None),\n",
    "        \"courses\" : [],\n",
    "        \"is_customer\" : False,\n",
    "        \"amount_paid\" : None,\n",
    "        \"customer_from\" : None,\n",
    "        \"last_updated_ts\" : datetime.datetime(2021,4,2,0,55,28)\n",
    "    },\n",
    "\n",
    "]"
   ]
  },
  {
   "cell_type": "code",
   "execution_count": 0,
   "metadata": {
    "application/vnd.databricks.v1+cell": {
     "cellMetadata": {},
     "inputWidgets": {},
     "nuid": "8bb65e89-074c-4d07-8451-bfd57e442a65",
     "showTitle": false,
     "tableResultSettingsMap": {},
     "title": ""
    },
    "id": "u02nJw8xygDT"
   },
   "outputs": [],
   "source": [
    "import pandas as pd"
   ]
  },
  {
   "cell_type": "code",
   "execution_count": 0,
   "metadata": {
    "application/vnd.databricks.v1+cell": {
     "cellMetadata": {},
     "inputWidgets": {},
     "nuid": "d979a034-453f-4a66-bbcf-9ccb9e961184",
     "showTitle": false,
     "tableResultSettingsMap": {},
     "title": ""
    },
    "colab": {
     "base_uri": "https://localhost:8080/",
     "height": 293
    },
    "id": "vkHhhgzTykSW",
    "outputId": "a0c73af5-bde8-4560-ff81-d950ed2fb652"
   },
   "outputs": [
    {
     "output_type": "execute_result",
     "data": {
      "application/vnd.google.colaboratory.intrinsic+json": {
       "summary": "{\n  \"name\": \"pd\",\n  \"rows\": 5,\n  \"fields\": [\n    {\n      \"column\": \"id\",\n      \"properties\": {\n        \"dtype\": \"number\",\n        \"std\": 1,\n        \"min\": 1,\n        \"max\": 5,\n        \"num_unique_values\": 5,\n        \"samples\": [\n          2,\n          5,\n          3\n        ],\n        \"semantic_type\": \"\",\n        \"description\": \"\"\n      }\n    },\n    {\n      \"column\": \"first_name\",\n      \"properties\": {\n        \"dtype\": \"string\",\n        \"num_unique_values\": 5,\n        \"samples\": [\n          \"Nikolas\",\n          \"kurt\",\n          \"Orelie\"\n        ],\n        \"semantic_type\": \"\",\n        \"description\": \"\"\n      }\n    },\n    {\n      \"column\": \"last_name\",\n      \"properties\": {\n        \"dtype\": \"string\",\n        \"num_unique_values\": 5,\n        \"samples\": [\n          \"Brewwit\",\n          \"Rome\",\n          \"Penney\"\n        ],\n        \"semantic_type\": \"\",\n        \"description\": \"\"\n      }\n    },\n    {\n      \"column\": \"email\",\n      \"properties\": {\n        \"dtype\": \"string\",\n        \"num_unique_values\": 5,\n        \"samples\": [\n          \"nbrewwit@dailymail.co.uk\",\n          \"krome@shutterfly.com\",\n          \"openny@vistaprint.com\"\n        ],\n        \"semantic_type\": \"\",\n        \"description\": \"\"\n      }\n    },\n    {\n      \"column\": \"phone_numbers\",\n      \"properties\": {\n        \"dtype\": \"string\",\n        \"num_unique_values\": 5,\n        \"samples\": [\n          [\n            \"+1 234 567 8923\",\n            \"+1 234 567 8934\"\n          ],\n          [\n            \"+1 817 934 7142\",\n            null\n          ],\n          [\n            \"+1 714 512 9752\",\n            \"+1 714512 6601\"\n          ]\n        ],\n        \"semantic_type\": \"\",\n        \"description\": \"\"\n      }\n    },\n    {\n      \"column\": \"courses\",\n      \"properties\": {\n        \"dtype\": \"object\",\n        \"semantic_type\": \"\",\n        \"description\": \"\"\n      }\n    },\n    {\n      \"column\": \"is_customer\",\n      \"properties\": {\n        \"dtype\": \"boolean\",\n        \"num_unique_values\": 2,\n        \"samples\": [\n          false,\n          true\n        ],\n        \"semantic_type\": \"\",\n        \"description\": \"\"\n      }\n    },\n    {\n      \"column\": \"amount_paid\",\n      \"properties\": {\n        \"dtype\": \"number\",\n        \"std\": 76.43690753381728,\n        \"min\": 850.55,\n        \"max\": 1000.55,\n        \"num_unique_values\": 3,\n        \"samples\": [\n          1000.55,\n          900.0\n        ],\n        \"semantic_type\": \"\",\n        \"description\": \"\"\n      }\n    },\n    {\n      \"column\": \"customer_from\",\n      \"properties\": {\n        \"dtype\": \"date\",\n        \"min\": \"2021-01-15 00:00:00\",\n        \"max\": \"2021-02-14 00:00:00\",\n        \"num_unique_values\": 3,\n        \"samples\": [\n          \"2021-01-15\",\n          \"2021-02-14\"\n        ],\n        \"semantic_type\": \"\",\n        \"description\": \"\"\n      }\n    },\n    {\n      \"column\": \"last_updated_ts\",\n      \"properties\": {\n        \"dtype\": \"date\",\n        \"min\": \"2021-02-10 01:15:00\",\n        \"max\": \"2021-04-10 17:45:30\",\n        \"num_unique_values\": 5,\n        \"samples\": [\n          \"2021-02-18 03:33:00\",\n          \"2021-04-02 00:55:28\"\n        ],\n        \"semantic_type\": \"\",\n        \"description\": \"\"\n      }\n    }\n  ]\n}",
       "type": "dataframe"
      },
      "text/html": [
       "\n",
       "  <div id=\"df-9f6e874f-b67b-4567-b4c9-c252b1ef4280\" class=\"colab-df-container\">\n",
       "    <div>\n",
       "<style scoped>\n",
       "    .dataframe tbody tr th:only-of-type {\n",
       "        vertical-align: middle;\n",
       "    }\n",
       "\n",
       "    .dataframe tbody tr th {\n",
       "        vertical-align: top;\n",
       "    }\n",
       "\n",
       "    .dataframe thead th {\n",
       "        text-align: right;\n",
       "    }\n",
       "</style>\n",
       "<table border=\"1\" class=\"dataframe\">\n",
       "  <thead>\n",
       "    <tr style=\"text-align: right;\">\n",
       "      <th></th>\n",
       "      <th>id</th>\n",
       "      <th>first_name</th>\n",
       "      <th>last_name</th>\n",
       "      <th>email</th>\n",
       "      <th>phone_numbers</th>\n",
       "      <th>courses</th>\n",
       "      <th>is_customer</th>\n",
       "      <th>amount_paid</th>\n",
       "      <th>customer_from</th>\n",
       "      <th>last_updated_ts</th>\n",
       "    </tr>\n",
       "  </thead>\n",
       "  <tbody>\n",
       "    <tr>\n",
       "      <th>0</th>\n",
       "      <td>1</td>\n",
       "      <td>Corrie</td>\n",
       "      <td>van den oord</td>\n",
       "      <td>cvandenoord@esty.com</td>\n",
       "      <td>(+1 234 567 8901, +1 234 567 8911)</td>\n",
       "      <td>[1, 2]</td>\n",
       "      <td>True</td>\n",
       "      <td>1000.55</td>\n",
       "      <td>2021-01-15</td>\n",
       "      <td>2021-02-10 01:15:00</td>\n",
       "    </tr>\n",
       "    <tr>\n",
       "      <th>1</th>\n",
       "      <td>2</td>\n",
       "      <td>Nikolas</td>\n",
       "      <td>Brewwit</td>\n",
       "      <td>nbrewwit@dailymail.co.uk</td>\n",
       "      <td>(+1 234 567 8923, +1 234 567 8934)</td>\n",
       "      <td>[3]</td>\n",
       "      <td>True</td>\n",
       "      <td>900.00</td>\n",
       "      <td>2021-02-14</td>\n",
       "      <td>2021-02-18 03:33:00</td>\n",
       "    </tr>\n",
       "    <tr>\n",
       "      <th>2</th>\n",
       "      <td>3</td>\n",
       "      <td>Orelie</td>\n",
       "      <td>Penney</td>\n",
       "      <td>openny@vistaprint.com</td>\n",
       "      <td>(+1 714 512 9752, +1 714512 6601)</td>\n",
       "      <td>[2, 4]</td>\n",
       "      <td>True</td>\n",
       "      <td>850.55</td>\n",
       "      <td>2021-01-21</td>\n",
       "      <td>2021-03-15 15:16:00</td>\n",
       "    </tr>\n",
       "    <tr>\n",
       "      <th>3</th>\n",
       "      <td>4</td>\n",
       "      <td>Ashiby</td>\n",
       "      <td>Maddocks</td>\n",
       "      <td>ammaddocks3@home.com</td>\n",
       "      <td>(None, None)</td>\n",
       "      <td>[]</td>\n",
       "      <td>False</td>\n",
       "      <td>NaN</td>\n",
       "      <td>None</td>\n",
       "      <td>2021-04-10 17:45:30</td>\n",
       "    </tr>\n",
       "    <tr>\n",
       "      <th>4</th>\n",
       "      <td>5</td>\n",
       "      <td>kurt</td>\n",
       "      <td>Rome</td>\n",
       "      <td>krome@shutterfly.com</td>\n",
       "      <td>(+1 817 934 7142, None)</td>\n",
       "      <td>[]</td>\n",
       "      <td>False</td>\n",
       "      <td>NaN</td>\n",
       "      <td>None</td>\n",
       "      <td>2021-04-02 00:55:28</td>\n",
       "    </tr>\n",
       "  </tbody>\n",
       "</table>\n",
       "</div>\n",
       "    <div class=\"colab-df-buttons\">\n",
       "\n",
       "  <div class=\"colab-df-container\">\n",
       "    <button class=\"colab-df-convert\" onclick=\"convertToInteractive('df-9f6e874f-b67b-4567-b4c9-c252b1ef4280')\"\n",
       "            title=\"Convert this dataframe to an interactive table.\"\n",
       "            style=\"display:none;\">\n",
       "\n",
       "  <svg xmlns=\"http://www.w3.org/2000/svg\" height=\"24px\" viewBox=\"0 -960 960 960\">\n",
       "    <path d=\"M120-120v-720h720v720H120Zm60-500h600v-160H180v160Zm220 220h160v-160H400v160Zm0 220h160v-160H400v160ZM180-400h160v-160H180v160Zm440 0h160v-160H620v160ZM180-180h160v-160H180v160Zm440 0h160v-160H620v160Z\"/>\n",
       "  </svg>\n",
       "    </button>\n",
       "\n",
       "  <style>\n",
       "    .colab-df-container {\n",
       "      display:flex;\n",
       "      gap: 12px;\n",
       "    }\n",
       "\n",
       "    .colab-df-convert {\n",
       "      background-color: #E8F0FE;\n",
       "      border: none;\n",
       "      border-radius: 50%;\n",
       "      cursor: pointer;\n",
       "      display: none;\n",
       "      fill: #1967D2;\n",
       "      height: 32px;\n",
       "      padding: 0 0 0 0;\n",
       "      width: 32px;\n",
       "    }\n",
       "\n",
       "    .colab-df-convert:hover {\n",
       "      background-color: #E2EBFA;\n",
       "      box-shadow: 0px 1px 2px rgba(60, 64, 67, 0.3), 0px 1px 3px 1px rgba(60, 64, 67, 0.15);\n",
       "      fill: #174EA6;\n",
       "    }\n",
       "\n",
       "    .colab-df-buttons div {\n",
       "      margin-bottom: 4px;\n",
       "    }\n",
       "\n",
       "    [theme=dark] .colab-df-convert {\n",
       "      background-color: #3B4455;\n",
       "      fill: #D2E3FC;\n",
       "    }\n",
       "\n",
       "    [theme=dark] .colab-df-convert:hover {\n",
       "      background-color: #434B5C;\n",
       "      box-shadow: 0px 1px 3px 1px rgba(0, 0, 0, 0.15);\n",
       "      filter: drop-shadow(0px 1px 2px rgba(0, 0, 0, 0.3));\n",
       "      fill: #FFFFFF;\n",
       "    }\n",
       "  </style>\n",
       "\n",
       "    <script>\n",
       "      const buttonEl =\n",
       "        document.querySelector('#df-9f6e874f-b67b-4567-b4c9-c252b1ef4280 button.colab-df-convert');\n",
       "      buttonEl.style.display =\n",
       "        google.colab.kernel.accessAllowed ? 'block' : 'none';\n",
       "\n",
       "      async function convertToInteractive(key) {\n",
       "        const element = document.querySelector('#df-9f6e874f-b67b-4567-b4c9-c252b1ef4280');\n",
       "        const dataTable =\n",
       "          await google.colab.kernel.invokeFunction('convertToInteractive',\n",
       "                                                    [key], {});\n",
       "        if (!dataTable) return;\n",
       "\n",
       "        const docLinkHtml = 'Like what you see? Visit the ' +\n",
       "          '<a target=\"_blank\" href=https://colab.research.google.com/notebooks/data_table.ipynb>data table notebook</a>'\n",
       "          + ' to learn more about interactive tables.';\n",
       "        element.innerHTML = '';\n",
       "        dataTable['output_type'] = 'display_data';\n",
       "        await google.colab.output.renderOutput(dataTable, element);\n",
       "        const docLink = document.createElement('div');\n",
       "        docLink.innerHTML = docLinkHtml;\n",
       "        element.appendChild(docLink);\n",
       "      }\n",
       "    </script>\n",
       "  </div>\n",
       "\n",
       "\n",
       "<div id=\"df-bd3075e0-dd3d-46ad-8b66-829cc02d12a6\">\n",
       "  <button class=\"colab-df-quickchart\" onclick=\"quickchart('df-bd3075e0-dd3d-46ad-8b66-829cc02d12a6')\"\n",
       "            title=\"Suggest charts\"\n",
       "            style=\"display:none;\">\n",
       "\n",
       "<svg xmlns=\"http://www.w3.org/2000/svg\" height=\"24px\"viewBox=\"0 0 24 24\"\n",
       "     width=\"24px\">\n",
       "    <g>\n",
       "        <path d=\"M19 3H5c-1.1 0-2 .9-2 2v14c0 1.1.9 2 2 2h14c1.1 0 2-.9 2-2V5c0-1.1-.9-2-2-2zM9 17H7v-7h2v7zm4 0h-2V7h2v10zm4 0h-2v-4h2v4z\"/>\n",
       "    </g>\n",
       "</svg>\n",
       "  </button>\n",
       "\n",
       "<style>\n",
       "  .colab-df-quickchart {\n",
       "      --bg-color: #E8F0FE;\n",
       "      --fill-color: #1967D2;\n",
       "      --hover-bg-color: #E2EBFA;\n",
       "      --hover-fill-color: #174EA6;\n",
       "      --disabled-fill-color: #AAA;\n",
       "      --disabled-bg-color: #DDD;\n",
       "  }\n",
       "\n",
       "  [theme=dark] .colab-df-quickchart {\n",
       "      --bg-color: #3B4455;\n",
       "      --fill-color: #D2E3FC;\n",
       "      --hover-bg-color: #434B5C;\n",
       "      --hover-fill-color: #FFFFFF;\n",
       "      --disabled-bg-color: #3B4455;\n",
       "      --disabled-fill-color: #666;\n",
       "  }\n",
       "\n",
       "  .colab-df-quickchart {\n",
       "    background-color: var(--bg-color);\n",
       "    border: none;\n",
       "    border-radius: 50%;\n",
       "    cursor: pointer;\n",
       "    display: none;\n",
       "    fill: var(--fill-color);\n",
       "    height: 32px;\n",
       "    padding: 0;\n",
       "    width: 32px;\n",
       "  }\n",
       "\n",
       "  .colab-df-quickchart:hover {\n",
       "    background-color: var(--hover-bg-color);\n",
       "    box-shadow: 0 1px 2px rgba(60, 64, 67, 0.3), 0 1px 3px 1px rgba(60, 64, 67, 0.15);\n",
       "    fill: var(--button-hover-fill-color);\n",
       "  }\n",
       "\n",
       "  .colab-df-quickchart-complete:disabled,\n",
       "  .colab-df-quickchart-complete:disabled:hover {\n",
       "    background-color: var(--disabled-bg-color);\n",
       "    fill: var(--disabled-fill-color);\n",
       "    box-shadow: none;\n",
       "  }\n",
       "\n",
       "  .colab-df-spinner {\n",
       "    border: 2px solid var(--fill-color);\n",
       "    border-color: transparent;\n",
       "    border-bottom-color: var(--fill-color);\n",
       "    animation:\n",
       "      spin 1s steps(1) infinite;\n",
       "  }\n",
       "\n",
       "  @keyframes spin {\n",
       "    0% {\n",
       "      border-color: transparent;\n",
       "      border-bottom-color: var(--fill-color);\n",
       "      border-left-color: var(--fill-color);\n",
       "    }\n",
       "    20% {\n",
       "      border-color: transparent;\n",
       "      border-left-color: var(--fill-color);\n",
       "      border-top-color: var(--fill-color);\n",
       "    }\n",
       "    30% {\n",
       "      border-color: transparent;\n",
       "      border-left-color: var(--fill-color);\n",
       "      border-top-color: var(--fill-color);\n",
       "      border-right-color: var(--fill-color);\n",
       "    }\n",
       "    40% {\n",
       "      border-color: transparent;\n",
       "      border-right-color: var(--fill-color);\n",
       "      border-top-color: var(--fill-color);\n",
       "    }\n",
       "    60% {\n",
       "      border-color: transparent;\n",
       "      border-right-color: var(--fill-color);\n",
       "    }\n",
       "    80% {\n",
       "      border-color: transparent;\n",
       "      border-right-color: var(--fill-color);\n",
       "      border-bottom-color: var(--fill-color);\n",
       "    }\n",
       "    90% {\n",
       "      border-color: transparent;\n",
       "      border-bottom-color: var(--fill-color);\n",
       "    }\n",
       "  }\n",
       "</style>\n",
       "\n",
       "  <script>\n",
       "    async function quickchart(key) {\n",
       "      const quickchartButtonEl =\n",
       "        document.querySelector('#' + key + ' button');\n",
       "      quickchartButtonEl.disabled = true;  // To prevent multiple clicks.\n",
       "      quickchartButtonEl.classList.add('colab-df-spinner');\n",
       "      try {\n",
       "        const charts = await google.colab.kernel.invokeFunction(\n",
       "            'suggestCharts', [key], {});\n",
       "      } catch (error) {\n",
       "        console.error('Error during call to suggestCharts:', error);\n",
       "      }\n",
       "      quickchartButtonEl.classList.remove('colab-df-spinner');\n",
       "      quickchartButtonEl.classList.add('colab-df-quickchart-complete');\n",
       "    }\n",
       "    (() => {\n",
       "      let quickchartButtonEl =\n",
       "        document.querySelector('#df-bd3075e0-dd3d-46ad-8b66-829cc02d12a6 button');\n",
       "      quickchartButtonEl.style.display =\n",
       "        google.colab.kernel.accessAllowed ? 'block' : 'none';\n",
       "    })();\n",
       "  </script>\n",
       "</div>\n",
       "\n",
       "    </div>\n",
       "  </div>\n"
      ],
      "text/plain": [
       "   id first_name     last_name                     email  \\\n",
       "0   1     Corrie  van den oord      cvandenoord@esty.com   \n",
       "1   2    Nikolas       Brewwit  nbrewwit@dailymail.co.uk   \n",
       "2   3     Orelie        Penney     openny@vistaprint.com   \n",
       "3   4     Ashiby      Maddocks      ammaddocks3@home.com   \n",
       "4   5       kurt          Rome      krome@shutterfly.com   \n",
       "\n",
       "                        phone_numbers courses  is_customer  amount_paid  \\\n",
       "0  (+1 234 567 8901, +1 234 567 8911)  [1, 2]         True      1000.55   \n",
       "1  (+1 234 567 8923, +1 234 567 8934)     [3]         True       900.00   \n",
       "2   (+1 714 512 9752, +1 714512 6601)  [2, 4]         True       850.55   \n",
       "3                        (None, None)      []        False          NaN   \n",
       "4             (+1 817 934 7142, None)      []        False          NaN   \n",
       "\n",
       "  customer_from     last_updated_ts  \n",
       "0    2021-01-15 2021-02-10 01:15:00  \n",
       "1    2021-02-14 2021-02-18 03:33:00  \n",
       "2    2021-01-21 2021-03-15 15:16:00  \n",
       "3          None 2021-04-10 17:45:30  \n",
       "4          None 2021-04-02 00:55:28  "
      ]
     },
     "execution_count": 14,
     "metadata": {},
     "output_type": "execute_result"
    }
   ],
   "source": [
    "pd.DataFrame(users)"
   ]
  },
  {
   "cell_type": "code",
   "execution_count": 0,
   "metadata": {
    "application/vnd.databricks.v1+cell": {
     "cellMetadata": {},
     "inputWidgets": {},
     "nuid": "ddc4ea46-ef56-4902-b6fd-714d9a75ecc9",
     "showTitle": false,
     "tableResultSettingsMap": {},
     "title": ""
    },
    "colab": {
     "base_uri": "https://localhost:8080/"
    },
    "id": "buraSo7ty0Zm",
    "outputId": "ee0ebb1d-5a47-4c97-df15-ef9c1657e6cc"
   },
   "outputs": [
    {
     "output_type": "execute_result",
     "data": {
      "text/plain": [
       "DataFrame[id: bigint, first_name: string, last_name: string, email: string, phone_numbers: struct<mobile:string,home:string>, courses: array<bigint>, is_customer: boolean, amount_paid: double, customer_from: date, last_updated_ts: timestamp]"
      ]
     },
     "execution_count": 15,
     "metadata": {},
     "output_type": "execute_result"
    }
   ],
   "source": [
    "spark.createDataFrame(pd.DataFrame(users))"
   ]
  },
  {
   "cell_type": "code",
   "execution_count": 0,
   "metadata": {
    "application/vnd.databricks.v1+cell": {
     "cellMetadata": {},
     "inputWidgets": {},
     "nuid": "812947f4-a31c-4be6-a7bf-d108236d7fdc",
     "showTitle": false,
     "tableResultSettingsMap": {},
     "title": ""
    },
    "colab": {
     "base_uri": "https://localhost:8080/"
    },
    "id": "vSBuZdP_y90A",
    "outputId": "7f64d3c2-e127-4728-891a-86d12a32ce3b"
   },
   "outputs": [
    {
     "output_type": "stream",
     "name": "stdout",
     "output_type": "stream",
     "text": [
      "+---+----------+------------+--------------------+--------------------+-------+-----------+-----------+-------------+-------------------+\n| id|first_name|   last_name|               email|       phone_numbers|courses|is_customer|amount_paid|customer_from|    last_updated_ts|\n+---+----------+------------+--------------------+--------------------+-------+-----------+-----------+-------------+-------------------+\n|  1|    Corrie|van den oord|cvandenoord@esty.com|{+1 234 567 8901,...| [1, 2]|       true|    1000.55|   2021-01-15|2021-02-10 01:15:00|\n|  2|   Nikolas|     Brewwit|nbrewwit@dailymai...|{+1 234 567 8923,...|    [3]|       true|      900.0|   2021-02-14|2021-02-18 03:33:00|\n|  3|    Orelie|      Penney|openny@vistaprint...|{+1 714 512 9752,...| [2, 4]|       true|     850.55|   2021-01-21|2021-03-15 15:16:00|\n|  4|    Ashiby|    Maddocks|ammaddocks3@home.com|        {NULL, NULL}|     []|      false|        NaN|         NULL|2021-04-10 17:45:30|\n|  5|      kurt|        Rome|krome@shutterfly.com|{+1 817 934 7142,...|     []|      false|        NaN|         NULL|2021-04-02 00:55:28|\n+---+----------+------------+--------------------+--------------------+-------+-----------+-----------+-------------+-------------------+\n\n"
     ]
    }
   ],
   "source": [
    "users_df.show()"
   ]
  },
  {
   "cell_type": "code",
   "execution_count": 0,
   "metadata": {
    "application/vnd.databricks.v1+cell": {
     "cellMetadata": {},
     "inputWidgets": {},
     "nuid": "65b16a82-3b32-4aa6-8cd4-e578193045d5",
     "showTitle": false,
     "tableResultSettingsMap": {},
     "title": ""
    },
    "colab": {
     "base_uri": "https://localhost:8080/"
    },
    "id": "n9BMl54e0IWO",
    "outputId": "a5ab20ae-751d-4f7f-801d-a4951df72f9c"
   },
   "outputs": [
    {
     "output_type": "stream",
     "name": "stdout",
     "output_type": "stream",
     "text": [
      "+---+----------+------------+------------------------+----------------------------------+-------+-----------+-----------+-------------+-------------------+\n|id |first_name|last_name   |email                   |phone_numbers                     |courses|is_customer|amount_paid|customer_from|last_updated_ts    |\n+---+----------+------------+------------------------+----------------------------------+-------+-----------+-----------+-------------+-------------------+\n|1  |Corrie    |van den oord|cvandenoord@esty.com    |{+1 234 567 8901, +1 234 567 8911}|[1, 2] |true       |1000.55    |2021-01-15   |2021-02-10 01:15:00|\n|2  |Nikolas   |Brewwit     |nbrewwit@dailymail.co.uk|{+1 234 567 8923, +1 234 567 8934}|[3]    |true       |900.0      |2021-02-14   |2021-02-18 03:33:00|\n|3  |Orelie    |Penney      |openny@vistaprint.com   |{+1 714 512 9752, +1 714512 6601} |[2, 4] |true       |850.55     |2021-01-21   |2021-03-15 15:16:00|\n+---+----------+------------+------------------------+----------------------------------+-------+-----------+-----------+-------------+-------------------+\nonly showing top 3 rows\n\n"
     ]
    }
   ],
   "source": [
    "users_df.show(3, truncate=False)"
   ]
  },
  {
   "cell_type": "code",
   "execution_count": 0,
   "metadata": {
    "application/vnd.databricks.v1+cell": {
     "cellMetadata": {},
     "inputWidgets": {},
     "nuid": "3cf349f4-aa14-470e-8369-7fb2eb627b6b",
     "showTitle": false,
     "tableResultSettingsMap": {},
     "title": ""
    },
    "colab": {
     "base_uri": "https://localhost:8080/"
    },
    "id": "wlN1DBXy0q0z",
    "outputId": "41a667aa-37ed-41e8-e26a-843238cb3634"
   },
   "outputs": [
    {
     "output_type": "stream",
     "name": "stdout",
     "output_type": "stream",
     "text": [
      "root\n |-- id: long (nullable = true)\n |-- first_name: string (nullable = true)\n |-- last_name: string (nullable = true)\n |-- email: string (nullable = true)\n |-- phone_numbers: struct (nullable = true)\n |    |-- mobile: string (nullable = true)\n |    |-- home: string (nullable = true)\n |-- courses: array (nullable = true)\n |    |-- element: long (containsNull = true)\n |-- is_customer: boolean (nullable = true)\n |-- amount_paid: double (nullable = true)\n |-- customer_from: date (nullable = true)\n |-- last_updated_ts: timestamp (nullable = true)\n\n"
     ]
    }
   ],
   "source": [
    "users_df.printSchema()"
   ]
  },
  {
   "cell_type": "code",
   "execution_count": 0,
   "metadata": {
    "application/vnd.databricks.v1+cell": {
     "cellMetadata": {},
     "inputWidgets": {},
     "nuid": "869a3b20-fcc1-4218-8416-829abb4767ed",
     "showTitle": false,
     "tableResultSettingsMap": {},
     "title": ""
    },
    "colab": {
     "base_uri": "https://localhost:8080/"
    },
    "id": "QFNmhe2N05vS",
    "outputId": "8b80f149-4dcf-4f02-cf66-8af7339935a3"
   },
   "outputs": [
    {
     "output_type": "stream",
     "name": "stdout",
     "output_type": "stream",
     "text": [
      "+---+----------+---------+--------------------+--------------------+-------+-----------+-----------+-------------+-------------------+\n| id|first_name|last_name|               email|       phone_numbers|courses|is_customer|amount_paid|customer_from|    last_updated_ts|\n+---+----------+---------+--------------------+--------------------+-------+-----------+-----------+-------------+-------------------+\n|  2|   Nikolas|  Brewwit|nbrewwit@dailymai...|{+1 234 567 8923,...|    [3]|       true|      900.0|   2021-02-14|2021-02-18 03:33:00|\n+---+----------+---------+--------------------+--------------------+-------+-----------+-----------+-------------+-------------------+\n\n"
     ]
    }
   ],
   "source": [
    "users_df.filter('amount_paid=900').show()"
   ]
  },
  {
   "cell_type": "code",
   "execution_count": 0,
   "metadata": {
    "application/vnd.databricks.v1+cell": {
     "cellMetadata": {},
     "inputWidgets": {},
     "nuid": "c3a95795-c632-45ee-a7c7-d68d636409a0",
     "showTitle": false,
     "tableResultSettingsMap": {},
     "title": ""
    },
    "colab": {
     "base_uri": "https://localhost:8080/"
    },
    "id": "zooHCB4Q1CP_",
    "outputId": "5747c2e3-d9aa-443d-a6a2-42b0c52f76c3"
   },
   "outputs": [
    {
     "output_type": "stream",
     "name": "stdout",
     "output_type": "stream",
     "text": [
      "+---+----------+---------+--------------------+--------------------+-------+-----------+-----------+-------------+-------------------+\n| id|first_name|last_name|               email|       phone_numbers|courses|is_customer|amount_paid|customer_from|    last_updated_ts|\n+---+----------+---------+--------------------+--------------------+-------+-----------+-----------+-------------+-------------------+\n|  2|   Nikolas|  Brewwit|nbrewwit@dailymai...|{+1 234 567 8923,...|    [3]|       true|      900.0|   2021-02-14|2021-02-18 03:33:00|\n+---+----------+---------+--------------------+--------------------+-------+-----------+-----------+-------------+-------------------+\n\n"
     ]
    }
   ],
   "source": [
    "users_df.filter(users_df['amount_paid']==900).show()"
   ]
  },
  {
   "cell_type": "code",
   "execution_count": 0,
   "metadata": {
    "application/vnd.databricks.v1+cell": {
     "cellMetadata": {},
     "inputWidgets": {},
     "nuid": "4144c210-fbf8-4709-85f0-093214fdc814",
     "showTitle": false,
     "tableResultSettingsMap": {},
     "title": ""
    },
    "colab": {
     "base_uri": "https://localhost:8080/"
    },
    "id": "DZnF93qt1TnB",
    "outputId": "f19a44aa-4a98-4299-db5b-a96bc87a8ed0"
   },
   "outputs": [
    {
     "output_type": "stream",
     "name": "stdout",
     "output_type": "stream",
     "text": [
      "+---+----------+------------+--------------------+--------------------+-------+-----------+-----------+-------------+-------------------+\n| id|first_name|   last_name|               email|       phone_numbers|courses|is_customer|amount_paid|customer_from|    last_updated_ts|\n+---+----------+------------+--------------------+--------------------+-------+-----------+-----------+-------------+-------------------+\n|  1|    Corrie|van den oord|cvandenoord@esty.com|{+1 234 567 8901,...| [1, 2]|       true|    1000.55|   2021-01-15|2021-02-10 01:15:00|\n|  4|    Ashiby|    Maddocks|ammaddocks3@home.com|        {NULL, NULL}|     []|      false|        NaN|         NULL|2021-04-10 17:45:30|\n|  5|      kurt|        Rome|krome@shutterfly.com|{+1 817 934 7142,...|     []|      false|        NaN|         NULL|2021-04-02 00:55:28|\n+---+----------+------------+--------------------+--------------------+-------+-----------+-----------+-------------+-------------------+\n\n"
     ]
    }
   ],
   "source": [
    "users_df.filter(users_df['amount_paid']>900).show()"
   ]
  },
  {
   "cell_type": "code",
   "execution_count": 0,
   "metadata": {
    "application/vnd.databricks.v1+cell": {
     "cellMetadata": {},
     "inputWidgets": {},
     "nuid": "6e47fda0-f38b-4db0-9ae8-383021d32eec",
     "showTitle": false,
     "tableResultSettingsMap": {},
     "title": ""
    },
    "id": "277c222S1igS"
   },
   "outputs": [],
   "source": [
    "from pyspark.sql.functions import col"
   ]
  },
  {
   "cell_type": "code",
   "execution_count": 0,
   "metadata": {
    "application/vnd.databricks.v1+cell": {
     "cellMetadata": {},
     "inputWidgets": {},
     "nuid": "d09fa60b-12d2-441c-b099-fd73d6f8a0bf",
     "showTitle": false,
     "tableResultSettingsMap": {},
     "title": ""
    },
    "colab": {
     "base_uri": "https://localhost:8080/"
    },
    "id": "K6ZoINgE1o-K",
    "outputId": "ce2022fc-b10b-4478-9793-ac780cc703fc"
   },
   "outputs": [
    {
     "output_type": "execute_result",
     "data": {
      "text/plain": [
       "(pyspark.sql.column.Column, str)"
      ]
     },
     "execution_count": 28,
     "metadata": {},
     "output_type": "execute_result"
    }
   ],
   "source": [
    "type(col('amount_paid')), type('amount_paid')"
   ]
  },
  {
   "cell_type": "code",
   "execution_count": 0,
   "metadata": {
    "application/vnd.databricks.v1+cell": {
     "cellMetadata": {},
     "inputWidgets": {},
     "nuid": "4f585074-e4e4-4493-b6eb-e1a80702f0f4",
     "showTitle": false,
     "tableResultSettingsMap": {},
     "title": ""
    },
    "colab": {
     "base_uri": "https://localhost:8080/"
    },
    "id": "HmT_i4Ut11QC",
    "outputId": "f5634e71-3235-4d91-c71b-6af120927b8a"
   },
   "outputs": [
    {
     "output_type": "stream",
     "name": "stdout",
     "output_type": "stream",
     "text": [
      "+---+----------+------------+--------------------+--------------------+-------+-----------+-----------+-------------+-------------------+\n| id|first_name|   last_name|               email|       phone_numbers|courses|is_customer|amount_paid|customer_from|    last_updated_ts|\n+---+----------+------------+--------------------+--------------------+-------+-----------+-----------+-------------+-------------------+\n|  1|    Corrie|van den oord|cvandenoord@esty.com|{+1 234 567 8901,...| [1, 2]|       true|    1000.55|   2021-01-15|2021-02-10 01:15:00|\n|  4|    Ashiby|    Maddocks|ammaddocks3@home.com|        {NULL, NULL}|     []|      false|        NaN|         NULL|2021-04-10 17:45:30|\n|  5|      kurt|        Rome|krome@shutterfly.com|{+1 817 934 7142,...|     []|      false|        NaN|         NULL|2021-04-02 00:55:28|\n+---+----------+------------+--------------------+--------------------+-------+-----------+-----------+-------------+-------------------+\n\n"
     ]
    }
   ],
   "source": [
    "users_df.filter(\n",
    "    (users_df['amount_paid']>900) &\n",
    "    (col('amount_paid').isNotNull())\n",
    ").show()"
   ]
  },
  {
   "cell_type": "code",
   "execution_count": 0,
   "metadata": {
    "application/vnd.databricks.v1+cell": {
     "cellMetadata": {},
     "inputWidgets": {},
     "nuid": "b368f5ee-e778-4c6c-80e6-8b80f7608c36",
     "showTitle": false,
     "tableResultSettingsMap": {},
     "title": ""
    },
    "id": "b0EJ37Hq3EQv"
   },
   "outputs": [],
   "source": [
    "from pyspark.sql.functions import isnan"
   ]
  },
  {
   "cell_type": "code",
   "execution_count": 0,
   "metadata": {
    "application/vnd.databricks.v1+cell": {
     "cellMetadata": {},
     "inputWidgets": {},
     "nuid": "b5a5dbf7-e621-4c3e-9891-16b7decde357",
     "showTitle": false,
     "tableResultSettingsMap": {},
     "title": ""
    },
    "colab": {
     "base_uri": "https://localhost:8080/"
    },
    "id": "PLLocb8w3MVb",
    "outputId": "bc592f95-d848-44e7-c773-7aca65d4c18a"
   },
   "outputs": [
    {
     "output_type": "stream",
     "name": "stdout",
     "output_type": "stream",
     "text": [
      "+---+----------+------------+--------------------+--------------------+-------+-----------+-----------+-------------+-------------------+\n| id|first_name|   last_name|               email|       phone_numbers|courses|is_customer|amount_paid|customer_from|    last_updated_ts|\n+---+----------+------------+--------------------+--------------------+-------+-----------+-----------+-------------+-------------------+\n|  1|    Corrie|van den oord|cvandenoord@esty.com|{+1 234 567 8901,...| [1, 2]|       true|    1000.55|   2021-01-15|2021-02-10 01:15:00|\n|  2|   Nikolas|     Brewwit|nbrewwit@dailymai...|{+1 234 567 8923,...|    [3]|       true|      900.0|   2021-02-14|2021-02-18 03:33:00|\n|  3|    Orelie|      Penney|openny@vistaprint...|{+1 714 512 9752,...| [2, 4]|       true|     850.55|   2021-01-21|2021-03-15 15:16:00|\n+---+----------+------------+--------------------+--------------------+-------+-----------+-----------+-------------+-------------------+\n\n"
     ]
    }
   ],
   "source": [
    "users_df.filter(\n",
    "    (users_df['amount_paid']>100) &\n",
    "    (~isnan(col('amount_paid')))\n",
    ").show()"
   ]
  },
  {
   "cell_type": "code",
   "execution_count": 0,
   "metadata": {
    "application/vnd.databricks.v1+cell": {
     "cellMetadata": {},
     "inputWidgets": {},
     "nuid": "0fa694d4-24b7-45c4-9e9b-eb7277171f1d",
     "showTitle": false,
     "tableResultSettingsMap": {},
     "title": ""
    },
    "colab": {
     "base_uri": "https://localhost:8080/"
    },
    "id": "yvdUSmwt3mVu",
    "outputId": "bc078b55-ac7c-4b08-a5e5-0b98b54f8873"
   },
   "outputs": [
    {
     "output_type": "stream",
     "name": "stdout",
     "output_type": "stream",
     "text": [
      "+----------+------------+-----------+\n|first_name|   last_name|amount_paid|\n+----------+------------+-----------+\n|    Corrie|van den oord|    1000.55|\n|   Nikolas|     Brewwit|      900.0|\n|    Orelie|      Penney|     850.55|\n|    Ashiby|    Maddocks|        NaN|\n|      kurt|        Rome|        NaN|\n+----------+------------+-----------+\n\n"
     ]
    }
   ],
   "source": [
    "users_df.select('first_name','last_name','amount_paid').show()"
   ]
  },
  {
   "cell_type": "code",
   "execution_count": 0,
   "metadata": {
    "application/vnd.databricks.v1+cell": {
     "cellMetadata": {},
     "inputWidgets": {},
     "nuid": "d92ac1b2-d1ed-4b32-96b5-57cddec82069",
     "showTitle": false,
     "tableResultSettingsMap": {},
     "title": ""
    },
    "colab": {
     "base_uri": "https://localhost:8080/"
    },
    "id": "M3XbMUTB4C51",
    "outputId": "be93cf32-3e83-4554-b4a3-d95c466927b1"
   },
   "outputs": [
    {
     "output_type": "stream",
     "name": "stdout",
     "output_type": "stream",
     "text": [
      "+---+----------+------------+--------------------+--------------------+-------+-----------+-----------+-------------+-------------------+\n| id|first_name|   last_name|               email|       phone_numbers|courses|is_customer|amount_paid|customer_from|    last_updated_ts|\n+---+----------+------------+--------------------+--------------------+-------+-----------+-----------+-------------+-------------------+\n|  1|    Corrie|van den oord|cvandenoord@esty.com|{+1 234 567 8901,...| [1, 2]|       true|    1000.55|   2021-01-15|2021-02-10 01:15:00|\n|  2|   Nikolas|     Brewwit|nbrewwit@dailymai...|{+1 234 567 8923,...|    [3]|       true|      900.0|   2021-02-14|2021-02-18 03:33:00|\n|  3|    Orelie|      Penney|openny@vistaprint...|{+1 714 512 9752,...| [2, 4]|       true|     850.55|   2021-01-21|2021-03-15 15:16:00|\n|  4|    Ashiby|    Maddocks|ammaddocks3@home.com|        {NULL, NULL}|     []|      false|        0.0|         NULL|2021-04-10 17:45:30|\n|  5|      kurt|        Rome|krome@shutterfly.com|{+1 817 934 7142,...|     []|      false|        0.0|         NULL|2021-04-02 00:55:28|\n+---+----------+------------+--------------------+--------------------+-------+-----------+-----------+-------------+-------------------+\n\n"
     ]
    }
   ],
   "source": [
    "users_df.fillna(0).show()"
   ]
  },
  {
   "cell_type": "code",
   "execution_count": 0,
   "metadata": {
    "application/vnd.databricks.v1+cell": {
     "cellMetadata": {},
     "inputWidgets": {},
     "nuid": "ba030843-9b3e-42d1-9f98-ab70e9b8ec27",
     "showTitle": false,
     "tableResultSettingsMap": {},
     "title": ""
    },
    "id": "z2DnkXKR4Ocb"
   },
   "outputs": [],
   "source": [
    "users_df_new = users_df.fillna(0, subset=['amount_paid'])"
   ]
  },
  {
   "cell_type": "code",
   "execution_count": 0,
   "metadata": {
    "application/vnd.databricks.v1+cell": {
     "cellMetadata": {},
     "inputWidgets": {},
     "nuid": "ac919682-de00-4b97-9645-a8d0f9062563",
     "showTitle": false,
     "tableResultSettingsMap": {},
     "title": ""
    },
    "colab": {
     "base_uri": "https://localhost:8080/"
    },
    "id": "UINhy5Xo4c-W",
    "outputId": "bc4dc601-14e7-41da-ce75-24bf8995338f"
   },
   "outputs": [
    {
     "output_type": "stream",
     "name": "stdout",
     "output_type": "stream",
     "text": [
      "+---+----------+------------+--------------------+--------------------+-------+-----------+-----------+-------------+-------------------+\n| id|first_name|   last_name|               email|       phone_numbers|courses|is_customer|amount_paid|customer_from|    last_updated_ts|\n+---+----------+------------+--------------------+--------------------+-------+-----------+-----------+-------------+-------------------+\n|  1|    Corrie|van den oord|cvandenoord@esty.com|{+1 234 567 8901,...| [1, 2]|       true|    1000.55|   2021-01-15|2021-02-10 01:15:00|\n|  2|   Nikolas|     Brewwit|nbrewwit@dailymai...|{+1 234 567 8923,...|    [3]|       true|      900.0|   2021-02-14|2021-02-18 03:33:00|\n|  3|    Orelie|      Penney|openny@vistaprint...|{+1 714 512 9752,...| [2, 4]|       true|     850.55|   2021-01-21|2021-03-15 15:16:00|\n|  4|    Ashiby|    Maddocks|ammaddocks3@home.com|        {NULL, NULL}|     []|      false|        0.0|         NULL|2021-04-10 17:45:30|\n|  5|      kurt|        Rome|krome@shutterfly.com|{+1 817 934 7142,...|     []|      false|        0.0|         NULL|2021-04-02 00:55:28|\n+---+----------+------------+--------------------+--------------------+-------+-----------+-----------+-------------+-------------------+\n\n"
     ]
    }
   ],
   "source": [
    "users_df_new.show()"
   ]
  },
  {
   "cell_type": "code",
   "execution_count": 0,
   "metadata": {
    "application/vnd.databricks.v1+cell": {
     "cellMetadata": {},
     "inputWidgets": {},
     "nuid": "0dfada55-7a0f-47ab-8344-1dccd7ee38d4",
     "showTitle": false,
     "tableResultSettingsMap": {},
     "title": ""
    },
    "colab": {
     "base_uri": "https://localhost:8080/"
    },
    "id": "dK2W_Up34lsL",
    "outputId": "89e0dce6-7cd9-45bc-e744-1219639fed35"
   },
   "outputs": [
    {
     "output_type": "stream",
     "name": "stdout",
     "output_type": "stream",
     "text": [
      "+---+----------+------------+--------------------+--------------------+-------+-----------+-----------+-------------+-------------------+\n| id|first_name|   last_name|               email|       phone_numbers|courses|is_customer|amount_paid|customer_from|    last_updated_ts|\n+---+----------+------------+--------------------+--------------------+-------+-----------+-----------+-------------+-------------------+\n|  1|    Corrie|van den oord|cvandenoord@esty.com|{+1 234 567 8901,...| [1, 2]|       true|    1000.55|   2021-01-15|2021-02-10 01:15:00|\n|  2|   Nikolas|     Brewwit|nbrewwit@dailymai...|{+1 234 567 8923,...|    [3]|       true|      900.0|   2021-02-14|2021-02-18 03:33:00|\n|  3|    Orelie|      Penney|openny@vistaprint...|{+1 714 512 9752,...| [2, 4]|       true|     850.55|   2021-01-21|2021-03-15 15:16:00|\n|  4|    Ashiby|    Maddocks|ammaddocks3@home.com|        {NULL, NULL}|     []|      false|        NaN|         NULL|2021-04-10 17:45:30|\n|  5|      kurt|        Rome|krome@shutterfly.com|{+1 817 934 7142,...|     []|      false|        NaN|         NULL|2021-04-02 00:55:28|\n+---+----------+------------+--------------------+--------------------+-------+-----------+-----------+-------------+-------------------+\n\n"
     ]
    }
   ],
   "source": [
    "users_df.select('*').show()"
   ]
  },
  {
   "cell_type": "code",
   "execution_count": 0,
   "metadata": {
    "application/vnd.databricks.v1+cell": {
     "cellMetadata": {},
     "inputWidgets": {},
     "nuid": "a51acfaf-6e9a-4d28-8d89-09b1a9f4abc9",
     "showTitle": false,
     "tableResultSettingsMap": {},
     "title": ""
    },
    "colab": {
     "base_uri": "https://localhost:8080/"
    },
    "id": "r8Td1v9b41lu",
    "outputId": "03c6416e-352f-4642-cdbb-1f02984c5a16"
   },
   "outputs": [
    {
     "output_type": "stream",
     "name": "stdout",
     "output_type": "stream",
     "text": [
      "+---+----------+------------+\n| id|first_name|   last_name|\n+---+----------+------------+\n|  1|    Corrie|van den oord|\n|  2|   Nikolas|     Brewwit|\n|  3|    Orelie|      Penney|\n|  4|    Ashiby|    Maddocks|\n|  5|      kurt|        Rome|\n+---+----------+------------+\n\n"
     ]
    }
   ],
   "source": [
    "users_df.select('id','first_name','last_name').show()"
   ]
  },
  {
   "cell_type": "code",
   "execution_count": 0,
   "metadata": {
    "application/vnd.databricks.v1+cell": {
     "cellMetadata": {},
     "inputWidgets": {},
     "nuid": "c69dd60e-09c1-431c-b453-ec2e6368d2f6",
     "showTitle": false,
     "tableResultSettingsMap": {},
     "title": ""
    },
    "colab": {
     "base_uri": "https://localhost:8080/"
    },
    "id": "OUrwyPGH49f5",
    "outputId": "aa82d428-289f-451c-ac34-6490e1288207"
   },
   "outputs": [
    {
     "output_type": "stream",
     "name": "stdout",
     "output_type": "stream",
     "text": [
      "+---+----------+------------+\n| id|first_name|   last_name|\n+---+----------+------------+\n|  1|    Corrie|van den oord|\n|  2|   Nikolas|     Brewwit|\n|  3|    Orelie|      Penney|\n|  4|    Ashiby|    Maddocks|\n|  5|      kurt|        Rome|\n+---+----------+------------+\n\n"
     ]
    }
   ],
   "source": [
    "users_df.select(['id','first_name','last_name']).show()"
   ]
  },
  {
   "cell_type": "code",
   "execution_count": 0,
   "metadata": {
    "application/vnd.databricks.v1+cell": {
     "cellMetadata": {},
     "inputWidgets": {},
     "nuid": "fb3a36f4-54ef-4d62-8f91-c6d6c07e5881",
     "showTitle": false,
     "tableResultSettingsMap": {},
     "title": ""
    },
    "colab": {
     "base_uri": "https://localhost:8080/"
    },
    "id": "7AqADLWY5HKK",
    "outputId": "33b39aa4-a1e3-462f-e07b-8f63fb837a32"
   },
   "outputs": [
    {
     "output_type": "stream",
     "name": "stdout",
     "output_type": "stream",
     "text": [
      "+---+----------+------------+--------------------+--------------------+-------+-----------+-----------+-------------+-------------------+\n| id|first_name|   last_name|               email|       phone_numbers|courses|is_customer|amount_paid|customer_from|    last_updated_ts|\n+---+----------+------------+--------------------+--------------------+-------+-----------+-----------+-------------+-------------------+\n|  1|    Corrie|van den oord|cvandenoord@esty.com|{+1 234 567 8901,...| [1, 2]|       true|    1000.55|   2021-01-15|2021-02-10 01:15:00|\n|  2|   Nikolas|     Brewwit|nbrewwit@dailymai...|{+1 234 567 8923,...|    [3]|       true|      900.0|   2021-02-14|2021-02-18 03:33:00|\n|  3|    Orelie|      Penney|openny@vistaprint...|{+1 714 512 9752,...| [2, 4]|       true|     850.55|   2021-01-21|2021-03-15 15:16:00|\n|  4|    Ashiby|    Maddocks|ammaddocks3@home.com|        {NULL, NULL}|     []|      false|        NaN|         NULL|2021-04-10 17:45:30|\n|  5|      kurt|        Rome|krome@shutterfly.com|{+1 817 934 7142,...|     []|      false|        NaN|         NULL|2021-04-02 00:55:28|\n+---+----------+------------+--------------------+--------------------+-------+-----------+-----------+-------------+-------------------+\n\n"
     ]
    }
   ],
   "source": [
    "users_df.alias('u').select('u.*').show()"
   ]
  },
  {
   "cell_type": "code",
   "execution_count": 0,
   "metadata": {
    "application/vnd.databricks.v1+cell": {
     "cellMetadata": {},
     "inputWidgets": {},
     "nuid": "05fae30e-932f-4ae5-b1b0-93c2f121d70f",
     "showTitle": false,
     "tableResultSettingsMap": {},
     "title": ""
    },
    "colab": {
     "base_uri": "https://localhost:8080/"
    },
    "id": "lg0BT-165P-a",
    "outputId": "d9b16e2a-fb7f-4d84-9e4e-627e5d12cbd7"
   },
   "outputs": [
    {
     "output_type": "stream",
     "name": "stdout",
     "output_type": "stream",
     "text": [
      "+---+----------+------------+-----------+\n| id|first_name|   last_name|is_customer|\n+---+----------+------------+-----------+\n|  1|    Corrie|van den oord|       true|\n|  2|   Nikolas|     Brewwit|       true|\n|  3|    Orelie|      Penney|       true|\n|  4|    Ashiby|    Maddocks|      false|\n|  5|      kurt|        Rome|      false|\n+---+----------+------------+-----------+\n\n"
     ]
    }
   ],
   "source": [
    "users_df.select(col('id'),\n",
    "                users_df['first_name'],\n",
    "                'last_name',\n",
    "                users_df.is_customer,\n",
    "                ).show()"
   ]
  },
  {
   "cell_type": "code",
   "execution_count": 0,
   "metadata": {
    "application/vnd.databricks.v1+cell": {
     "cellMetadata": {},
     "inputWidgets": {},
     "nuid": "61f47268-3e5c-41b9-80b7-43e10ffc0672",
     "showTitle": false,
     "tableResultSettingsMap": {},
     "title": ""
    },
    "id": "ZU_CByZK5xDv"
   },
   "outputs": [],
   "source": [
    "from pyspark.sql.functions import concat,col,lit"
   ]
  },
  {
   "cell_type": "code",
   "execution_count": 0,
   "metadata": {
    "application/vnd.databricks.v1+cell": {
     "cellMetadata": {},
     "inputWidgets": {},
     "nuid": "344f650b-5195-4fe6-9e28-0b04de5ed051",
     "showTitle": false,
     "tableResultSettingsMap": {},
     "title": ""
    },
    "colab": {
     "base_uri": "https://localhost:8080/"
    },
    "id": "hXMgScij5_gK",
    "outputId": "1bbe61e1-a1bf-4ecc-92a2-b50c2eec27be"
   },
   "outputs": [
    {
     "output_type": "stream",
     "name": "stdout",
     "output_type": "stream",
     "text": [
      "+---+----------+------------+--------------------+\n| id|first_name|   last_name|           full_name|\n+---+----------+------------+--------------------+\n|  1|    Corrie|van den oord|Corrie ,van den oord|\n|  2|   Nikolas|     Brewwit|    Nikolas ,Brewwit|\n|  3|    Orelie|      Penney|      Orelie ,Penney|\n|  4|    Ashiby|    Maddocks|    Ashiby ,Maddocks|\n|  5|      kurt|        Rome|          kurt ,Rome|\n+---+----------+------------+--------------------+\n\n"
     ]
    }
   ],
   "source": [
    "users_df.select(\n",
    "    col('id'),\n",
    "    'first_name',\n",
    "    'last_name',\n",
    "    concat('first_name',lit(' ,'),'last_name').alias('full_name')\n",
    ").show()"
   ]
  },
  {
   "cell_type": "code",
   "execution_count": 0,
   "metadata": {
    "application/vnd.databricks.v1+cell": {
     "cellMetadata": {},
     "inputWidgets": {},
     "nuid": "367846b9-e132-4e4a-bac1-36e2f20fa5eb",
     "showTitle": false,
     "tableResultSettingsMap": {},
     "title": ""
    },
    "colab": {
     "base_uri": "https://localhost:8080/"
    },
    "id": "sulbIZ8J6shj",
    "outputId": "afc57e3d-0d63-4616-9232-f1a7a8e5a2ee"
   },
   "outputs": [
    {
     "output_type": "stream",
     "name": "stdout",
     "output_type": "stream",
     "text": [
      "+---+----------+------------+--------------------+\n| id|first_name|   last_name|           full_name|\n+---+----------+------------+--------------------+\n|  1|    Corrie|van den oord|Corrie, van den oord|\n|  2|   Nikolas|     Brewwit|    Nikolas, Brewwit|\n|  3|    Orelie|      Penney|      Orelie, Penney|\n|  4|    Ashiby|    Maddocks|    Ashiby, Maddocks|\n|  5|      kurt|        Rome|          kurt, Rome|\n+---+----------+------------+--------------------+\n\n"
     ]
    }
   ],
   "source": [
    "users_df.selectExpr('id','first_name','last_name', 'concat(first_name, \", \",last_name) as full_name').show()"
   ]
  },
  {
   "cell_type": "code",
   "execution_count": 0,
   "metadata": {
    "application/vnd.databricks.v1+cell": {
     "cellMetadata": {},
     "inputWidgets": {},
     "nuid": "aa2e9c64-6ae9-4c40-abac-49e04b7cacb6",
     "showTitle": false,
     "tableResultSettingsMap": {},
     "title": ""
    },
    "id": "ccYezrH57DkK"
   },
   "outputs": [],
   "source": [
    "users_df.createOrReplaceTempView('users')"
   ]
  },
  {
   "cell_type": "code",
   "execution_count": 0,
   "metadata": {
    "application/vnd.databricks.v1+cell": {
     "cellMetadata": {},
     "inputWidgets": {},
     "nuid": "7e520596-a9a2-4a3f-b030-b700168c5e26",
     "showTitle": false,
     "tableResultSettingsMap": {},
     "title": ""
    },
    "colab": {
     "base_uri": "https://localhost:8080/"
    },
    "id": "h4R0exjd7VgV",
    "outputId": "d2ce46f3-590d-4a3a-9fec-f5584a226997"
   },
   "outputs": [
    {
     "output_type": "stream",
     "name": "stdout",
     "output_type": "stream",
     "text": [
      "+---+----------+------------+--------------------+\n| id|first_name|   last_name|           full_name|\n+---+----------+------------+--------------------+\n|  1|    Corrie|van den oord|Corrie, van den oord|\n|  2|   Nikolas|     Brewwit|    Nikolas, Brewwit|\n|  3|    Orelie|      Penney|      Orelie, Penney|\n|  4|    Ashiby|    Maddocks|    Ashiby, Maddocks|\n|  5|      kurt|        Rome|          kurt, Rome|\n+---+----------+------------+--------------------+\n\n"
     ]
    }
   ],
   "source": [
    "spark.sql(\"\"\"\n",
    "    SELECT id, first_name, last_name,\n",
    "    concat(first_name, ', ',last_name) as full_name\n",
    "    from users\n",
    "\"\"\").show()"
   ]
  },
  {
   "cell_type": "code",
   "execution_count": 0,
   "metadata": {
    "application/vnd.databricks.v1+cell": {
     "cellMetadata": {},
     "inputWidgets": {},
     "nuid": "9759ed83-22ed-478e-8459-1c300a8aa111",
     "showTitle": false,
     "tableResultSettingsMap": {},
     "title": ""
    },
    "colab": {
     "base_uri": "https://localhost:8080/"
    },
    "id": "4Xt08rWE7zvB",
    "outputId": "7ffc2821-8404-47f9-fcd1-235b85cef619"
   },
   "outputs": [
    {
     "output_type": "stream",
     "name": "stdout",
     "output_type": "stream",
     "text": [
      "+-------+---------------+--------------+\n|user_id|user_first_name|user_last_name|\n+-------+---------------+--------------+\n|      1|         Corrie|  van den oord|\n|      2|        Nikolas|       Brewwit|\n|      3|         Orelie|        Penney|\n|      4|         Ashiby|      Maddocks|\n|      5|           kurt|          Rome|\n+-------+---------------+--------------+\n\n"
     ]
    }
   ],
   "source": [
    "users_df.\\\n",
    "  select('id','first_name','last_name') .\\\n",
    "  withColumnRenamed('id','user_id') .\\\n",
    "  withColumnRenamed('first_name','user_first_name') .\\\n",
    "  withColumnRenamed('last_name','user_last_name').show()"
   ]
  },
  {
   "cell_type": "code",
   "execution_count": 0,
   "metadata": {
    "application/vnd.databricks.v1+cell": {
     "cellMetadata": {
      "byteLimit": 2048000,
      "rowLimit": 10000
     },
     "inputWidgets": {},
     "nuid": "cc23373f-c67e-4cfd-9223-fa1d9b466590",
     "showTitle": false,
     "tableResultSettingsMap": {},
     "title": ""
    },
    "colab": {
     "base_uri": "https://localhost:8080/"
    },
    "id": "EKtgpIwa7zri",
    "outputId": "366c13d0-9ffa-4b05-deb9-ccb88d8afb6b"
   },
   "outputs": [
    {
     "output_type": "stream",
     "name": "stdout",
     "output_type": "stream",
     "text": [
      "+-----------+------+-----------------+--------------+----------+------------------+--------+---------+---------+----------+\n|        _c0|   _c1|              _c2|           _c3|       _c4|               _c5|     _c6|      _c7|      _c8|       _c9|\n+-----------+------+-----------------+--------------+----------+------------------+--------+---------+---------+----------+\n|CustomerKey|Gender|             Name|          City|State Code|             State|Zip Code|  Country|Continent|  Birthday|\n|        301|Female|    Lilly Harding|WANDEARAH EAST|        SA|   South Australia|    5523|Australia|Australia|  7/3/1939|\n|        325|Female|     Madison Hull|    MOUNT BUDD|        WA| Western Australia|    6522|Australia|Australia| 9/27/1979|\n|        554|Female|    Claire Ferres|     WINJALLOK|       VIC|          Victoria|    3380|Australia|Australia| 5/26/1947|\n|        786|  Male|Jai Poltpalingada|  MIDDLE RIVER|        SA|   South Australia|    5223|Australia|Australia| 9/17/1957|\n|       1042|  Male|  Aidan Pankhurst| TAWONGA SOUTH|       VIC|          Victoria|    3698|Australia|Australia|11/19/1965|\n|       1086|  Male|     Hayden Clegg|      TEMPLERS|        SA|   South Australia|    5371|Australia|Australia| 1/20/1954|\n|       1133|  Male|  Nicholas Caffyn|JUBILEE POCKET|       QLD|        Queensland|    4802|Australia|Australia|11/22/1969|\n|       1256|  Male|    Lincoln Jenks|      KULLOGUM|       QLD|        Queensland|    4660|Australia|Australia| 3/12/1950|\n|       1314|  Male|     Isaac Israel|   EDITH RIVER|        NT|Northern Territory|     852|Australia|Australia|12/21/1965|\n|       1568|  Male|      Luke Virtue|         KOTTA|       VIC|          Victoria|    3565|Australia|Australia| 7/25/1975|\n|       1585|Female|   Anna Hallstrom|    GREEN LAKE|       VIC|          Victoria|    3401|Australia|Australia| 8/12/1990|\n|       1626|Female|       Mary Leach|   NEDS CORNER|       VIC|          Victoria|    3496|Australia|Australia|10/17/1985|\n|       1642|Female|     Ruby Ambrose|         TARLO|       NSW|   New South Wales|    2580|Australia|Australia|  3/3/1965|\n|       1677|  Male|       Dean Innes|     ELLESMERE|       QLD|        Queensland|    4610|Australia|Australia|11/22/1964|\n|       1817|Female|Laura Le Rennetel|     BEAUCHAMP|       VIC|          Victoria|    3579|Australia|Australia| 7/10/1986|\n|       1863|Female|  Chelsea Watkins|    NAMBOUR DC|       QLD|        Queensland|    4560|Australia|Australia| 9/22/1984|\n|       1945|  Male|Angus Beaurepaire|   GREENFIELDS|        WA| Western Australia|    6210|Australia|Australia| 9/20/1974|\n|       2238|Female| Isabelle Cochran|     BRUCKNELL|       VIC|          Victoria|    3268|Australia|Australia|10/31/1969|\n|       2248|  Male|      Rory Spargo|          JUNG|       VIC|          Victoria|    3401|Australia|Australia|12/15/1987|\n+-----------+------+-----------------+--------------+----------+------------------+--------+---------+---------+----------+\nonly showing top 20 rows\n"
     ]
    }
   ],
   "source": [
    "spark.read.csv(path = '/mnt/input/Customers.csv').show()"
   ]
  },
  {
   "cell_type": "code",
   "execution_count": 0,
   "metadata": {
    "application/vnd.databricks.v1+cell": {
     "cellMetadata": {
      "byteLimit": 2048000,
      "rowLimit": 10000
     },
     "inputWidgets": {},
     "nuid": "bc9e5fbb-59c3-402f-9bca-d6b384aa598f",
     "showTitle": false,
     "tableResultSettingsMap": {},
     "title": ""
    },
    "id": "xD5XrHXN85-6"
   },
   "outputs": [],
   "source": [
    "customers_df=spark.read.csv(path = '/mnt/input/Customers.csv',header= True)"
   ]
  },
  {
   "cell_type": "code",
   "execution_count": 0,
   "metadata": {
    "application/vnd.databricks.v1+cell": {
     "cellMetadata": {
      "byteLimit": 2048000,
      "rowLimit": 10000
     },
     "inputWidgets": {},
     "nuid": "a9d09a25-96ad-4666-a55b-99a71f253321",
     "showTitle": false,
     "tableResultSettingsMap": {},
     "title": ""
    },
    "colab": {
     "base_uri": "https://localhost:8080/"
    },
    "id": "eriNFUM_9B2s",
    "outputId": "3674c71d-0c21-4e27-903c-dd6044e8dcd9"
   },
   "outputs": [
    {
     "output_type": "stream",
     "name": "stdout",
     "output_type": "stream",
     "text": [
      "+-----------+------+-----------------+--------------+----------+------------------+--------+---------+---------+----------+\n|CustomerKey|Gender|             Name|          City|State Code|             State|Zip Code|  Country|Continent|  Birthday|\n+-----------+------+-----------------+--------------+----------+------------------+--------+---------+---------+----------+\n|        301|Female|    Lilly Harding|WANDEARAH EAST|        SA|   South Australia|    5523|Australia|Australia|  7/3/1939|\n|        325|Female|     Madison Hull|    MOUNT BUDD|        WA| Western Australia|    6522|Australia|Australia| 9/27/1979|\n|        554|Female|    Claire Ferres|     WINJALLOK|       VIC|          Victoria|    3380|Australia|Australia| 5/26/1947|\n|        786|  Male|Jai Poltpalingada|  MIDDLE RIVER|        SA|   South Australia|    5223|Australia|Australia| 9/17/1957|\n|       1042|  Male|  Aidan Pankhurst| TAWONGA SOUTH|       VIC|          Victoria|    3698|Australia|Australia|11/19/1965|\n|       1086|  Male|     Hayden Clegg|      TEMPLERS|        SA|   South Australia|    5371|Australia|Australia| 1/20/1954|\n|       1133|  Male|  Nicholas Caffyn|JUBILEE POCKET|       QLD|        Queensland|    4802|Australia|Australia|11/22/1969|\n|       1256|  Male|    Lincoln Jenks|      KULLOGUM|       QLD|        Queensland|    4660|Australia|Australia| 3/12/1950|\n|       1314|  Male|     Isaac Israel|   EDITH RIVER|        NT|Northern Territory|     852|Australia|Australia|12/21/1965|\n|       1568|  Male|      Luke Virtue|         KOTTA|       VIC|          Victoria|    3565|Australia|Australia| 7/25/1975|\n|       1585|Female|   Anna Hallstrom|    GREEN LAKE|       VIC|          Victoria|    3401|Australia|Australia| 8/12/1990|\n|       1626|Female|       Mary Leach|   NEDS CORNER|       VIC|          Victoria|    3496|Australia|Australia|10/17/1985|\n|       1642|Female|     Ruby Ambrose|         TARLO|       NSW|   New South Wales|    2580|Australia|Australia|  3/3/1965|\n|       1677|  Male|       Dean Innes|     ELLESMERE|       QLD|        Queensland|    4610|Australia|Australia|11/22/1964|\n|       1817|Female|Laura Le Rennetel|     BEAUCHAMP|       VIC|          Victoria|    3579|Australia|Australia| 7/10/1986|\n|       1863|Female|  Chelsea Watkins|    NAMBOUR DC|       QLD|        Queensland|    4560|Australia|Australia| 9/22/1984|\n|       1945|  Male|Angus Beaurepaire|   GREENFIELDS|        WA| Western Australia|    6210|Australia|Australia| 9/20/1974|\n|       2238|Female| Isabelle Cochran|     BRUCKNELL|       VIC|          Victoria|    3268|Australia|Australia|10/31/1969|\n|       2248|  Male|      Rory Spargo|          JUNG|       VIC|          Victoria|    3401|Australia|Australia|12/15/1987|\n|       2435|Female|      Lilian Hall|    BLAKEBROOK|       NSW|   New South Wales|    2480|Australia|Australia|  4/1/1968|\n+-----------+------+-----------------+--------------+----------+------------------+--------+---------+---------+----------+\nonly showing top 20 rows\n"
     ]
    }
   ],
   "source": [
    "customers_df.show()"
   ]
  },
  {
   "cell_type": "code",
   "execution_count": 0,
   "metadata": {
    "application/vnd.databricks.v1+cell": {
     "cellMetadata": {
      "byteLimit": 2048000,
      "rowLimit": 10000
     },
     "inputWidgets": {},
     "nuid": "b8830b8b-0ffe-4ec2-8bc2-42b587d49184",
     "showTitle": false,
     "tableResultSettingsMap": {},
     "title": ""
    },
    "colab": {
     "base_uri": "https://localhost:8080/"
    },
    "id": "I4HGdcdr9IJs",
    "outputId": "95c4c726-866a-4d08-cfd2-1485f5310973"
   },
   "outputs": [
    {
     "output_type": "stream",
     "name": "stdout",
     "output_type": "stream",
     "text": [
      "root\n |-- CustomerKey: string (nullable = true)\n |-- Gender: string (nullable = true)\n |-- Name: string (nullable = true)\n |-- City: string (nullable = true)\n |-- State Code: string (nullable = true)\n |-- State: string (nullable = true)\n |-- Zip Code: string (nullable = true)\n |-- Country: string (nullable = true)\n |-- Continent: string (nullable = true)\n |-- Birthday: string (nullable = true)\n\n"
     ]
    }
   ],
   "source": [
    "customers_df.printSchema()"
   ]
  },
  {
   "cell_type": "code",
   "execution_count": 0,
   "metadata": {
    "application/vnd.databricks.v1+cell": {
     "cellMetadata": {
      "byteLimit": 2048000,
      "rowLimit": 10000
     },
     "inputWidgets": {},
     "nuid": "3bde934c-6788-402a-ab6c-8f3b2903ade6",
     "showTitle": false,
     "tableResultSettingsMap": {},
     "title": ""
    },
    "id": "S6QnSjnZ9RJ6"
   },
   "outputs": [],
   "source": [
    "from pyspark.sql.types import StructType, StructField, StringType,IntegerType\n",
    "schema = StructType([\n",
    "    StructField(\"customerKey\",IntegerType()),\n",
    "    StructField(\"Gender\",StringType()),\n",
    "    StructField(\"Name\",StringType()),\n",
    "    StructField(\"City\",StringType()),\n",
    "    StructField(\"State Code\",StringType()),\n",
    "    StructField(\"State\",StringType()),\n",
    "    StructField(\"Zip Code\", IntegerType()),\n",
    "    StructField(\"Country\",StringType()),\n",
    "    StructField(\"Continet\",StringType()),\n",
    "    StructField(\"Birthday\",StringType())\n",
    "])"
   ]
  },
  {
   "cell_type": "code",
   "execution_count": 0,
   "metadata": {
    "application/vnd.databricks.v1+cell": {
     "cellMetadata": {
      "byteLimit": 2048000,
      "rowLimit": 10000
     },
     "inputWidgets": {},
     "nuid": "3efa586d-fbed-49bd-af36-89964de4f340",
     "showTitle": false,
     "tableResultSettingsMap": {},
     "title": ""
    },
    "colab": {
     "base_uri": "https://localhost:8080/"
    },
    "id": "r4lKsVVN-rbp",
    "outputId": "6e45f793-8bf8-4714-b162-504180d1e69a"
   },
   "outputs": [
    {
     "output_type": "stream",
     "name": "stdout",
     "output_type": "stream",
     "text": [
      "+-----------+------+-----------------+--------------+----------+------------------+--------+---------+---------+----------+\n|customerKey|Gender|             Name|          City|State Code|             State|Zip Code|  Country| Continet|  Birthday|\n+-----------+------+-----------------+--------------+----------+------------------+--------+---------+---------+----------+\n|        301|Female|    Lilly Harding|WANDEARAH EAST|        SA|   South Australia|    5523|Australia|Australia|  7/3/1939|\n|        325|Female|     Madison Hull|    MOUNT BUDD|        WA| Western Australia|    6522|Australia|Australia| 9/27/1979|\n|        554|Female|    Claire Ferres|     WINJALLOK|       VIC|          Victoria|    3380|Australia|Australia| 5/26/1947|\n|        786|  Male|Jai Poltpalingada|  MIDDLE RIVER|        SA|   South Australia|    5223|Australia|Australia| 9/17/1957|\n|       1042|  Male|  Aidan Pankhurst| TAWONGA SOUTH|       VIC|          Victoria|    3698|Australia|Australia|11/19/1965|\n|       1086|  Male|     Hayden Clegg|      TEMPLERS|        SA|   South Australia|    5371|Australia|Australia| 1/20/1954|\n|       1133|  Male|  Nicholas Caffyn|JUBILEE POCKET|       QLD|        Queensland|    4802|Australia|Australia|11/22/1969|\n|       1256|  Male|    Lincoln Jenks|      KULLOGUM|       QLD|        Queensland|    4660|Australia|Australia| 3/12/1950|\n|       1314|  Male|     Isaac Israel|   EDITH RIVER|        NT|Northern Territory|     852|Australia|Australia|12/21/1965|\n|       1568|  Male|      Luke Virtue|         KOTTA|       VIC|          Victoria|    3565|Australia|Australia| 7/25/1975|\n|       1585|Female|   Anna Hallstrom|    GREEN LAKE|       VIC|          Victoria|    3401|Australia|Australia| 8/12/1990|\n|       1626|Female|       Mary Leach|   NEDS CORNER|       VIC|          Victoria|    3496|Australia|Australia|10/17/1985|\n|       1642|Female|     Ruby Ambrose|         TARLO|       NSW|   New South Wales|    2580|Australia|Australia|  3/3/1965|\n|       1677|  Male|       Dean Innes|     ELLESMERE|       QLD|        Queensland|    4610|Australia|Australia|11/22/1964|\n|       1817|Female|Laura Le Rennetel|     BEAUCHAMP|       VIC|          Victoria|    3579|Australia|Australia| 7/10/1986|\n|       1863|Female|  Chelsea Watkins|    NAMBOUR DC|       QLD|        Queensland|    4560|Australia|Australia| 9/22/1984|\n|       1945|  Male|Angus Beaurepaire|   GREENFIELDS|        WA| Western Australia|    6210|Australia|Australia| 9/20/1974|\n|       2238|Female| Isabelle Cochran|     BRUCKNELL|       VIC|          Victoria|    3268|Australia|Australia|10/31/1969|\n|       2248|  Male|      Rory Spargo|          JUNG|       VIC|          Victoria|    3401|Australia|Australia|12/15/1987|\n|       2435|Female|      Lilian Hall|    BLAKEBROOK|       NSW|   New South Wales|    2480|Australia|Australia|  4/1/1968|\n+-----------+------+-----------------+--------------+----------+------------------+--------+---------+---------+----------+\nonly showing top 20 rows\n"
     ]
    }
   ],
   "source": [
    "spark.read.csv(path = '/mnt/input/Customers.csv',header= True, schema=schema).show()"
   ]
  },
  {
   "cell_type": "code",
   "execution_count": 0,
   "metadata": {
    "application/vnd.databricks.v1+cell": {
     "cellMetadata": {
      "byteLimit": 2048000,
      "rowLimit": 10000
     },
     "inputWidgets": {},
     "nuid": "bb27f652-049a-4516-b426-971ae5f1970c",
     "showTitle": false,
     "tableResultSettingsMap": {},
     "title": ""
    },
    "colab": {
     "base_uri": "https://localhost:8080/"
    },
    "id": "zwFsMILn-zg7",
    "outputId": "473b0007-0ffa-4de7-862f-fec0409343cb"
   },
   "outputs": [
    {
     "output_type": "stream",
     "name": "stdout",
     "output_type": "stream",
     "text": [
      "root\n |-- customerKey: integer (nullable = true)\n |-- Gender: string (nullable = true)\n |-- Name: string (nullable = true)\n |-- City: string (nullable = true)\n |-- State Code: string (nullable = true)\n |-- State: string (nullable = true)\n |-- Zip Code: integer (nullable = true)\n |-- Country: string (nullable = true)\n |-- Continet: string (nullable = true)\n |-- Birthday: string (nullable = true)\n\n"
     ]
    }
   ],
   "source": [
    "spark.read.csv(path = '/mnt/input/Customers.csv',header= True, schema=schema).printSchema()"
   ]
  },
  {
   "cell_type": "code",
   "execution_count": 0,
   "metadata": {
    "application/vnd.databricks.v1+cell": {
     "cellMetadata": {
      "byteLimit": 2048000,
      "rowLimit": 10000
     },
     "inputWidgets": {},
     "nuid": "dcbd4f11-ace8-456a-a04e-6b39aa738cea",
     "showTitle": false,
     "tableResultSettingsMap": {},
     "title": ""
    },
    "id": "iwSEaf5X-_cc"
   },
   "outputs": [],
   "source": [
    "customers_df=customers_df.withColumnRenamed('Customerkey','Customer_id')"
   ]
  },
  {
   "cell_type": "code",
   "execution_count": 0,
   "metadata": {
    "application/vnd.databricks.v1+cell": {
     "cellMetadata": {
      "byteLimit": 2048000,
      "rowLimit": 10000
     },
     "inputWidgets": {},
     "nuid": "838f2dae-7b74-412f-b5d5-3be3e83f8acc",
     "showTitle": false,
     "tableResultSettingsMap": {},
     "title": ""
    },
    "colab": {
     "base_uri": "https://localhost:8080/"
    },
    "id": "pZJr1TyS_KCJ",
    "outputId": "77a7c807-af7c-4ee1-dcb3-21529c5c19c6"
   },
   "outputs": [
    {
     "output_type": "stream",
     "name": "stdout",
     "output_type": "stream",
     "text": [
      "+-----------+------+-----------------+--------------+----------+------------------+--------+---------+---------+----------+\n|Customer_id|Gender|             Name|          City|State Code|             State|Zip Code|  Country|Continent|  Birthday|\n+-----------+------+-----------------+--------------+----------+------------------+--------+---------+---------+----------+\n|        301|Female|    Lilly Harding|WANDEARAH EAST|        SA|   South Australia|    5523|Australia|Australia|  7/3/1939|\n|        325|Female|     Madison Hull|    MOUNT BUDD|        WA| Western Australia|    6522|Australia|Australia| 9/27/1979|\n|        554|Female|    Claire Ferres|     WINJALLOK|       VIC|          Victoria|    3380|Australia|Australia| 5/26/1947|\n|        786|  Male|Jai Poltpalingada|  MIDDLE RIVER|        SA|   South Australia|    5223|Australia|Australia| 9/17/1957|\n|       1042|  Male|  Aidan Pankhurst| TAWONGA SOUTH|       VIC|          Victoria|    3698|Australia|Australia|11/19/1965|\n|       1086|  Male|     Hayden Clegg|      TEMPLERS|        SA|   South Australia|    5371|Australia|Australia| 1/20/1954|\n|       1133|  Male|  Nicholas Caffyn|JUBILEE POCKET|       QLD|        Queensland|    4802|Australia|Australia|11/22/1969|\n|       1256|  Male|    Lincoln Jenks|      KULLOGUM|       QLD|        Queensland|    4660|Australia|Australia| 3/12/1950|\n|       1314|  Male|     Isaac Israel|   EDITH RIVER|        NT|Northern Territory|     852|Australia|Australia|12/21/1965|\n|       1568|  Male|      Luke Virtue|         KOTTA|       VIC|          Victoria|    3565|Australia|Australia| 7/25/1975|\n|       1585|Female|   Anna Hallstrom|    GREEN LAKE|       VIC|          Victoria|    3401|Australia|Australia| 8/12/1990|\n|       1626|Female|       Mary Leach|   NEDS CORNER|       VIC|          Victoria|    3496|Australia|Australia|10/17/1985|\n|       1642|Female|     Ruby Ambrose|         TARLO|       NSW|   New South Wales|    2580|Australia|Australia|  3/3/1965|\n|       1677|  Male|       Dean Innes|     ELLESMERE|       QLD|        Queensland|    4610|Australia|Australia|11/22/1964|\n|       1817|Female|Laura Le Rennetel|     BEAUCHAMP|       VIC|          Victoria|    3579|Australia|Australia| 7/10/1986|\n|       1863|Female|  Chelsea Watkins|    NAMBOUR DC|       QLD|        Queensland|    4560|Australia|Australia| 9/22/1984|\n|       1945|  Male|Angus Beaurepaire|   GREENFIELDS|        WA| Western Australia|    6210|Australia|Australia| 9/20/1974|\n|       2238|Female| Isabelle Cochran|     BRUCKNELL|       VIC|          Victoria|    3268|Australia|Australia|10/31/1969|\n|       2248|  Male|      Rory Spargo|          JUNG|       VIC|          Victoria|    3401|Australia|Australia|12/15/1987|\n|       2435|Female|      Lilian Hall|    BLAKEBROOK|       NSW|   New South Wales|    2480|Australia|Australia|  4/1/1968|\n+-----------+------+-----------------+--------------+----------+------------------+--------+---------+---------+----------+\nonly showing top 20 rows\n"
     ]
    }
   ],
   "source": [
    "customers_df.show()"
   ]
  },
  {
   "cell_type": "code",
   "execution_count": 0,
   "metadata": {
    "application/vnd.databricks.v1+cell": {
     "cellMetadata": {
      "byteLimit": 2048000,
      "rowLimit": 10000
     },
     "inputWidgets": {},
     "nuid": "97f4dfbe-b128-40ed-b50a-add23043cbf4",
     "showTitle": false,
     "tableResultSettingsMap": {},
     "title": ""
    },
    "id": "aYZoupCJ_TuF"
   },
   "outputs": [],
   "source": [
    "from pyspark.sql.functions import col\n",
    "customers_df = customers_df.withColumn('Birthdate',col('Birthday').cast('date'))"
   ]
  },
  {
   "cell_type": "code",
   "execution_count": 0,
   "metadata": {
    "application/vnd.databricks.v1+cell": {
     "cellMetadata": {
      "byteLimit": 2048000,
      "rowLimit": 10000
     },
     "inputWidgets": {},
     "nuid": "5c09818a-bdf9-44ac-b14d-e21579042ec6",
     "showTitle": false,
     "tableResultSettingsMap": {},
     "title": ""
    },
    "colab": {
     "base_uri": "https://localhost:8080/"
    },
    "id": "DEBLxnKw_lO5",
    "outputId": "db1cb78c-8ce6-4212-e9a9-328287660e67"
   },
   "outputs": [
    {
     "output_type": "stream",
     "name": "stdout",
     "output_type": "stream",
     "text": [
      "+-----------+------+-----------------+--------------+----------+------------------+--------+---------+---------+----------+---------+\n|Customer_id|Gender|             Name|          City|State Code|             State|Zip Code|  Country|Continent|  Birthday|Birthdate|\n+-----------+------+-----------------+--------------+----------+------------------+--------+---------+---------+----------+---------+\n|        301|Female|    Lilly Harding|WANDEARAH EAST|        SA|   South Australia|    5523|Australia|Australia|  7/3/1939|     NULL|\n|        325|Female|     Madison Hull|    MOUNT BUDD|        WA| Western Australia|    6522|Australia|Australia| 9/27/1979|     NULL|\n|        554|Female|    Claire Ferres|     WINJALLOK|       VIC|          Victoria|    3380|Australia|Australia| 5/26/1947|     NULL|\n|        786|  Male|Jai Poltpalingada|  MIDDLE RIVER|        SA|   South Australia|    5223|Australia|Australia| 9/17/1957|     NULL|\n|       1042|  Male|  Aidan Pankhurst| TAWONGA SOUTH|       VIC|          Victoria|    3698|Australia|Australia|11/19/1965|     NULL|\n|       1086|  Male|     Hayden Clegg|      TEMPLERS|        SA|   South Australia|    5371|Australia|Australia| 1/20/1954|     NULL|\n|       1133|  Male|  Nicholas Caffyn|JUBILEE POCKET|       QLD|        Queensland|    4802|Australia|Australia|11/22/1969|     NULL|\n|       1256|  Male|    Lincoln Jenks|      KULLOGUM|       QLD|        Queensland|    4660|Australia|Australia| 3/12/1950|     NULL|\n|       1314|  Male|     Isaac Israel|   EDITH RIVER|        NT|Northern Territory|     852|Australia|Australia|12/21/1965|     NULL|\n|       1568|  Male|      Luke Virtue|         KOTTA|       VIC|          Victoria|    3565|Australia|Australia| 7/25/1975|     NULL|\n|       1585|Female|   Anna Hallstrom|    GREEN LAKE|       VIC|          Victoria|    3401|Australia|Australia| 8/12/1990|     NULL|\n|       1626|Female|       Mary Leach|   NEDS CORNER|       VIC|          Victoria|    3496|Australia|Australia|10/17/1985|     NULL|\n|       1642|Female|     Ruby Ambrose|         TARLO|       NSW|   New South Wales|    2580|Australia|Australia|  3/3/1965|     NULL|\n|       1677|  Male|       Dean Innes|     ELLESMERE|       QLD|        Queensland|    4610|Australia|Australia|11/22/1964|     NULL|\n|       1817|Female|Laura Le Rennetel|     BEAUCHAMP|       VIC|          Victoria|    3579|Australia|Australia| 7/10/1986|     NULL|\n|       1863|Female|  Chelsea Watkins|    NAMBOUR DC|       QLD|        Queensland|    4560|Australia|Australia| 9/22/1984|     NULL|\n|       1945|  Male|Angus Beaurepaire|   GREENFIELDS|        WA| Western Australia|    6210|Australia|Australia| 9/20/1974|     NULL|\n|       2238|Female| Isabelle Cochran|     BRUCKNELL|       VIC|          Victoria|    3268|Australia|Australia|10/31/1969|     NULL|\n|       2248|  Male|      Rory Spargo|          JUNG|       VIC|          Victoria|    3401|Australia|Australia|12/15/1987|     NULL|\n|       2435|Female|      Lilian Hall|    BLAKEBROOK|       NSW|   New South Wales|    2480|Australia|Australia|  4/1/1968|     NULL|\n+-----------+------+-----------------+--------------+----------+------------------+--------+---------+---------+----------+---------+\nonly showing top 20 rows\n"
     ]
    }
   ],
   "source": [
    "customers_df.show()"
   ]
  },
  {
   "cell_type": "code",
   "execution_count": 0,
   "metadata": {
    "application/vnd.databricks.v1+cell": {
     "cellMetadata": {
      "byteLimit": 2048000,
      "rowLimit": 10000
     },
     "inputWidgets": {},
     "nuid": "76f321a8-6f94-46c7-813e-7ddb01c9b809",
     "showTitle": false,
     "tableResultSettingsMap": {},
     "title": ""
    },
    "id": "vxbpOBu6_pz3"
   },
   "outputs": [],
   "source": [
    "from pyspark.sql.functions import to_date"
   ]
  },
  {
   "cell_type": "code",
   "execution_count": 0,
   "metadata": {
    "application/vnd.databricks.v1+cell": {
     "cellMetadata": {},
     "inputWidgets": {},
     "nuid": "6e6bdf2f-d077-4a92-b93a-27f9b4642ac8",
     "showTitle": false,
     "tableResultSettingsMap": {},
     "title": ""
    },
    "id": "fIPk4sfP_vH6"
   },
   "outputs": [],
   "source": [
    "customers_df = customers_df.withColumn('Birthdate',to_date(col('Birthday'),'M/d/yyyy'))"
   ]
  },
  {
   "cell_type": "code",
   "execution_count": 0,
   "metadata": {
    "application/vnd.databricks.v1+cell": {
     "cellMetadata": {
      "byteLimit": 2048000,
      "rowLimit": 10000
     },
     "inputWidgets": {},
     "nuid": "a8943496-fd0d-4385-964c-ca028ccf6df9",
     "showTitle": false,
     "tableResultSettingsMap": {},
     "title": ""
    },
    "colab": {
     "base_uri": "https://localhost:8080/"
    },
    "id": "W0XY7mtr__N-",
    "outputId": "c1a8db3b-2433-42d9-a7f7-82564dea81af"
   },
   "outputs": [
    {
     "output_type": "stream",
     "name": "stdout",
     "output_type": "stream",
     "text": [
      "+-----------+------+-----------------+--------------+----------+------------------+--------+---------+---------+----------+---------+\n|Customer_id|Gender|             Name|          City|State Code|             State|Zip Code|  Country|Continent|  Birthday|Birthdate|\n+-----------+------+-----------------+--------------+----------+------------------+--------+---------+---------+----------+---------+\n|        301|Female|    Lilly Harding|WANDEARAH EAST|        SA|   South Australia|    5523|Australia|Australia|  7/3/1939|     NULL|\n|        325|Female|     Madison Hull|    MOUNT BUDD|        WA| Western Australia|    6522|Australia|Australia| 9/27/1979|     NULL|\n|        554|Female|    Claire Ferres|     WINJALLOK|       VIC|          Victoria|    3380|Australia|Australia| 5/26/1947|     NULL|\n|        786|  Male|Jai Poltpalingada|  MIDDLE RIVER|        SA|   South Australia|    5223|Australia|Australia| 9/17/1957|     NULL|\n|       1042|  Male|  Aidan Pankhurst| TAWONGA SOUTH|       VIC|          Victoria|    3698|Australia|Australia|11/19/1965|     NULL|\n|       1086|  Male|     Hayden Clegg|      TEMPLERS|        SA|   South Australia|    5371|Australia|Australia| 1/20/1954|     NULL|\n|       1133|  Male|  Nicholas Caffyn|JUBILEE POCKET|       QLD|        Queensland|    4802|Australia|Australia|11/22/1969|     NULL|\n|       1256|  Male|    Lincoln Jenks|      KULLOGUM|       QLD|        Queensland|    4660|Australia|Australia| 3/12/1950|     NULL|\n|       1314|  Male|     Isaac Israel|   EDITH RIVER|        NT|Northern Territory|     852|Australia|Australia|12/21/1965|     NULL|\n|       1568|  Male|      Luke Virtue|         KOTTA|       VIC|          Victoria|    3565|Australia|Australia| 7/25/1975|     NULL|\n|       1585|Female|   Anna Hallstrom|    GREEN LAKE|       VIC|          Victoria|    3401|Australia|Australia| 8/12/1990|     NULL|\n|       1626|Female|       Mary Leach|   NEDS CORNER|       VIC|          Victoria|    3496|Australia|Australia|10/17/1985|     NULL|\n|       1642|Female|     Ruby Ambrose|         TARLO|       NSW|   New South Wales|    2580|Australia|Australia|  3/3/1965|     NULL|\n|       1677|  Male|       Dean Innes|     ELLESMERE|       QLD|        Queensland|    4610|Australia|Australia|11/22/1964|     NULL|\n|       1817|Female|Laura Le Rennetel|     BEAUCHAMP|       VIC|          Victoria|    3579|Australia|Australia| 7/10/1986|     NULL|\n|       1863|Female|  Chelsea Watkins|    NAMBOUR DC|       QLD|        Queensland|    4560|Australia|Australia| 9/22/1984|     NULL|\n|       1945|  Male|Angus Beaurepaire|   GREENFIELDS|        WA| Western Australia|    6210|Australia|Australia| 9/20/1974|     NULL|\n|       2238|Female| Isabelle Cochran|     BRUCKNELL|       VIC|          Victoria|    3268|Australia|Australia|10/31/1969|     NULL|\n|       2248|  Male|      Rory Spargo|          JUNG|       VIC|          Victoria|    3401|Australia|Australia|12/15/1987|     NULL|\n|       2435|Female|      Lilian Hall|    BLAKEBROOK|       NSW|   New South Wales|    2480|Australia|Australia|  4/1/1968|     NULL|\n+-----------+------+-----------------+--------------+----------+------------------+--------+---------+---------+----------+---------+\nonly showing top 20 rows\n"
     ]
    }
   ],
   "source": [
    "customers_df.show()"
   ]
  },
  {
   "cell_type": "code",
   "execution_count": 0,
   "metadata": {
    "application/vnd.databricks.v1+cell": {
     "cellMetadata": {
      "byteLimit": 2048000,
      "rowLimit": 10000
     },
     "inputWidgets": {},
     "nuid": "603b7fb2-c99b-4289-bb93-31de0d29cb39",
     "showTitle": false,
     "tableResultSettingsMap": {},
     "title": ""
    },
    "colab": {
     "base_uri": "https://localhost:8080/"
    },
    "id": "j8b6FrZMAWFL",
    "outputId": "cc37da09-3f0a-4b5d-d1e5-027e2f7496a3"
   },
   "outputs": [
    {
     "output_type": "stream",
     "name": "stdout",
     "output_type": "stream",
     "text": [
      "root\n |-- Customer_id: string (nullable = true)\n |-- Gender: string (nullable = true)\n |-- Name: string (nullable = true)\n |-- City: string (nullable = true)\n |-- State Code: string (nullable = true)\n |-- State: string (nullable = true)\n |-- Zip Code: string (nullable = true)\n |-- Country: string (nullable = true)\n |-- Continent: string (nullable = true)\n |-- Birthday: string (nullable = true)\n |-- Birthdate: date (nullable = true)\n\n"
     ]
    }
   ],
   "source": [
    "customers_df.printSchema()"
   ]
  },
  {
   "cell_type": "code",
   "execution_count": 0,
   "metadata": {
    "application/vnd.databricks.v1+cell": {
     "cellMetadata": {
      "byteLimit": 2048000,
      "rowLimit": 10000
     },
     "inputWidgets": {},
     "nuid": "346c838b-9784-460f-92de-d3136b867bb6",
     "showTitle": false,
     "tableResultSettingsMap": {},
     "title": ""
    },
    "id": "Fa38JrLeAfjK"
   },
   "outputs": [],
   "source": [
    "customers2_df=customers_df.\\\n",
    "drop('Birthday').\\\n",
    "withColumnRenamed('Birthdate','Birthday')"
   ]
  },
  {
   "cell_type": "code",
   "execution_count": 0,
   "metadata": {
    "application/vnd.databricks.v1+cell": {
     "cellMetadata": {
      "byteLimit": 2048000,
      "rowLimit": 10000
     },
     "inputWidgets": {},
     "nuid": "ff19cf06-37e1-4fc8-9888-87410eeb1b28",
     "showTitle": false,
     "tableResultSettingsMap": {},
     "title": ""
    },
    "colab": {
     "base_uri": "https://localhost:8080/"
    },
    "id": "FlFBB9-NAue_",
    "outputId": "6f62c92b-a330-4473-85bb-f9cd844810cc"
   },
   "outputs": [
    {
     "output_type": "stream",
     "name": "stdout",
     "output_type": "stream",
     "text": [
      "+-----------+------+-----------------+--------------+----------+------------------+--------+---------+---------+--------+\n|Customer_id|Gender|             Name|          City|State Code|             State|Zip Code|  Country|Continent|Birthday|\n+-----------+------+-----------------+--------------+----------+------------------+--------+---------+---------+--------+\n|        301|Female|    Lilly Harding|WANDEARAH EAST|        SA|   South Australia|    5523|Australia|Australia|    NULL|\n|        325|Female|     Madison Hull|    MOUNT BUDD|        WA| Western Australia|    6522|Australia|Australia|    NULL|\n|        554|Female|    Claire Ferres|     WINJALLOK|       VIC|          Victoria|    3380|Australia|Australia|    NULL|\n|        786|  Male|Jai Poltpalingada|  MIDDLE RIVER|        SA|   South Australia|    5223|Australia|Australia|    NULL|\n|       1042|  Male|  Aidan Pankhurst| TAWONGA SOUTH|       VIC|          Victoria|    3698|Australia|Australia|    NULL|\n|       1086|  Male|     Hayden Clegg|      TEMPLERS|        SA|   South Australia|    5371|Australia|Australia|    NULL|\n|       1133|  Male|  Nicholas Caffyn|JUBILEE POCKET|       QLD|        Queensland|    4802|Australia|Australia|    NULL|\n|       1256|  Male|    Lincoln Jenks|      KULLOGUM|       QLD|        Queensland|    4660|Australia|Australia|    NULL|\n|       1314|  Male|     Isaac Israel|   EDITH RIVER|        NT|Northern Territory|     852|Australia|Australia|    NULL|\n|       1568|  Male|      Luke Virtue|         KOTTA|       VIC|          Victoria|    3565|Australia|Australia|    NULL|\n|       1585|Female|   Anna Hallstrom|    GREEN LAKE|       VIC|          Victoria|    3401|Australia|Australia|    NULL|\n|       1626|Female|       Mary Leach|   NEDS CORNER|       VIC|          Victoria|    3496|Australia|Australia|    NULL|\n|       1642|Female|     Ruby Ambrose|         TARLO|       NSW|   New South Wales|    2580|Australia|Australia|    NULL|\n|       1677|  Male|       Dean Innes|     ELLESMERE|       QLD|        Queensland|    4610|Australia|Australia|    NULL|\n|       1817|Female|Laura Le Rennetel|     BEAUCHAMP|       VIC|          Victoria|    3579|Australia|Australia|    NULL|\n|       1863|Female|  Chelsea Watkins|    NAMBOUR DC|       QLD|        Queensland|    4560|Australia|Australia|    NULL|\n|       1945|  Male|Angus Beaurepaire|   GREENFIELDS|        WA| Western Australia|    6210|Australia|Australia|    NULL|\n|       2238|Female| Isabelle Cochran|     BRUCKNELL|       VIC|          Victoria|    3268|Australia|Australia|    NULL|\n|       2248|  Male|      Rory Spargo|          JUNG|       VIC|          Victoria|    3401|Australia|Australia|    NULL|\n|       2435|Female|      Lilian Hall|    BLAKEBROOK|       NSW|   New South Wales|    2480|Australia|Australia|    NULL|\n+-----------+------+-----------------+--------------+----------+------------------+--------+---------+---------+--------+\nonly showing top 20 rows\n"
     ]
    }
   ],
   "source": [
    "customers2_df.show()"
   ]
  },
  {
   "cell_type": "code",
   "execution_count": 0,
   "metadata": {
    "application/vnd.databricks.v1+cell": {
     "cellMetadata": {
      "byteLimit": 2048000,
      "rowLimit": 10000
     },
     "inputWidgets": {},
     "nuid": "4c7f0963-b9e9-4cec-97d8-cae6bf555e65",
     "showTitle": false,
     "tableResultSettingsMap": {},
     "title": ""
    },
    "id": "k-bedbWwCX5k"
   },
   "outputs": [],
   "source": [
    "from pyspark.sql.functions import year,month,date_format"
   ]
  },
  {
   "cell_type": "code",
   "execution_count": 0,
   "metadata": {
    "application/vnd.databricks.v1+cell": {
     "cellMetadata": {
      "byteLimit": 2048000,
      "rowLimit": 10000
     },
     "inputWidgets": {},
     "nuid": "0f6eee93-5430-47d6-a25c-ca9efb655bc1",
     "showTitle": false,
     "tableResultSettingsMap": {},
     "title": ""
    },
    "id": "I0dNTX8KCdT8"
   },
   "outputs": [],
   "source": [
    "customers2_df = customers2_df.withColumns({'year': year('Birthday'),'month':month('Birthday'),'week_name':date_format('Birthday','EEEE')})"
   ]
  },
  {
   "cell_type": "code",
   "execution_count": 0,
   "metadata": {
    "application/vnd.databricks.v1+cell": {
     "cellMetadata": {
      "byteLimit": 2048000,
      "rowLimit": 10000
     },
     "inputWidgets": {},
     "nuid": "589c9285-1faf-4af3-9819-a9796fb6a2fd",
     "showTitle": false,
     "tableResultSettingsMap": {},
     "title": ""
    },
    "colab": {
     "base_uri": "https://localhost:8080/"
    },
    "id": "BHrMEFguDSpr",
    "outputId": "16f5c192-c791-462c-a663-5899da7d1891"
   },
   "outputs": [
    {
     "output_type": "stream",
     "name": "stdout",
     "output_type": "stream",
     "text": [
      "+-----------+------+-----------------+--------------+----------+------------------+--------+---------+---------+--------+----+-----+---------+\n|Customer_id|Gender|             Name|          City|State Code|             State|Zip Code|  Country|Continent|Birthday|year|month|week_name|\n+-----------+------+-----------------+--------------+----------+------------------+--------+---------+---------+--------+----+-----+---------+\n|        301|Female|    Lilly Harding|WANDEARAH EAST|        SA|   South Australia|    5523|Australia|Australia|    NULL|NULL| NULL|     NULL|\n|        325|Female|     Madison Hull|    MOUNT BUDD|        WA| Western Australia|    6522|Australia|Australia|    NULL|NULL| NULL|     NULL|\n|        554|Female|    Claire Ferres|     WINJALLOK|       VIC|          Victoria|    3380|Australia|Australia|    NULL|NULL| NULL|     NULL|\n|        786|  Male|Jai Poltpalingada|  MIDDLE RIVER|        SA|   South Australia|    5223|Australia|Australia|    NULL|NULL| NULL|     NULL|\n|       1042|  Male|  Aidan Pankhurst| TAWONGA SOUTH|       VIC|          Victoria|    3698|Australia|Australia|    NULL|NULL| NULL|     NULL|\n|       1086|  Male|     Hayden Clegg|      TEMPLERS|        SA|   South Australia|    5371|Australia|Australia|    NULL|NULL| NULL|     NULL|\n|       1133|  Male|  Nicholas Caffyn|JUBILEE POCKET|       QLD|        Queensland|    4802|Australia|Australia|    NULL|NULL| NULL|     NULL|\n|       1256|  Male|    Lincoln Jenks|      KULLOGUM|       QLD|        Queensland|    4660|Australia|Australia|    NULL|NULL| NULL|     NULL|\n|       1314|  Male|     Isaac Israel|   EDITH RIVER|        NT|Northern Territory|     852|Australia|Australia|    NULL|NULL| NULL|     NULL|\n|       1568|  Male|      Luke Virtue|         KOTTA|       VIC|          Victoria|    3565|Australia|Australia|    NULL|NULL| NULL|     NULL|\n|       1585|Female|   Anna Hallstrom|    GREEN LAKE|       VIC|          Victoria|    3401|Australia|Australia|    NULL|NULL| NULL|     NULL|\n|       1626|Female|       Mary Leach|   NEDS CORNER|       VIC|          Victoria|    3496|Australia|Australia|    NULL|NULL| NULL|     NULL|\n|       1642|Female|     Ruby Ambrose|         TARLO|       NSW|   New South Wales|    2580|Australia|Australia|    NULL|NULL| NULL|     NULL|\n|       1677|  Male|       Dean Innes|     ELLESMERE|       QLD|        Queensland|    4610|Australia|Australia|    NULL|NULL| NULL|     NULL|\n|       1817|Female|Laura Le Rennetel|     BEAUCHAMP|       VIC|          Victoria|    3579|Australia|Australia|    NULL|NULL| NULL|     NULL|\n|       1863|Female|  Chelsea Watkins|    NAMBOUR DC|       QLD|        Queensland|    4560|Australia|Australia|    NULL|NULL| NULL|     NULL|\n|       1945|  Male|Angus Beaurepaire|   GREENFIELDS|        WA| Western Australia|    6210|Australia|Australia|    NULL|NULL| NULL|     NULL|\n|       2238|Female| Isabelle Cochran|     BRUCKNELL|       VIC|          Victoria|    3268|Australia|Australia|    NULL|NULL| NULL|     NULL|\n|       2248|  Male|      Rory Spargo|          JUNG|       VIC|          Victoria|    3401|Australia|Australia|    NULL|NULL| NULL|     NULL|\n|       2435|Female|      Lilian Hall|    BLAKEBROOK|       NSW|   New South Wales|    2480|Australia|Australia|    NULL|NULL| NULL|     NULL|\n+-----------+------+-----------------+--------------+----------+------------------+--------+---------+---------+--------+----+-----+---------+\nonly showing top 20 rows\n"
     ]
    }
   ],
   "source": [
    "customers2_df.show()"
   ]
  },
  {
   "cell_type": "code",
   "execution_count": 0,
   "metadata": {
    "application/vnd.databricks.v1+cell": {
     "cellMetadata": {
      "byteLimit": 2048000,
      "rowLimit": 10000
     },
     "inputWidgets": {},
     "nuid": "f741578f-9c67-47f4-bb29-0102ff1b1216",
     "showTitle": false,
     "tableResultSettingsMap": {},
     "title": ""
    },
    "colab": {
     "base_uri": "https://localhost:8080/"
    },
    "id": "FMW2Rtj3DaFB",
    "outputId": "7e4a6b2b-7c74-4058-bff5-fe47883695cb"
   },
   "outputs": [
    {
     "output_type": "stream",
     "name": "stdout",
     "output_type": "stream",
     "text": [
      "+--------------------+\n|               State|\n+--------------------+\n|            Manitoba|\n|               Yukon|\n|  Northern Territory|\n|         Nova Scotia|\n|     South Australia|\n|   Western Australia|\n|            Victoria|\n|Northwest Territo...|\n|Newfoundland and ...|\n|             Alberta|\n|             Nunavut|\n|     New South Wales|\n|Australian Capita...|\n|       New Brunswick|\n|        Saskatchewan|\n|Prince Edward Island|\n|             Ontario|\n|    British Columbia|\n|              Quebec|\n|            Tasmania|\n+--------------------+\nonly showing top 20 rows\n"
     ]
    }
   ],
   "source": [
    "customers2_df.select('State').distinct().show()"
   ]
  },
  {
   "cell_type": "code",
   "execution_count": 0,
   "metadata": {
    "application/vnd.databricks.v1+cell": {
     "cellMetadata": {
      "byteLimit": 2048000,
      "rowLimit": 10000
     },
     "inputWidgets": {},
     "nuid": "7fa7f86a-ba44-44c8-a5c4-28f97e8e91de",
     "showTitle": false,
     "tableResultSettingsMap": {},
     "title": ""
    },
    "colab": {
     "base_uri": "https://localhost:8080/"
    },
    "id": "wROjOrgSDkf0",
    "outputId": "7c6961b0-71b2-494a-8969-840c57edd931"
   },
   "outputs": [
    {
     "output_type": "execute_result",
     "data": {
      "text/plain": [
       "512"
      ]
     },
     "execution_count": 25,
     "metadata": {},
     "output_type": "execute_result"
    }
   ],
   "source": [
    "customers2_df.select('State').distinct().count()"
   ]
  },
  {
   "cell_type": "code",
   "execution_count": 0,
   "metadata": {
    "application/vnd.databricks.v1+cell": {
     "cellMetadata": {
      "byteLimit": 2048000,
      "rowLimit": 10000
     },
     "inputWidgets": {},
     "nuid": "d73cfd51-35a1-4f85-b079-2505c3f8155a",
     "showTitle": false,
     "tableResultSettingsMap": {},
     "title": ""
    },
    "colab": {
     "base_uri": "https://localhost:8080/"
    },
    "id": "L3yobSA_DqM7",
    "outputId": "691c2c95-3931-47f9-ef36-79a251b44346"
   },
   "outputs": [
    {
     "output_type": "stream",
     "name": "stdout",
     "output_type": "stream",
     "text": [
      "+--------------+\n|       Country|\n+--------------+\n|       Germany|\n|        France|\n| United States|\n|         Italy|\n|        Canada|\n|     Australia|\n|United Kingdom|\n|   Netherlands|\n+--------------+\n\n"
     ]
    }
   ],
   "source": [
    "customers2_df.select('Country').distinct().show()"
   ]
  },
  {
   "cell_type": "code",
   "execution_count": 0,
   "metadata": {
    "application/vnd.databricks.v1+cell": {
     "cellMetadata": {
      "byteLimit": 2048000,
      "rowLimit": 10000
     },
     "inputWidgets": {},
     "nuid": "f15b6453-dfdd-42c4-9d24-31aa9288729b",
     "showTitle": false,
     "tableResultSettingsMap": {},
     "title": ""
    },
    "colab": {
     "base_uri": "https://localhost:8080/"
    },
    "id": "D_LLqV8CDvcB",
    "outputId": "741bf67f-322c-413c-e69a-f43f915c050a"
   },
   "outputs": [
    {
     "output_type": "stream",
     "name": "stdout",
     "output_type": "stream",
     "text": [
      "+----+\n|year|\n+----+\n|NULL|\n+----+\n\n"
     ]
    }
   ],
   "source": [
    "customers2_df.select('year').distinct().orderBy('year').show()"
   ]
  },
  {
   "cell_type": "code",
   "execution_count": 0,
   "metadata": {
    "application/vnd.databricks.v1+cell": {
     "cellMetadata": {},
     "inputWidgets": {},
     "nuid": "dff37bef-0f0b-4f69-adbc-f8ae14cc67ea",
     "showTitle": false,
     "tableResultSettingsMap": {},
     "title": ""
    },
    "colab": {
     "base_uri": "https://localhost:8080/"
    },
    "id": "NCoOaefLD651",
    "outputId": "32f6097f-9a94-42f4-a52e-9103debbe4f3"
   },
   "outputs": [
    {
     "output_type": "stream",
     "name": "stdout",
     "output_type": "stream",
     "text": [
      "+----+-----+\n|year|count|\n+----+-----+\n|1959|  243|\n|1990|  221|\n|1975|  217|\n|1977|  247|\n|1974|  212|\n|1955|  235|\n|1978|  217|\n|1961|  251|\n|1942|  212|\n|1939|  212|\n|1944|  216|\n|1952|  212|\n|1956|  235|\n|1997|  218|\n|1988|  213|\n|1994|  219|\n|1968|  264|\n|1951|  241|\n|1938|  217|\n|1973|  222|\n+----+-----+\nonly showing top 20 rows\n\n"
     ]
    }
   ],
   "source": [
    "customers2_df.groupBy('year').count().show()"
   ]
  },
  {
   "cell_type": "code",
   "execution_count": 0,
   "metadata": {
    "application/vnd.databricks.v1+cell": {
     "cellMetadata": {},
     "inputWidgets": {},
     "nuid": "12db8388-3f4c-4277-a487-091899abd71a",
     "showTitle": false,
     "tableResultSettingsMap": {},
     "title": ""
    },
    "colab": {
     "base_uri": "https://localhost:8080/"
    },
    "id": "m6_HLh72EIGU",
    "outputId": "8300f017-95bd-4cc5-c94c-c9a0093c6143"
   },
   "outputs": [
    {
     "output_type": "stream",
     "name": "stdout",
     "output_type": "stream",
     "text": [
      "+----+--------------------------+-----+\n|year|state                     |count|\n+----+--------------------------+-----+\n|1956|Queensland                |6    |\n|1956|Victoria                  |2    |\n|1944|Quebec                    |6    |\n|1952|Saskatchewan              |2    |\n|1995|Freistaat Th�ringen       |2    |\n|1959|Rheinland-Pfalz           |3    |\n|1975|Baden-W�rttemberg         |2    |\n|1984|Freistaat Th�ringen       |1    |\n|1993|Rheinland-Pfalz           |5    |\n|1990|Schleswig-Holstein        |2    |\n|1999|Rheinland-Pfalz           |2    |\n|1961|Hamburg                   |1    |\n|1982|Nordrhein-Westfalen       |1    |\n|1998|Niedersachsen             |1    |\n|1960|Provence-Alpes-C�te d'Azur|2    |\n|1941|Centre                    |1    |\n|1950|Nord-Pas-de-Calais        |1    |\n|1980|Novara                    |1    |\n|1955|Siena                     |2    |\n|1976|Napoli                    |1    |\n+----+--------------------------+-----+\nonly showing top 20 rows\n\n"
     ]
    }
   ],
   "source": [
    "customers2_df.groupBy('year','state').count().show(truncate=False)"
   ]
  }
 ],
 "metadata": {
  "application/vnd.databricks.v1+notebook": {
   "computePreferences": null,
   "dashboards": [],
   "environmentMetadata": null,
   "inputWidgetPreferences": null,
   "language": "python",
   "notebookMetadata": {
    "pythonIndentUnit": 4
   },
   "notebookName": "kit_pyspark_file_dataframesss",
   "widgets": {}
  },
  "colab": {
   "provenance": []
  },
  "kernelspec": {
   "display_name": "Python 3",
   "name": "python3"
  },
  "language_info": {
   "name": "python"
  }
 },
 "nbformat": 4,
 "nbformat_minor": 0
}